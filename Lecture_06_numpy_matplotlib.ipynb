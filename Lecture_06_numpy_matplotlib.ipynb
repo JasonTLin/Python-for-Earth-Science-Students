{
 "cells": [
  {
   "cell_type": "markdown",
   "metadata": {},
   "source": [
    "### Review of lecture 5\n",
    "\n",
    "In lecture 5 we learned about functions and modules.  Functions are bits of code that get used more than once.  They follow this form:\n",
    "\n",
    "def funcname(some optional variables):\n",
    "\n",
    "    \"\"\" Doc string \"\"\"\n",
    "    \n",
    "    some actions.\n",
    "    \n",
    "    optional return statement\n",
    "    \n",
    "modules are files with one or more functions that can be called by any program that imports your module."
   ]
  },
  {
   "cell_type": "markdown",
   "metadata": {},
   "source": [
    "### In this lecture we will:\n",
    "\n",
    "1) Get a first peek at the very useful Python packages called **NumPy** and **matplotlib**.   \n",
    "\n"
   ]
  },
  {
   "cell_type": "markdown",
   "metadata": {},
   "source": [
    "In the last lecture we learned how to create modules which is a file that contains one or more functions and other things.   \n",
    "\n",
    "A Python _package_ contains a collection of modules that are related to each other.  Our first _package_ is **NumPy**.  \n",
    "\n",
    "\n",
    "### A first look at NumPy\n",
    "\n",
    "O.K.  First of all - how do you pronounce \"NumPy\"'? It should be pronounced \"Num\" as in \"Number\" and \"Pie\" as in, well, pie, or Python.  It is way more fun to say Numpee!\n",
    "\n",
    "Now with that out of the way, what can we do with NumPy?  Turns out, a whole heck of a lot!  But for now, we will just scratch the surface.   It can, for example, give us the value of the square root of a number as **numpy.sqrt()**.  Note how the package name comes first, then the function we wish to use (just as in our example from the last lecture).  \n",
    "\n",
    "To use **NumPy** functions, we must first **import** the package with the command **import**.  It may take a while the first time you use **import** after installing Python, but after that it should load quickly.  \n",
    "\n",
    "There are many different ways you can use the **import** command. Each way allows your program to access  the functions and variables defined in the imported package, but differs in how you call the function after importing: "
   ]
  },
  {
   "cell_type": "code",
   "execution_count": 1,
   "metadata": {
    "collapsed": false
   },
   "outputs": [
    {
     "data": {
      "text/plain": [
       "1.4142135623730951"
      ]
     },
     "execution_count": 1,
     "metadata": {},
     "output_type": "execute_result"
    }
   ],
   "source": [
    "import numpy\n",
    "\n",
    "#This makes all the functions in NumPy available to you, \n",
    "#but you have to call them with the numpy.FUNC() syntax or numpy.VAR:\n",
    "\n",
    "numpy.sqrt(2)\n"
   ]
  },
  {
   "cell_type": "code",
   "execution_count": 2,
   "metadata": {
    "collapsed": false
   },
   "outputs": [
    {
     "data": {
      "text/plain": [
       "1.4142135623730951"
      ]
     },
     "execution_count": 2,
     "metadata": {},
     "output_type": "execute_result"
    }
   ],
   "source": [
    "# Here is another way to import a module:  \n",
    "import numpy as np  # or any other variable e.g.:  N\n",
    "# This does the same as the first, but allows you to set NumPy as a variable\n",
    "\n",
    "# In this case, you substitute \"np\" for numpy:\n",
    "\n",
    "np.sqrt(2)  # or N.pi in the second case.\n",
    "\n",
    "\n"
   ]
  },
  {
   "cell_type": "markdown",
   "metadata": {},
   "source": [
    "To import all the functions from NumPy: "
   ]
  },
  {
   "cell_type": "code",
   "execution_count": 3,
   "metadata": {
    "collapsed": false
   },
   "outputs": [
    {
     "data": {
      "text/plain": [
       "1.4142135623730951"
      ]
     },
     "execution_count": 3,
     "metadata": {},
     "output_type": "execute_result"
    }
   ],
   "source": [
    "from numpy  import *\n",
    "\n",
    "# now all the functions are available directly, without the initial module name: \n",
    "\n",
    "sqrt(2)\n",
    "\n"
   ]
  },
  {
   "cell_type": "markdown",
   "metadata": {},
   "source": [
    "\\* imports all the functions into the local namespace, which is a heavy load on your memory. Alternatively, you can import the few, specific functions you'll use,  **sqrt**: \n"
   ]
  },
  {
   "cell_type": "code",
   "execution_count": 4,
   "metadata": {
    "collapsed": false
   },
   "outputs": [
    {
     "data": {
      "text/plain": [
       "2.0"
      ]
     },
     "execution_count": 4,
     "metadata": {},
     "output_type": "execute_result"
    }
   ],
   "source": [
    "from numpy import sqrt # square root\n",
    "\n",
    "sqrt(4)\n"
   ]
  },
  {
   "cell_type": "markdown",
   "metadata": {},
   "source": [
    "Did you notice how \"sqrt(4)\", where 4 was an integer, returned a floating point variable (2.0)? \n",
    "\n"
   ]
  },
  {
   "cell_type": "markdown",
   "metadata": {},
   "source": [
    "**TIP**:  I tend to import the **NumPy** package using the **np** option above.  That way  I know where the functions I'm using come from. This is useful, becuase we don't use or know ALL of the functions available in any given package. A function defined in the package could conflict with one defined in your program. Similarly, two different packages or modules could have the same function or variable name.\n",
    "\n",
    "### NumPy functions\n",
    "\n",
    "Here is a (partial) list of some useful **NumPy** functions:\n",
    "\n"
   ]
  },
  {
   "cell_type": "markdown",
   "metadata": {},
   "source": [
    "|function | purpose|\n",
    "|------------ |--------------|\n",
    "|absolute(x)  | absolute value|\n",
    "| arccos(x)   |arccosine |\n",
    "| arcsin(x)    | arcsine |\n",
    "| arctan(x)    | arctangent |\n",
    "| arctan2(y,x)  |arctangent of y/x in correct quadrant| \n",
    "| cos(x)        |cosine |\n",
    "| cosh(x)      | hyperbolic cosine |\n",
    "| exp(x)      |  exponential |\n",
    "| log(x)      |  natural logarithm |\n",
    "| log10(x)    |  base 10 log |\n",
    "| sin(x)       | sine |\n",
    "| sinh(x)     |  hyperbolic sine |\n",
    "| sqrt(x)    |   square root |\n",
    "| tan(x)      |  tangent |\n",
    "| tanh(x)    |   hyperbolic tangent |\n"
   ]
  },
  {
   "cell_type": "markdown",
   "metadata": {},
   "source": [
    "\n",
    "\n",
    "### Numpy attributes\n",
    "\n",
    "**NumPy** has more than just _functions_; it also has _attributes_ which are things like the value of $\\pi$.  \n",
    "\n"
   ]
  },
  {
   "cell_type": "code",
   "execution_count": 5,
   "metadata": {
    "collapsed": false
   },
   "outputs": [
    {
     "data": {
      "text/plain": [
       "3.141592653589793"
      ]
     },
     "execution_count": 5,
     "metadata": {},
     "output_type": "execute_result"
    }
   ],
   "source": [
    "np.pi"
   ]
  },
  {
   "cell_type": "markdown",
   "metadata": {},
   "source": [
    "**TIP**:    In the trigonometric functions,  the argument is in RADIANS!.You can convert between degrees and radians by multiplying by: np.pi/180.   OR you can convert using the **NumPy** functions **np.degrees()** which converts radians to degrees and **np.radians()** which converts degrees to radians.  \n",
    "\n",
    "\n",
    "Also notice how the functions have parentheses, as opposed to **np.pi** which does not.  The difference is that **np.pi** is not a function but an attribute. It is a variable defined in **NumPy** that you can access. Every time you call the variable **np.pi**, it returns the value, $\\pi$. \n",
    "\n",
    "\n"
   ]
  },
  {
   "cell_type": "markdown",
   "metadata": {},
   "source": [
    "### Practice with NumPy attributes\n",
    "\n",
    "- print out the value of **e** using the **np.e** attribute.  "
   ]
  },
  {
   "cell_type": "markdown",
   "metadata": {},
   "source": [
    "### Using NumPy Functions\n",
    "\n",
    "As already mentioned, **NumPy** has many math functions.   We will use a few to generate some data sets that we can then plot using **matplotlib** a different Python module. \n",
    "\n",
    "First, let's make a list of angles ($\\theta$ or **theta**) around a circle.  We begin with the list of angles in degrees, convert them to radians (using **np.radians( )**), then construct a list of sines of those angles.  "
   ]
  },
  {
   "cell_type": "code",
   "execution_count": 6,
   "metadata": {
    "collapsed": false
   },
   "outputs": [],
   "source": [
    "thetas_in_degrees=range(360) # list of angles from 0 to 359 at one degree intervals\n",
    "# uncomment the following line, if you'd like to print the list \n",
    "#print thetas_in_degrees\n",
    "thetas_in_radians=np.radians(thetas_in_degrees) # convert to radians\n",
    "sines=np.sin(thetas_in_radians) # calculate the sine values for all the thetas\n"
   ]
  },
  {
   "cell_type": "markdown",
   "metadata": {},
   "source": [
    "### Plotting data \n",
    "\n",
    "Now that we've generated some data, we would like to look at it.  The easiest way to do this is using the package **matplotlib** which has many plotting functions, among them a whole module called **pyplot**. We **import** the **matplotlib.pyplot** module as **plt**. \n",
    "\n",
    "We've also included one more line that tells **pyplot** to plot the image within the notebook:  **%matplotlib inline**."
   ]
  },
  {
   "cell_type": "code",
   "execution_count": 7,
   "metadata": {
    "collapsed": false
   },
   "outputs": [
    {
     "data": {
      "image/png": "[encoded data removed]",
      "text/plain": [
       "<matplotlib.figure.Figure at 0x112a16668>"
      ]
     },
     "metadata": {},
     "output_type": "display_data"
    }
   ],
   "source": [
    "import matplotlib.pyplot as plt\n",
    "%matplotlib inline\n",
    "\n",
    "plt.plot(thetas_in_degrees,sines); # plot the sines with the angles"
   ]
  },
  {
   "cell_type": "markdown",
   "metadata": {},
   "source": [
    "### Practice with NumPy functions and simple matplotlib plots\n",
    "\n",
    "- Make a list with integers between 0 and 180. \n",
    "- Convert them to radians\n",
    "- Create an array of cosines for the radians array\n",
    "- Plot the cosines against the list of angles in degrees. "
   ]
  },
  {
   "cell_type": "markdown",
   "metadata": {},
   "source": [
    "### Reading in text files\n",
    "\n",
    "One VERY useful function in **numpy** is to read data sets into an array.  Here we will read in data from: http://ds.iris.edu/wilber3/find_event using the function **np.loadtext()**.  \n",
    "\n",
    "I chose the Christmas Day, 2016 magnitude 7.6 Earthquake  in Chile (latitude=-43.42, longitude=-73.95).  It was recorded  at a seismic station run by Scripps called \"Pinyon Flat Observatory\" (PFO, latitude=33.3, longitude=-115.7). "
   ]
  },
  {
   "cell_type": "code",
   "execution_count": 9,
   "metadata": {
    "collapsed": false
   },
   "outputs": [
    {
     "name": "stdout",
     "output_type": "stream",
     "text": [
      "[  1807.   1749.   1694. ..., -14264. -14888. -15489.]\n"
     ]
    }
   ],
   "source": [
    "EQ=np.loadtxt('Datasets/SeismicRecord/earthquake.txt') # read in data\n",
    "print (EQ)"
   ]
  },
  {
   "cell_type": "markdown",
   "metadata": {},
   "source": [
    "Notice that EQ is NOT a **list** (it would have commas).  In fact it is a new data structure, an N-dimensional array.  We'll learn more about the _ndarray_  data structure in the next lecture. "
   ]
  },
  {
   "cell_type": "code",
   "execution_count": 10,
   "metadata": {
    "collapsed": false
   },
   "outputs": [
    {
     "data": {
      "text/plain": [
       "numpy.ndarray"
      ]
     },
     "execution_count": 10,
     "metadata": {},
     "output_type": "execute_result"
    }
   ],
   "source": [
    "type(EQ)"
   ]
  },
  {
   "cell_type": "markdown",
   "metadata": {},
   "source": [
    "Let's plot the earthquake data.  "
   ]
  },
  {
   "cell_type": "code",
   "execution_count": 11,
   "metadata": {
    "collapsed": false
   },
   "outputs": [
    {
     "data": {
      "image/png": "[encoded data removed]",
      "text/plain": [
       "<matplotlib.figure.Figure at 0x116e028d0>"
      ]
     },
     "metadata": {},
     "output_type": "display_data"
    }
   ],
   "source": [
    "plt.plot(EQ); # the semi-colon suppresses some annoying jibberish, try taking it out!"
   ]
  },
  {
   "cell_type": "markdown",
   "metadata": {},
   "source": [
    "Here, **plt.plot( )** plots the array **EQ** against the index number for the elements in the array because we didn't pass a second argument. \n",
    "\n",
    "\n",
    "\n",
    "We can decorate this plot in many ways.  For example, we can add axis labels and truncate the data, or change the color of the line to name a few:  "
   ]
  },
  {
   "cell_type": "code",
   "execution_count": 12,
   "metadata": {
    "collapsed": false
   },
   "outputs": [
    {
     "data": {
      "image/png": "[encoded data removed]",
      "text/plain": [
       "<matplotlib.figure.Figure at 0x116f4b780>"
      ]
     },
     "metadata": {},
     "output_type": "display_data"
    }
   ],
   "source": [
    "plt.plot(EQ,'r-') # plots as a red line\n",
    "plt.xlabel('Arbitrary Time') # puts a label on the X axis\n",
    "plt.ylabel('Velocity'); # puts a label on the Y axis"
   ]
  },
  {
   "cell_type": "markdown",
   "metadata": {},
   "source": [
    "### Practice with text files\n",
    "- Create a list of numbers ranging from 1931 to 2016\n",
    "- Read in 'Datasets/rainFall/Avg_Rain.txt' into an ndarray using NumPy\n",
    "- Plot the annual average rainfall against your list of numbers\n",
    "- Label the x and y axes."
   ]
  },
  {
   "cell_type": "markdown",
   "metadata": {
    "collapsed": true
   },
   "source": [
    "### Assignment #2\n",
    "\n",
    "- Make a notebook and change the name of the notebook to: YourLastName_02\n",
    "    for example,  Asefaw_02\n",
    "- In a **markdown** cell, write a description of what the notebook does\n",
    "- Create a list of numbers from 0 to 100\n",
    "- Create another list that is empty\n",
    "- Write a **for** loop that takes the square root of all the values in your list of numbers (using **np.sqrt**) and appends them to the empty list.  \n",
    "-Print out all the numbers that are divisible by 4 (using the modulo operator).\n",
    "- Plot the square roots against the original list.  \n",
    "- Create a dictionary with at least 4 key:value pairs\n",
    "\n",
    "- Write your own module that contains at least four functions and uses a dictionary and list . Include a doc string in your module and a comment before each function that briefly describes the function\n",
    "- Import the module into your notebook and call all of the functions. \n",
    "\n",
    "Your code must be fully commented.  \n",
    "\n",
    "turn in your notebook on the tritoned.ucsd.edu website BEFORE the start of class next Friday. \n",
    "\n",
    "You will recieve a \"zero\" if the assignment is late,  copied from someone else, or not fully commented.  If the degree of copying is serious enough, you WILL be reported, so just don't do it.  \n",
    "\n",
    "If you have trouble - contact the TA or the instructor - we are here to help!  "
   ]
  }
 ],
 "metadata": {
  "kernelspec": {
   "display_name": "Python 3",
   "language": "python",
   "name": "python3"
  },
  "language_info": {
   "codemirror_mode": {
    "name": "ipython",
    "version": 3
   },
   "file_extension": ".py",
   "mimetype": "text/x-python",
   "name": "python",
   "nbconvert_exporter": "python",
   "pygments_lexer": "ipython3",
   "version": "3.6.0"
  }
 },
 "nbformat": 4,
 "nbformat_minor": 0
}
