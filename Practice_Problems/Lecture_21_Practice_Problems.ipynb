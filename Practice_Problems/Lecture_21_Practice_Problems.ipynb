{
 "cells": [
  {
   "cell_type": "markdown",
   "metadata": {},
   "source": [
    "# Practice Problems\n",
    "### Lecture 21\n",
    "Answer each number in a separate cell\n",
    "\n",
    "Rename the notebook with your lastName and the lecture \n",
    "    \n",
    "    ex. AsefawH_21\n",
    "    \n",
    "Turn this notebook into triton-ed by the end of class"
   ]
  },
  {
   "cell_type": "markdown",
   "metadata": {
    "collapsed": true
   },
   "source": [
    "# 1. Meshgrid and contour\n",
    "- Write a  lambda function for the equation \n",
    "$$ c=f(a,b)=(1-a^2+b^3) e^{-(a^2+b^2)/2}$$.\n",
    "- Create two arrays- a and b- that range from -3 to 3 in increments of 0.1.\n",
    "- Make a meshgrid from a and b.\n",
    "- Evaluate c for the meshgrid\n",
    "- Make a contour plot of a,b and c.  "
   ]
  },
  {
   "cell_type": "markdown",
   "metadata": {},
   "source": [
    "# 2. Mkigrf and maps\n",
    "- Lisa moved to San Diego in 1983.  Calculate the inclination, declination, and strength of the field that year.  Use the following code cell and the module mkigrf\n",
    "- Create a map of the strength of the field in 1983\n",
    "    - include coastlines\n",
    "    - a title\n",
    "    - a color bar \n",
    "- Make a plot of declination in San Diego (33,-117) over the last 100 years"
   ]
  },
  {
   "cell_type": "code",
   "execution_count": null,
   "metadata": {
    "collapsed": true
   },
   "outputs": [],
   "source": [
    "def magMap(date,**kwargs):\n",
    "    \"\"\"\n",
    "    generates the data for a map of the magnetic field. \n",
    "    Inputs: \n",
    "    required: \n",
    "        date = decimal year for evaluation (between 1900 and 2020)\n",
    "    optional: \n",
    "        lon_0 = desired zero longitude\n",
    "    \n",
    "    Returns: \n",
    "    \n",
    "    Bdec = declinations\n",
    "    Binc = inclinations\n",
    "    B = field strength (in microtesla)\n",
    "    lons = array of longitudes\n",
    "    lats = array of latitudes\n",
    "\n",
    "    \"\"\"\n",
    "    if 'lon_0' in kwargs.keys(): # check if there are keyword arguments\n",
    "        lon_0=kwargs['lon_0'] # if lon_0 is set, use that one\n",
    "    else: # otherwise..... \n",
    "        lon_0=0. # set the default lon_0 to 0. \n",
    "    \n",
    "    incr=10 # we can vary to the resolution of the model\n",
    "    lonmax=(lon_0+180.)%360+incr # get some parameters for our arrays of lat/lon\n",
    "    lonmin=(lon_0-180.)\n",
    "    latmax=90+incr\n",
    "    lons=np.arange(lonmin,lonmax,incr) # make a 1D array of longitudes (like elons)\n",
    "    lats=np.arange(-90,latmax,incr)# make a 1D array of longitudes (like elats)\n",
    "    \n",
    "    \n",
    "    # set up some containers for the field elements\n",
    "    lenLats, lenLons = len(lats), len(lons)\n",
    "    B=np.zeros((lenLats,lenLons))\n",
    "    Binc=np.zeros((lenLats,lenLons))\n",
    "    Bdec=np.zeros((lenLats,lenLons))\n",
    "    Brad=np.zeros((lenLats,lenLons))\n",
    "    \n",
    "    for j in range(lenLats): # step through the latitudes\n",
    "        for i in range(lenLons): # and the longitudes\n",
    "            x,y,z,f=mkigrf.doigrf(lons[i],lats[j],date)  # get the field elements\n",
    "            Dec,Inc,Int=mkigrf.cart2dir(x,y,z) # turn them into polar coordites\n",
    "            B[j][i]=Int*1e-3 # convert the string to microtesla (from nT)\n",
    "            Binc[j][i]=Inc # store the inclination value\n",
    "            Bdec[j][i]=Dec # store the declination value\n",
    "    return Bdec,Binc,B,lons,lats # return the arrays.  "
   ]
  }
 ],
 "metadata": {
  "kernelspec": {
   "display_name": "Python 3",
   "language": "python",
   "name": "python3"
  },
  "language_info": {
   "codemirror_mode": {
    "name": "ipython",
    "version": 3
   },
   "file_extension": ".py",
   "mimetype": "text/x-python",
   "name": "python",
   "nbconvert_exporter": "python",
   "pygments_lexer": "ipython3",
   "version": "3.6.3"
  }
 },
 "nbformat": 4,
 "nbformat_minor": 2
}
