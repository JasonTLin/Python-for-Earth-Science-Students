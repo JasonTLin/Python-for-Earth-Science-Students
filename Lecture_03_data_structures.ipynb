{
 "cells": [
  {
   "cell_type": "markdown",
   "metadata": {},
   "source": [
    "### Review of Lecture 2\n",
    "\n",
    "We learned about:\n",
    "\n",
    "- variable types and naming conventions\n",
    "\n",
    "- operations\n",
    "\n",
    "- indexing and slicing strings\n",
    "\n",
    "- a few built-in python functions"
   ]
  },
  {
   "cell_type": "markdown",
   "metadata": {},
   "source": [
    "### In this lecture we will:\n",
    "\n",
    "- Learn about collections of variables: data structures \n",
    "\n",
    "- Learn about _objects_ \n",
    "- Learn about _methods_ which allow you to do things to _objects_"
   ]
  },
  {
   "cell_type": "markdown",
   "metadata": {},
   "source": [
    "## Data Structures\n",
    "\n",
    "Now that we know about variables, it would be handy to group them together in some way.  In Python there are many ways to do this: **lists, tuples**,  **dictionaries**, and **sets**, among others.    These group arbitrary variables together, (e.g., strings and integers and floats) in containers.\n",
    "\n",
    "We'll go through some of the various data structures, starting with **lists**.\n",
    "\n",
    "### Lists \n",
    "\n",
    "- Lists are denoted with [ ]  and can contain any arbitrary set of elements, including other lists!\n",
    "\n",
    "- Elements in the list are referenced by an index number.  Similar to the strings we encountered in the last lecture, the indices begin at 0.  Remember that this is different from what we're used to,  which would be that the first element is index 1.\n",
    "\n",
    "- You can  count from the end to the beginning by starting with -1 (the last item in the list), -2 (second to last), etc. \n",
    "\n",
    "- Lists have _methods_ that allow items to  be sorted, deleted, inserted, sliced, counted, concatenated, replaced, added on, etc.\n",
    "\n",
    "\n",
    "Let's take a look at some examples: \n",
    "\n"
   ]
  },
  {
   "cell_type": "code",
   "execution_count": 14,
   "metadata": {},
   "outputs": [
    {
     "data": {
      "text/plain": [
       "['a', 2.0, '400', 'spam', 42, [24, 2]]"
      ]
     },
     "execution_count": 14,
     "metadata": {},
     "output_type": "execute_result"
    }
   ],
   "source": [
    "mylist=['a',2.0,'400','spam',42,[24,2]] # defines a list\n",
    "mylist # prints the list\n"
   ]
  },
  {
   "cell_type": "code",
   "execution_count": 15,
   "metadata": {},
   "outputs": [
    {
     "data": {
      "text/plain": [
       "'400'"
      ]
     },
     "execution_count": 15,
     "metadata": {},
     "output_type": "execute_result"
    }
   ],
   "source": [
    "mylist[2] # print the third element in the list (starting from zero)"
   ]
  },
  {
   "cell_type": "code",
   "execution_count": 16,
   "metadata": {},
   "outputs": [
    {
     "data": {
      "text/plain": [
       "[24, 2]"
      ]
     },
     "execution_count": 16,
     "metadata": {},
     "output_type": "execute_result"
    }
   ],
   "source": [
    "mylist[-1] # print the last element\n",
    "\n"
   ]
  },
  {
   "cell_type": "markdown",
   "metadata": {},
   "source": [
    "But if you want to print, say, the last three elements, you can't do this: "
   ]
  },
  {
   "cell_type": "code",
   "execution_count": 17,
   "metadata": {},
   "outputs": [
    {
     "data": {
      "text/plain": [
       "['spam', 42]"
      ]
     },
     "execution_count": 17,
     "metadata": {},
     "output_type": "execute_result"
    }
   ],
   "source": [
    "mylist[-3:-1]"
   ]
  },
  {
   "cell_type": "markdown",
   "metadata": {},
   "source": [
    "This is because the slice **list[begin:end]** means from **begin** up to and not including **end**.  To actually slice out the last three elements, you can do it this way:"
   ]
  },
  {
   "cell_type": "code",
   "execution_count": 18,
   "metadata": {},
   "outputs": [
    {
     "data": {
      "text/plain": [
       "['spam', 42, [24, 2]]"
      ]
     },
     "execution_count": 18,
     "metadata": {},
     "output_type": "execute_result"
    }
   ],
   "source": [
    "mylist[-3:]"
   ]
  },
  {
   "cell_type": "markdown",
   "metadata": {},
   "source": [
    "Unlike strings, you can change list elements in place:"
   ]
  },
  {
   "cell_type": "code",
   "execution_count": 19,
   "metadata": {},
   "outputs": [
    {
     "data": {
      "text/plain": [
       "['a', 26.3, '400', 'spam', 42, [24, 2]]"
      ]
     },
     "execution_count": 19,
     "metadata": {},
     "output_type": "execute_result"
    }
   ],
   "source": [
    "mylist[1]=26.3   # replaces the second element\n",
    "mylist"
   ]
  },
  {
   "cell_type": "code",
   "execution_count": 20,
   "metadata": {},
   "outputs": [
    {
     "data": {
      "text/plain": [
       "['a', 26.3, '400', 42, [24, 2]]"
      ]
     },
     "execution_count": 20,
     "metadata": {},
     "output_type": "execute_result"
    }
   ],
   "source": [
    "del mylist[3] # deletes the fourth element \n",
    "mylist"
   ]
  },
  {
   "cell_type": "markdown",
   "metadata": {},
   "source": [
    "Printing out variables has limited use (mostly for debugging or giving you a final answer.  \n",
    "\n",
    "Like strings, you can  slice out a chunk of the middle of a list and assign it to another variable:"
   ]
  },
  {
   "cell_type": "code",
   "execution_count": 21,
   "metadata": {},
   "outputs": [
    {
     "data": {
      "text/plain": [
       "[26.3, '400']"
      ]
     },
     "execution_count": 21,
     "metadata": {},
     "output_type": "execute_result"
    }
   ],
   "source": [
    "newlist=mylist[1:3] # takes the 2nd and third values and puts in newlist\n",
    "#note it takes out up to but not including the last item number \n",
    "newlist"
   ]
  },
  {
   "cell_type": "markdown",
   "metadata": {},
   "source": [
    "Making copies of lists behaves in ways you might not expect if you are coming from other programming languages.  We will learn more about copys of lists in later lectures, but here are some pro tips for now.  \n",
    "\n",
    "You can assign a list to another variable name like this: "
   ]
  },
  {
   "cell_type": "code",
   "execution_count": 22,
   "metadata": {
    "collapsed": true
   },
   "outputs": [],
   "source": [
    "mycopy=mylist\n"
   ]
  },
  {
   "cell_type": "markdown",
   "metadata": {},
   "source": [
    "**mycopy** is now a copy of **mylist**.  But it is inextricably bound to the original, so if I change one, I change the other: "
   ]
  },
  {
   "cell_type": "code",
   "execution_count": 23,
   "metadata": {},
   "outputs": [
    {
     "name": "stdout",
     "output_type": "stream",
     "text": [
      "['a', 26.3, 'new', 42, [24, 2]]\n",
      "['a', 26.3, 'new', 42, [24, 2]]\n"
     ]
    }
   ],
   "source": [
    "mylist[2]='new'\n",
    "print (mylist)\n",
    "print (mycopy)\n",
    "\n"
   ]
  },
  {
   "cell_type": "markdown",
   "metadata": {},
   "source": [
    "See how **mycopy** was changed when we changed mylist?\n",
    "\n",
    "To spawn a list that is an independent object, you can do this:  "
   ]
  },
  {
   "cell_type": "code",
   "execution_count": 24,
   "metadata": {},
   "outputs": [
    {
     "name": "stdout",
     "output_type": "stream",
     "text": [
      "['a', 26.3, 'new', 42, [24, 2]]\n"
     ]
    },
    {
     "data": {
      "text/plain": [
       "['a', 26.3, 1003, 42, [24, 2]]"
      ]
     },
     "execution_count": 24,
     "metadata": {},
     "output_type": "execute_result"
    }
   ],
   "source": [
    "mycopy=mylist[:]\n",
    "# now try changing mylist... \n",
    "mylist[2]=1003\n",
    "print (mycopy) # if there are two things to print, use 'print'\n",
    "mylist # otherwise only prints the last one"
   ]
  },
  {
   "cell_type": "markdown",
   "metadata": {},
   "source": [
    "See how  mycopy  stayed the way it was, even as mylist changed?  "
   ]
  },
  {
   "cell_type": "markdown",
   "metadata": {},
   "source": [
    "#### Obects in Python\n",
    "\n",
    "We have been using the word \"object\" a lot in this lecture.  So what is an _object_ in Python?  \n",
    "\n",
    "An object in Python is a collection of attributes and methods. The variable **mylist** is an example of an object - a _list_ object.   \n",
    "\n",
    "So what is so special about _objects_?  Python objects have _methods_ which allow you to do things to the object.  Methods have the form:\n",
    "\n",
    "**object.method( )**\n",
    "\n",
    "or \n",
    "\n",
    "**object.method(parameter, parameter2,...)**\n",
    "\n",
    "Let's look at a few starting with the **.append( )** method (which appends something to the end of a list). "
   ]
  },
  {
   "cell_type": "code",
   "execution_count": 25,
   "metadata": {},
   "outputs": [
    {
     "name": "stdout",
     "output_type": "stream",
     "text": [
      "['a', 26.3, 1003, 42, [24, 2], 'me too']\n"
     ]
    }
   ],
   "source": [
    "mylist.append('me too') # append() is a method that appends the parameter 'me too' to the list\n",
    "print (mylist)"
   ]
  },
  {
   "cell_type": "markdown",
   "metadata": {},
   "source": [
    "**.count()** is another method.  Let's see what it does: "
   ]
  },
  {
   "cell_type": "code",
   "execution_count": 26,
   "metadata": {},
   "outputs": [
    {
     "data": {
      "text/plain": [
       "2"
      ]
     },
     "execution_count": 26,
     "metadata": {},
     "output_type": "execute_result"
    }
   ],
   "source": [
    "mylist.append('me too') \n",
    "mylist.count('me too') "
   ]
  },
  {
   "cell_type": "markdown",
   "metadata": {},
   "source": [
    "The method **.count()**  returns the number of times the _argument_ occurs in the list.  [NB: the _argument_ is the stuff inside the parentheses of the method - in this case 'me too'.]  \n",
    "\n",
    "Another very handy list method is the **.index()** method.  It returns the position of the argument in the list: "
   ]
  },
  {
   "cell_type": "code",
   "execution_count": 27,
   "metadata": {},
   "outputs": [
    {
     "data": {
      "text/plain": [
       "3"
      ]
     },
     "execution_count": 27,
     "metadata": {},
     "output_type": "execute_result"
    }
   ],
   "source": [
    "mylist.index(42) "
   ]
  },
  {
   "cell_type": "markdown",
   "metadata": {},
   "source": [
    "These are just a few of the methods for lists. To view all of the methods for a list object, see:\n",
    "https://docs.python.org/3.6/tutorial/datastructures.html"
   ]
  },
  {
   "cell_type": "markdown",
   "metadata": {},
   "source": [
    "### Making lists\n",
    "\n",
    "Earlier, we made a list by defining a variable with square brackets. We added to that list with **append( )**.  Another way to generate a list is to use **range( )**, which is one of the python  _built-in functions_ we mentioned in Lecture 2.  **range( )** is a _list generator_ and can be used to generate a list of integers between two numbers, , the _start_ and _end_, where each number is separated by a specified interval. Here Python 3 is a bit different from earlier versions of python in that older versions (Python 2.7) generated the list directly, but new to Python 3.0, you have to make the list from the generator like so:  has the form: **list(range(start,end,interval))**.  Note that range, like list slicing, goes up to but does not include _end_.  "
   ]
  },
  {
   "cell_type": "code",
   "execution_count": 29,
   "metadata": {},
   "outputs": [
    {
     "name": "stdout",
     "output_type": "stream",
     "text": [
      "[2, 6, 10, 14, 18]\n"
     ]
    }
   ],
   "source": [
    "# creates a list from 2 to 20 (not including 20!) at intervals of 4\n",
    "numlist=list(range(2,20,4)) \n",
    "print (numlist)\n"
   ]
  },
  {
   "cell_type": "markdown",
   "metadata": {},
   "source": [
    "Trying it the \"old\" way, we just get: \n"
   ]
  },
  {
   "cell_type": "code",
   "execution_count": 34,
   "metadata": {},
   "outputs": [
    {
     "name": "stdout",
     "output_type": "stream",
     "text": [
      "range(2, 20, 4)\n"
     ]
    }
   ],
   "source": [
    "print (range(2,20,4))"
   ]
  },
  {
   "cell_type": "markdown",
   "metadata": {},
   "source": [
    "which is obviously not a list itself.  "
   ]
  },
  {
   "cell_type": "markdown",
   "metadata": {},
   "source": [
    "### Tuples\n",
    "\n",
    "_Tuples_ are another important object in python that are similar to lists, but have important differences.  They are denoted by parentheses ( ) and  consist of  values separated by commas.  \n",
    "Like lists, they can contain different elements, but unlike lists, the elements cannot be changed in place.  Similar to both lists and strings, you can slice, concatenate, etc. For more see: \n",
    " \n",
    " http://docs.python.org/tutorial/datastructures.html#tuples-and-sequences\n",
    "\n",
    "Here is one way to generate a tuple: \n"
   ]
  },
  {
   "cell_type": "code",
   "execution_count": 35,
   "metadata": {},
   "outputs": [
    {
     "data": {
      "text/plain": [
       "(1234, 2.0, 'hello')"
      ]
     },
     "execution_count": 35,
     "metadata": {},
     "output_type": "execute_result"
    }
   ],
   "source": [
    "t = 1234, 2.0, 'hello'\n",
    "t\n"
   ]
  },
  {
   "cell_type": "markdown",
   "metadata": {},
   "source": [
    "You can access an element in a tuple by using the index number, exactly like a list."
   ]
  },
  {
   "cell_type": "code",
   "execution_count": 17,
   "metadata": {},
   "outputs": [
    {
     "data": {
      "text/plain": [
       "1234"
      ]
     },
     "execution_count": 17,
     "metadata": {},
     "output_type": "execute_result"
    }
   ],
   "source": [
    "t[0]"
   ]
  },
  {
   "cell_type": "markdown",
   "metadata": {},
   "source": [
    "### Sets\n",
    "\n",
    "There is  more data structure that comes in handy and one is  the _set_. They are denoted with curly braces { }.  A set \"contains an unordered collection of unique and immutable objects.\"   \n",
    "\n",
    "You can create _sets_ in several ways.   The first would be the use the python built-in **set( )** function on a list: "
   ]
  },
  {
   "cell_type": "code",
   "execution_count": 43,
   "metadata": {},
   "outputs": [
    {
     "data": {
      "text/plain": [
       "{42, 'spam', 'ocelot'}"
      ]
     },
     "execution_count": 43,
     "metadata": {},
     "output_type": "execute_result"
    }
   ],
   "source": [
    "S1=set(['spam','ocelot',42])\n",
    "S1"
   ]
  },
  {
   "cell_type": "markdown",
   "metadata": {},
   "source": [
    "Notice how the order changed.  \n",
    "\n",
    "Also, notice what happens if we violate the \"unique\" part of the definition:\n",
    "\n"
   ]
  },
  {
   "cell_type": "code",
   "execution_count": 44,
   "metadata": {},
   "outputs": [
    {
     "data": {
      "text/plain": [
       "{'ocelot', 'spam'}"
      ]
     },
     "execution_count": 44,
     "metadata": {},
     "output_type": "execute_result"
    }
   ],
   "source": [
    "S2=set(['spam','ocelot','ocelot'])\n",
    "S2"
   ]
  },
  {
   "cell_type": "markdown",
   "metadata": {},
   "source": [
    "Only one of the ocelots made it into the set. [By the way, \"ocelot\" is another Monty Python joke - look it up if you like.] \n",
    "\n",
    "Sets contain immutable objects, but they themselves can be changed. For a more complete list of methods see:  \n",
    "\n",
    "https://www.python-course.eu/python3_sets_frozensets.php\n",
    "\n",
    "\n",
    "But here are a few:"
   ]
  },
  {
   "cell_type": "code",
   "execution_count": 45,
   "metadata": {},
   "outputs": [
    {
     "name": "stdout",
     "output_type": "stream",
     "text": [
      "{42, 'spam', 'ocelot'}\n",
      "{42, 'chocolate', 'spam', 'ocelot'}\n"
     ]
    }
   ],
   "source": [
    "# add\n",
    "print (S1) \n",
    "S1.add('chocolate')\n",
    "print (S1)"
   ]
  },
  {
   "cell_type": "code",
   "execution_count": 46,
   "metadata": {},
   "outputs": [
    {
     "data": {
      "text/plain": [
       "set()"
      ]
     },
     "execution_count": 46,
     "metadata": {},
     "output_type": "execute_result"
    }
   ],
   "source": [
    "# clear \n",
    "S2.clear() \n",
    "S2"
   ]
  },
  {
   "cell_type": "markdown",
   "metadata": {},
   "source": [
    "See how S2 is now just an empty set object _set( )_.\n",
    "\n",
    "Now let's try copying **S1**. "
   ]
  },
  {
   "cell_type": "code",
   "execution_count": 41,
   "metadata": {},
   "outputs": [
    {
     "name": "stdout",
     "output_type": "stream",
     "text": [
      "{42, 'chocolate', 'spam', 'ocelot'}\n",
      "set()\n",
      "{42, 'chocolate', 'spam', 'ocelot'}\n"
     ]
    }
   ],
   "source": [
    "# copy\n",
    "S2=S1.copy()\n",
    "print (S2)\n",
    "S1.clear()\n",
    "print (S1)\n",
    "print (S2)"
   ]
  },
  {
   "cell_type": "markdown",
   "metadata": {},
   "source": [
    "the **.copy( )** method for sets does not work like copying lists - it made an independent object **S2** which did not clear when **S1** got cleared.  \n",
    "\n",
    "**.difference** is another handy method - it can be used to find what is different about two sets. "
   ]
  },
  {
   "cell_type": "code",
   "execution_count": 47,
   "metadata": {},
   "outputs": [
    {
     "data": {
      "text/plain": [
       "{42}"
      ]
     },
     "execution_count": 47,
     "metadata": {},
     "output_type": "execute_result"
    }
   ],
   "source": [
    "# difference\n",
    "S1=set(['spam','ocelot',42])\n",
    "S2=set(['spam','ocelot'])\n",
    "S1.difference(S2)"
   ]
  },
  {
   "cell_type": "markdown",
   "metadata": {},
   "source": [
    "But - you say - you want to know what is the **same** in two sets.  For that, use the **.intersection** method.  "
   ]
  },
  {
   "cell_type": "code",
   "execution_count": 48,
   "metadata": {},
   "outputs": [
    {
     "data": {
      "text/plain": [
       "{'ocelot', 'spam'}"
      ]
     },
     "execution_count": 48,
     "metadata": {},
     "output_type": "execute_result"
    }
   ],
   "source": [
    "# intersection\n",
    "S1.intersection(S2)"
   ]
  },
  {
   "cell_type": "markdown",
   "metadata": {},
   "source": [
    "Finally, you can define a set just using curly braces:"
   ]
  },
  {
   "cell_type": "code",
   "execution_count": 25,
   "metadata": {},
   "outputs": [
    {
     "data": {
      "text/plain": [
       "{'Ni', 'spamalot', 42}"
      ]
     },
     "execution_count": 25,
     "metadata": {},
     "output_type": "execute_result"
    }
   ],
   "source": [
    "S3={42,'spamalot','Ni'}\n",
    "S3"
   ]
  },
  {
   "cell_type": "markdown",
   "metadata": {},
   "source": [
    "'Ni' is another joke from Monty Python and the Holy Grail where there were some characters calling themselves the \"Knights who say Ni!\".  \"42\" is not from Monty Python, but from the Hitch Hikers Guid to the Galaxy - but people who like Monty Python also like the Hitch Hiker's Guide.  By the way, \"42\" is the answer to \"What is the meaning of life, the universe, and everything?\".  Now you know.  "
   ]
  },
  {
   "cell_type": "markdown",
   "metadata": {},
   "source": [
    "### Turn it in! \n",
    "\n",
    "Turn in your practice problem notebook by the end of class with the completed practices.  The Assignment below is due in one week.  "
   ]
  },
  {
   "cell_type": "markdown",
   "metadata": {
    "collapsed": true
   },
   "source": [
    "### Assignment #1\n",
    "- Create a jupyter notebook.  \n",
    "- Rename the notebook (under File menu) with the format YourLastname_HomeworkNumber.  For example, **Asefaw_1**\n",
    "- Save the notebook (click on the disk icon in the menu bar)\n",
    "- Create a markdown block in which you will describe what the notebook does. \n",
    "- Make a code block that creates a list called **planets**\n",
    "    - append all the planets to the list.\n",
    "    - make a copy of your planets list (with a different name). \n",
    "    - print the planet at index 2 in your **planet** list. \n",
    "    - set the planet at index 2 in your copy to 'X'\n",
    "    - print the planet at index 2 in both lists (**planet** and your copy)\n",
    "    - append the planet you overwrote to the end of the copied list.\n",
    "    - use the help function to find out what the built in function **len()** does (help(len))\n",
    "- Make another code block that creates a list using **range( )** with 8 values starting with 1. \n",
    "    - Create a **set** from each of the  three lists.  \n",
    "    - Find the elements in common between the three sets.  \n",
    "\n",
    "Your code must be fully commented.  \n",
    "\n",
    "Turn in your notebook on the tritoned.ucsd.edu website BEFORE the start of class next Friday. \n",
    "\n",
    "You will recieve a \"zero\" if the assignment is late,  copied from someone else, or not fully commented.  If the degree of copying is serious enough, you WILL be reported, so just don't do it.  \n",
    "\n",
    "If you have trouble - contact the TA or the instructor - we are here to help!  Also, show up to the discussion section for help on the assignments from your friendly TA.  "
   ]
  }
 ],
 "metadata": {
  "kernelspec": {
   "display_name": "Python 3",
   "language": "python",
   "name": "python3"
  },
  "language_info": {
   "codemirror_mode": {
    "name": "ipython",
    "version": 3
   },
   "file_extension": ".py",
   "mimetype": "text/x-python",
   "name": "python",
   "nbconvert_exporter": "python",
   "pygments_lexer": "ipython3",
   "version": "3.5.4"
  }
 },
 "nbformat": 4,
 "nbformat_minor": 1
}
