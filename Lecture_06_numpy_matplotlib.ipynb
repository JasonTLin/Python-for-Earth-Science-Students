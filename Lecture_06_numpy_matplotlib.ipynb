{
 "cells": [
  {
   "cell_type": "markdown",
   "metadata": {},
   "source": [
    "### Review of lecture 5\n",
    "\n",
    "In lecture 5 we learned about:\n",
    "- functions  \n",
    "- modules"
   ]
  },
  {
   "cell_type": "markdown",
   "metadata": {},
   "source": [
    "### In this lecture we will:\n",
    "\n",
    "- get a first peek at the very useful Python packages called **NumPy** and **matplotlib**\n",
    "\n"
   ]
  },
  {
   "cell_type": "markdown",
   "metadata": {},
   "source": [
    "In the last lecture we learned how to create modules which are  files that contain one or more functions and variables.   \n",
    "\n",
    "A Python _package_ contains a collection of modules that are related to each other.  Our first _package_ is one of the most useful ones for us science types:  **NumPy**.  \n",
    "\n",
    "\n",
    "### A first look at NumPy\n",
    "\n",
    "O.K.  First of all - how do you pronounce \"NumPy\"'? It should be pronounced \"Num\" as in \"Number\" and \"Pie\" as in, well, pie, or Python.  It is way more fun to say Numpee!\n",
    "\n",
    "Now with that out of the way, what can we do with NumPy?  Turns out, a whole heck of a lot!  But for now, we will just scratch the surface.   NumPy  can, for example, give us the value of the square root of a number as **numpy.sqrt()**.  Note how the package name comes first, then the function we wish to use (just as in our example from the last lecture).  \n",
    "\n",
    "To use **NumPy** functions, we must first **import** the package with the command **import**.  It may take a while the first time you use **import** after installing Python, but after that it should load quickly.  \n",
    "\n",
    "There are many different ways you can use the **import** command. Each way allows your program to access  the functions and variables defined in the imported package, but differs in how you call the function after importing: "
   ]
  },
  {
   "cell_type": "code",
   "execution_count": 1,
   "metadata": {},
   "outputs": [
    {
     "data": {
      "text/plain": [
       "1.4142135623730951"
      ]
     },
     "execution_count": 1,
     "metadata": {},
     "output_type": "execute_result"
    }
   ],
   "source": [
    "import numpy\n",
    "\n",
    "#This makes all the functions in NumPy available to you, \n",
    "#but you have to call them with the numpy.FUNC() syntax\n",
    "\n",
    "numpy.sqrt(2)\n"
   ]
  },
  {
   "cell_type": "code",
   "execution_count": 2,
   "metadata": {},
   "outputs": [
    {
     "data": {
      "text/plain": [
       "1.4142135623730951"
      ]
     },
     "execution_count": 2,
     "metadata": {},
     "output_type": "execute_result"
    }
   ],
   "source": [
    "# Here is another way to import a module:  \n",
    "import numpy as np  # or any other variable e.g.:  N\n",
    "# This does the same as the first, but allows you to set NumPy as a variable\n",
    "\n",
    "# In this case, you substitute \"np\" for numpy:\n",
    "\n",
    "np.sqrt(2)  # or N.pi in the second case.\n",
    "\n",
    "\n"
   ]
  },
  {
   "cell_type": "markdown",
   "metadata": {},
   "source": [
    "To import all the functions from NumPy: "
   ]
  },
  {
   "cell_type": "code",
   "execution_count": 3,
   "metadata": {},
   "outputs": [
    {
     "data": {
      "text/plain": [
       "1.4142135623730951"
      ]
     },
     "execution_count": 3,
     "metadata": {},
     "output_type": "execute_result"
    }
   ],
   "source": [
    "from numpy  import *\n",
    "\n",
    "# now all the functions are available directly, without the initial module name: \n",
    "\n",
    "sqrt(2)\n",
    "\n"
   ]
  },
  {
   "cell_type": "markdown",
   "metadata": {},
   "source": [
    "\\* imports all the functions into the local namespace, which is a heavy load on your memory. Alternatively, you can import the few, specific functions you'll use, for example,   **sqrt**: \n"
   ]
  },
  {
   "cell_type": "code",
   "execution_count": 4,
   "metadata": {},
   "outputs": [
    {
     "data": {
      "text/plain": [
       "2.0"
      ]
     },
     "execution_count": 4,
     "metadata": {},
     "output_type": "execute_result"
    }
   ],
   "source": [
    "from numpy import sqrt # square root\n",
    "\n",
    "sqrt(4)\n"
   ]
  },
  {
   "cell_type": "markdown",
   "metadata": {},
   "source": [
    "Did you notice how \"sqrt(4)\", where 4 was an integer, returned a floating point variable (2.0)? \n",
    "\n"
   ]
  },
  {
   "cell_type": "markdown",
   "metadata": {},
   "source": [
    "**TIP**:  I tend to import the **NumPy** package using the **np** option above.  That way  I know where the functions I'm using come from. This is useful, becuase we don't use or know ALL of the functions available in any given package. A function defined in the package could conflict with one defined in your program. Similarly, two different packages or modules could have the same function or variable name.\n",
    "\n",
    "### NumPy functions\n",
    "\n",
    "Here is a (partial) list of some useful **NumPy** functions:\n",
    "\n"
   ]
  },
  {
   "cell_type": "markdown",
   "metadata": {},
   "source": [
    "|function | purpose|\n",
    "|------------ |--------------|\n",
    "|absolute(x)  | absolute value|\n",
    "| arccos(x)   |arccosine |\n",
    "| arcsin(x)    | arcsine |\n",
    "| arctan(x)    | arctangent |\n",
    "| arctan2(y,x)  |arctangent of y/x in correct quadrant| \n",
    "| cos(x)        |cosine |\n",
    "| cosh(x)      | hyperbolic cosine |\n",
    "| exp(x)      |  exponential |\n",
    "| log(x)      |  natural logarithm |\n",
    "| log10(x)    |  base 10 log |\n",
    "| sin(x)       | sine |\n",
    "| sinh(x)     |  hyperbolic sine |\n",
    "| sqrt(x)    |   square root |\n",
    "| tan(x)      |  tangent |\n",
    "| tanh(x)    |   hyperbolic tangent |\n"
   ]
  },
  {
   "cell_type": "markdown",
   "metadata": {},
   "source": [
    "\n",
    "\n",
    "### Numpy attributes\n",
    "\n",
    "**NumPy** has more than just _functions_; it also has _attributes_ which are variables stored in the package, for example $\\pi$.  \n",
    "\n"
   ]
  },
  {
   "cell_type": "code",
   "execution_count": 5,
   "metadata": {},
   "outputs": [
    {
     "data": {
      "text/plain": [
       "3.141592653589793"
      ]
     },
     "execution_count": 5,
     "metadata": {},
     "output_type": "execute_result"
    }
   ],
   "source": [
    "np.pi"
   ]
  },
  {
   "cell_type": "markdown",
   "metadata": {},
   "source": [
    "**TIP**:    In the trigonometric functions,  the argument is in RADIANS!.You can convert between degrees and radians by multiplying by: np.pi/180.   OR you can convert using the **NumPy** functions **np.degrees( )** which converts radians to degrees and **np.radians( )** which converts degrees to radians.  \n",
    "\n",
    "\n",
    "Also notice how the functions have parentheses, as opposed to **np.pi** which does not.  The difference is that **np.pi** is not a function but an attribute. It is a variable defined in **NumPy** that you can access. Every time you call the variable **np.pi**, it returns the value, $\\pi$. \n",
    "\n",
    "\n"
   ]
  },
  {
   "cell_type": "markdown",
   "metadata": {},
   "source": [
    "### Using NumPy Functions\n",
    "\n",
    "As already mentioned, **NumPy** has many math functions.   We will use a few to generate some data sets that we can then plot using **matplotlib**, a different Python module. \n",
    "\n",
    "First, let's make a list of angles ($\\theta$ or **theta**) around a circle.  We begin with the list of angles in degrees, convert them to radians (using **np.radians( )**), then construct a list of sines of those angles.  "
   ]
  },
  {
   "cell_type": "code",
   "execution_count": 6,
   "metadata": {},
   "outputs": [
    {
     "data": {
      "text/plain": [
       "array([  0.00000000e+00,   1.74524064e-02,   3.48994967e-02,\n",
       "         5.23359562e-02,   6.97564737e-02,   8.71557427e-02,\n",
       "         1.04528463e-01,   1.21869343e-01,   1.39173101e-01,\n",
       "         1.56434465e-01,   1.73648178e-01,   1.90808995e-01,\n",
       "         2.07911691e-01,   2.24951054e-01,   2.41921896e-01,\n",
       "         2.58819045e-01,   2.75637356e-01,   2.92371705e-01,\n",
       "         3.09016994e-01,   3.25568154e-01,   3.42020143e-01,\n",
       "         3.58367950e-01,   3.74606593e-01,   3.90731128e-01,\n",
       "         4.06736643e-01,   4.22618262e-01,   4.38371147e-01,\n",
       "         4.53990500e-01,   4.69471563e-01,   4.84809620e-01,\n",
       "         5.00000000e-01,   5.15038075e-01,   5.29919264e-01,\n",
       "         5.44639035e-01,   5.59192903e-01,   5.73576436e-01,\n",
       "         5.87785252e-01,   6.01815023e-01,   6.15661475e-01,\n",
       "         6.29320391e-01,   6.42787610e-01,   6.56059029e-01,\n",
       "         6.69130606e-01,   6.81998360e-01,   6.94658370e-01,\n",
       "         7.07106781e-01,   7.19339800e-01,   7.31353702e-01,\n",
       "         7.43144825e-01,   7.54709580e-01,   7.66044443e-01,\n",
       "         7.77145961e-01,   7.88010754e-01,   7.98635510e-01,\n",
       "         8.09016994e-01,   8.19152044e-01,   8.29037573e-01,\n",
       "         8.38670568e-01,   8.48048096e-01,   8.57167301e-01,\n",
       "         8.66025404e-01,   8.74619707e-01,   8.82947593e-01,\n",
       "         8.91006524e-01,   8.98794046e-01,   9.06307787e-01,\n",
       "         9.13545458e-01,   9.20504853e-01,   9.27183855e-01,\n",
       "         9.33580426e-01,   9.39692621e-01,   9.45518576e-01,\n",
       "         9.51056516e-01,   9.56304756e-01,   9.61261696e-01,\n",
       "         9.65925826e-01,   9.70295726e-01,   9.74370065e-01,\n",
       "         9.78147601e-01,   9.81627183e-01,   9.84807753e-01,\n",
       "         9.87688341e-01,   9.90268069e-01,   9.92546152e-01,\n",
       "         9.94521895e-01,   9.96194698e-01,   9.97564050e-01,\n",
       "         9.98629535e-01,   9.99390827e-01,   9.99847695e-01,\n",
       "         1.00000000e+00,   9.99847695e-01,   9.99390827e-01,\n",
       "         9.98629535e-01,   9.97564050e-01,   9.96194698e-01,\n",
       "         9.94521895e-01,   9.92546152e-01,   9.90268069e-01,\n",
       "         9.87688341e-01,   9.84807753e-01,   9.81627183e-01,\n",
       "         9.78147601e-01,   9.74370065e-01,   9.70295726e-01,\n",
       "         9.65925826e-01,   9.61261696e-01,   9.56304756e-01,\n",
       "         9.51056516e-01,   9.45518576e-01,   9.39692621e-01,\n",
       "         9.33580426e-01,   9.27183855e-01,   9.20504853e-01,\n",
       "         9.13545458e-01,   9.06307787e-01,   8.98794046e-01,\n",
       "         8.91006524e-01,   8.82947593e-01,   8.74619707e-01,\n",
       "         8.66025404e-01,   8.57167301e-01,   8.48048096e-01,\n",
       "         8.38670568e-01,   8.29037573e-01,   8.19152044e-01,\n",
       "         8.09016994e-01,   7.98635510e-01,   7.88010754e-01,\n",
       "         7.77145961e-01,   7.66044443e-01,   7.54709580e-01,\n",
       "         7.43144825e-01,   7.31353702e-01,   7.19339800e-01,\n",
       "         7.07106781e-01,   6.94658370e-01,   6.81998360e-01,\n",
       "         6.69130606e-01,   6.56059029e-01,   6.42787610e-01,\n",
       "         6.29320391e-01,   6.15661475e-01,   6.01815023e-01,\n",
       "         5.87785252e-01,   5.73576436e-01,   5.59192903e-01,\n",
       "         5.44639035e-01,   5.29919264e-01,   5.15038075e-01,\n",
       "         5.00000000e-01,   4.84809620e-01,   4.69471563e-01,\n",
       "         4.53990500e-01,   4.38371147e-01,   4.22618262e-01,\n",
       "         4.06736643e-01,   3.90731128e-01,   3.74606593e-01,\n",
       "         3.58367950e-01,   3.42020143e-01,   3.25568154e-01,\n",
       "         3.09016994e-01,   2.92371705e-01,   2.75637356e-01,\n",
       "         2.58819045e-01,   2.41921896e-01,   2.24951054e-01,\n",
       "         2.07911691e-01,   1.90808995e-01,   1.73648178e-01,\n",
       "         1.56434465e-01,   1.39173101e-01,   1.21869343e-01,\n",
       "         1.04528463e-01,   8.71557427e-02,   6.97564737e-02,\n",
       "         5.23359562e-02,   3.48994967e-02,   1.74524064e-02,\n",
       "         1.22464680e-16,  -1.74524064e-02,  -3.48994967e-02,\n",
       "        -5.23359562e-02,  -6.97564737e-02,  -8.71557427e-02,\n",
       "        -1.04528463e-01,  -1.21869343e-01,  -1.39173101e-01,\n",
       "        -1.56434465e-01,  -1.73648178e-01,  -1.90808995e-01,\n",
       "        -2.07911691e-01,  -2.24951054e-01,  -2.41921896e-01,\n",
       "        -2.58819045e-01,  -2.75637356e-01,  -2.92371705e-01,\n",
       "        -3.09016994e-01,  -3.25568154e-01,  -3.42020143e-01,\n",
       "        -3.58367950e-01,  -3.74606593e-01,  -3.90731128e-01,\n",
       "        -4.06736643e-01,  -4.22618262e-01,  -4.38371147e-01,\n",
       "        -4.53990500e-01,  -4.69471563e-01,  -4.84809620e-01,\n",
       "        -5.00000000e-01,  -5.15038075e-01,  -5.29919264e-01,\n",
       "        -5.44639035e-01,  -5.59192903e-01,  -5.73576436e-01,\n",
       "        -5.87785252e-01,  -6.01815023e-01,  -6.15661475e-01,\n",
       "        -6.29320391e-01,  -6.42787610e-01,  -6.56059029e-01,\n",
       "        -6.69130606e-01,  -6.81998360e-01,  -6.94658370e-01,\n",
       "        -7.07106781e-01,  -7.19339800e-01,  -7.31353702e-01,\n",
       "        -7.43144825e-01,  -7.54709580e-01,  -7.66044443e-01,\n",
       "        -7.77145961e-01,  -7.88010754e-01,  -7.98635510e-01,\n",
       "        -8.09016994e-01,  -8.19152044e-01,  -8.29037573e-01,\n",
       "        -8.38670568e-01,  -8.48048096e-01,  -8.57167301e-01,\n",
       "        -8.66025404e-01,  -8.74619707e-01,  -8.82947593e-01,\n",
       "        -8.91006524e-01,  -8.98794046e-01,  -9.06307787e-01,\n",
       "        -9.13545458e-01,  -9.20504853e-01,  -9.27183855e-01,\n",
       "        -9.33580426e-01,  -9.39692621e-01,  -9.45518576e-01,\n",
       "        -9.51056516e-01,  -9.56304756e-01,  -9.61261696e-01,\n",
       "        -9.65925826e-01,  -9.70295726e-01,  -9.74370065e-01,\n",
       "        -9.78147601e-01,  -9.81627183e-01,  -9.84807753e-01,\n",
       "        -9.87688341e-01,  -9.90268069e-01,  -9.92546152e-01,\n",
       "        -9.94521895e-01,  -9.96194698e-01,  -9.97564050e-01,\n",
       "        -9.98629535e-01,  -9.99390827e-01,  -9.99847695e-01,\n",
       "        -1.00000000e+00,  -9.99847695e-01,  -9.99390827e-01,\n",
       "        -9.98629535e-01,  -9.97564050e-01,  -9.96194698e-01,\n",
       "        -9.94521895e-01,  -9.92546152e-01,  -9.90268069e-01,\n",
       "        -9.87688341e-01,  -9.84807753e-01,  -9.81627183e-01,\n",
       "        -9.78147601e-01,  -9.74370065e-01,  -9.70295726e-01,\n",
       "        -9.65925826e-01,  -9.61261696e-01,  -9.56304756e-01,\n",
       "        -9.51056516e-01,  -9.45518576e-01,  -9.39692621e-01,\n",
       "        -9.33580426e-01,  -9.27183855e-01,  -9.20504853e-01,\n",
       "        -9.13545458e-01,  -9.06307787e-01,  -8.98794046e-01,\n",
       "        -8.91006524e-01,  -8.82947593e-01,  -8.74619707e-01,\n",
       "        -8.66025404e-01,  -8.57167301e-01,  -8.48048096e-01,\n",
       "        -8.38670568e-01,  -8.29037573e-01,  -8.19152044e-01,\n",
       "        -8.09016994e-01,  -7.98635510e-01,  -7.88010754e-01,\n",
       "        -7.77145961e-01,  -7.66044443e-01,  -7.54709580e-01,\n",
       "        -7.43144825e-01,  -7.31353702e-01,  -7.19339800e-01,\n",
       "        -7.07106781e-01,  -6.94658370e-01,  -6.81998360e-01,\n",
       "        -6.69130606e-01,  -6.56059029e-01,  -6.42787610e-01,\n",
       "        -6.29320391e-01,  -6.15661475e-01,  -6.01815023e-01,\n",
       "        -5.87785252e-01,  -5.73576436e-01,  -5.59192903e-01,\n",
       "        -5.44639035e-01,  -5.29919264e-01,  -5.15038075e-01,\n",
       "        -5.00000000e-01,  -4.84809620e-01,  -4.69471563e-01,\n",
       "        -4.53990500e-01,  -4.38371147e-01,  -4.22618262e-01,\n",
       "        -4.06736643e-01,  -3.90731128e-01,  -3.74606593e-01,\n",
       "        -3.58367950e-01,  -3.42020143e-01,  -3.25568154e-01,\n",
       "        -3.09016994e-01,  -2.92371705e-01,  -2.75637356e-01,\n",
       "        -2.58819045e-01,  -2.41921896e-01,  -2.24951054e-01,\n",
       "        -2.07911691e-01,  -1.90808995e-01,  -1.73648178e-01,\n",
       "        -1.56434465e-01,  -1.39173101e-01,  -1.21869343e-01,\n",
       "        -1.04528463e-01,  -8.71557427e-02,  -6.97564737e-02,\n",
       "        -5.23359562e-02,  -3.48994967e-02,  -1.74524064e-02])"
      ]
     },
     "execution_count": 6,
     "metadata": {},
     "output_type": "execute_result"
    }
   ],
   "source": [
    "thetas_in_degrees=range(360) # list of angles from 0 to 359 at one degree intervals\n",
    "# uncomment the following line, if you'd like to print the list \n",
    "#print thetas_in_degrees\n",
    "thetas_in_radians=np.radians(thetas_in_degrees) # convert to radians\n",
    "sines=np.sin(thetas_in_radians) # calculate the sine values for all the thetas\n",
    "sines"
   ]
  },
  {
   "cell_type": "markdown",
   "metadata": {},
   "source": [
    "### Plotting data \n",
    "\n",
    "Now that we've generated some data, we would like to look at it. Yes we can just print out the values, but it is way more interesting to make a plot.   The easiest way to do this is using the package **matplotlib** which has many plotting functions, among them a whole module called **pyplot**. We **import** the **matplotlib.pyplot** module as **plt**. \n",
    "\n",
    "We've also included one more line that tells **pyplot** to plot the image within the notebook:  **%matplotlib inline**.  Note that this does not work in other environments, like command line scripts (which we will learn about later). "
   ]
  },
  {
   "cell_type": "code",
   "execution_count": 7,
   "metadata": {},
   "outputs": [
    {
     "data": {
      "image/png": "[encoded data removed]",
      "text/plain": [
       "<matplotlib.figure.Figure at 0x105d54c18>"
      ]
     },
     "metadata": {},
     "output_type": "display_data"
    }
   ],
   "source": [
    "import matplotlib.pyplot as plt\n",
    "%matplotlib inline\n",
    "\n",
    "plt.plot(thetas_in_degrees,sines); # plot the sines with the angles"
   ]
  },
  {
   "cell_type": "markdown",
   "metadata": {
    "collapsed": true
   },
   "source": [
    "### Features and styling in matplotlib\n",
    "Every plot should include a title, axis, labels, bounds, etc. We can use Matplotlib to add these features and more.\n",
    "\n",
    "\n"
   ]
  },
  {
   "cell_type": "code",
   "execution_count": 8,
   "metadata": {},
   "outputs": [
    {
     "data": {
      "image/png": "[encoded data removed]",
      "text/plain": [
       "<matplotlib.figure.Figure at 0x105d54630>"
      ]
     },
     "metadata": {},
     "output_type": "display_data"
    }
   ],
   "source": [
    "# I want to plot the sine curve as a green line, so I use 'g-' to do that:\n",
    "plt.plot(thetas_in_degrees,sines,'g-',label='Sine') \n",
    "# the \"label\" argument saves this line for annotation in a legend\n",
    "# let's add X and Y labels\n",
    "plt.xlabel('Degrees') # make and X label\n",
    "plt.ylabel('Sine') # label the Y axis\n",
    "# and now change the x axis limits: \n",
    "plt.xlim([0,360]) # set the limits\n",
    "plt.title('Sine curve') # set the title\n",
    "plt.legend(); # put on a legend!  "
   ]
  },
  {
   "cell_type": "markdown",
   "metadata": {},
   "source": [
    "Now let's add the cosine curve and a bit of style! We'll plot the cosine curve as a dashed blue line, move the legend to a different position and plot the sine curve as little red dots.\n",
    "For a complete list of possible symbols, see: http://matplotlib.org/api/markers_api.html"
   ]
  },
  {
   "cell_type": "code",
   "execution_count": 9,
   "metadata": {},
   "outputs": [
    {
     "data": {
      "image/png": "[encoded data removed]",
      "text/plain": [
       "<matplotlib.figure.Figure at 0x109a8cdd8>"
      ]
     },
     "metadata": {},
     "output_type": "display_data"
    }
   ],
   "source": [
    "cosines=np.cos(thetas_in_radians)\n",
    "# plot the sines with the angles as a green line\n",
    "plt.plot(thetas_in_degrees,sines,'g-',label='Sine') \n",
    "# plot the cosines with the angles as a dashed blue line\n",
    "plt.plot(thetas_in_degrees,cosines,'b--',label='Cosine') \n",
    "plt.xlabel('Degrees')\n",
    "plt.ylabel('Trig functions')\n",
    "plt.xlim([0,360]) # set the limits\n",
    "plt.legend(loc=3); # put the legend in the lower left hand corner this time"
   ]
  },
  {
   "cell_type": "markdown",
   "metadata": {},
   "source": [
    "The function plot( ) in matplotlib includes many more styling options. Here's a complete list of arguments and keyword arguments that plot accepts:"
   ]
  },
  {
   "cell_type": "code",
   "execution_count": 10,
   "metadata": {},
   "outputs": [
    {
     "name": "stdout",
     "output_type": "stream",
     "text": [
      "Help on function plot in module matplotlib.pyplot:\n",
      "\n",
      "plot(*args, **kwargs)\n",
      "    Plot lines and/or markers to the\n",
      "    :class:`~matplotlib.axes.Axes`.  *args* is a variable length\n",
      "    argument, allowing for multiple *x*, *y* pairs with an\n",
      "    optional format string.  For example, each of the following is\n",
      "    legal::\n",
      "    \n",
      "        plot(x, y)        # plot x and y using default line style and color\n",
      "        plot(x, y, 'bo')  # plot x and y using blue circle markers\n",
      "        plot(y)           # plot y using x as index array 0..N-1\n",
      "        plot(y, 'r+')     # ditto, but with red plusses\n",
      "    \n",
      "    If *x* and/or *y* is 2-dimensional, then the corresponding columns\n",
      "    will be plotted.\n",
      "    \n",
      "    If used with labeled data, make sure that the color spec is not\n",
      "    included as an element in data, as otherwise the last case\n",
      "    ``plot(\"v\",\"r\", data={\"v\":..., \"r\":...)``\n",
      "    can be interpreted as the first case which would do ``plot(v, r)``\n",
      "    using the default line style and color.\n",
      "    \n",
      "    If not used with labeled data (i.e., without a data argument),\n",
      "    an arbitrary number of *x*, *y*, *fmt* groups can be specified, as in::\n",
      "    \n",
      "        a.plot(x1, y1, 'g^', x2, y2, 'g-')\n",
      "    \n",
      "    Return value is a list of lines that were added.\n",
      "    \n",
      "    By default, each line is assigned a different style specified by a\n",
      "    'style cycle'.  To change this behavior, you can edit the\n",
      "    axes.prop_cycle rcParam.\n",
      "    \n",
      "    The following format string characters are accepted to control\n",
      "    the line style or marker:\n",
      "    \n",
      "    ================    ===============================\n",
      "    character           description\n",
      "    ================    ===============================\n",
      "    ``'-'``             solid line style\n",
      "    ``'--'``            dashed line style\n",
      "    ``'-.'``            dash-dot line style\n",
      "    ``':'``             dotted line style\n",
      "    ``'.'``             point marker\n",
      "    ``','``             pixel marker\n",
      "    ``'o'``             circle marker\n",
      "    ``'v'``             triangle_down marker\n",
      "    ``'^'``             triangle_up marker\n",
      "    ``'<'``             triangle_left marker\n",
      "    ``'>'``             triangle_right marker\n",
      "    ``'1'``             tri_down marker\n",
      "    ``'2'``             tri_up marker\n",
      "    ``'3'``             tri_left marker\n",
      "    ``'4'``             tri_right marker\n",
      "    ``'s'``             square marker\n",
      "    ``'p'``             pentagon marker\n",
      "    ``'*'``             star marker\n",
      "    ``'h'``             hexagon1 marker\n",
      "    ``'H'``             hexagon2 marker\n",
      "    ``'+'``             plus marker\n",
      "    ``'x'``             x marker\n",
      "    ``'D'``             diamond marker\n",
      "    ``'d'``             thin_diamond marker\n",
      "    ``'|'``             vline marker\n",
      "    ``'_'``             hline marker\n",
      "    ================    ===============================\n",
      "    \n",
      "    \n",
      "    The following color abbreviations are supported:\n",
      "    \n",
      "    ==========  ========\n",
      "    character   color\n",
      "    ==========  ========\n",
      "    'b'         blue\n",
      "    'g'         green\n",
      "    'r'         red\n",
      "    'c'         cyan\n",
      "    'm'         magenta\n",
      "    'y'         yellow\n",
      "    'k'         black\n",
      "    'w'         white\n",
      "    ==========  ========\n",
      "    \n",
      "    In addition, you can specify colors in many weird and\n",
      "    wonderful ways, including full names (``'green'``), hex\n",
      "    strings (``'#008000'``), RGB or RGBA tuples (``(0,1,0,1)``) or\n",
      "    grayscale intensities as a string (``'0.8'``).  Of these, the\n",
      "    string specifications can be used in place of a ``fmt`` group,\n",
      "    but the tuple forms can be used only as ``kwargs``.\n",
      "    \n",
      "    Line styles and colors are combined in a single format string, as in\n",
      "    ``'bo'`` for blue circles.\n",
      "    \n",
      "    The *kwargs* can be used to set line properties (any property that has\n",
      "    a ``set_*`` method).  You can use this to set a line label (for auto\n",
      "    legends), linewidth, anitialising, marker face color, etc.  Here is an\n",
      "    example::\n",
      "    \n",
      "        plot([1,2,3], [1,2,3], 'go-', label='line 1', linewidth=2)\n",
      "        plot([1,2,3], [1,4,9], 'rs',  label='line 2')\n",
      "        axis([0, 4, 0, 10])\n",
      "        legend()\n",
      "    \n",
      "    If you make multiple lines with one plot command, the kwargs\n",
      "    apply to all those lines, e.g.::\n",
      "    \n",
      "        plot(x1, y1, x2, y2, antialiased=False)\n",
      "    \n",
      "    Neither line will be antialiased.\n",
      "    \n",
      "    You do not need to use format strings, which are just\n",
      "    abbreviations.  All of the line properties can be controlled\n",
      "    by keyword arguments.  For example, you can set the color,\n",
      "    marker, linestyle, and markercolor with::\n",
      "    \n",
      "        plot(x, y, color='green', linestyle='dashed', marker='o',\n",
      "             markerfacecolor='blue', markersize=12).\n",
      "    \n",
      "    See :class:`~matplotlib.lines.Line2D` for details.\n",
      "    \n",
      "    The kwargs are :class:`~matplotlib.lines.Line2D` properties:\n",
      "    \n",
      "      agg_filter: unknown\n",
      "      alpha: float (0.0 transparent through 1.0 opaque) \n",
      "      animated: [True | False] \n",
      "      antialiased or aa: [True | False] \n",
      "      clip_box: a :class:`matplotlib.transforms.Bbox` instance \n",
      "      clip_on: [True | False] \n",
      "      clip_path: [ (:class:`~matplotlib.path.Path`, :class:`~matplotlib.transforms.Transform`) | :class:`~matplotlib.patches.Patch` | None ] \n",
      "      color or c: any matplotlib color \n",
      "      contains: a callable function \n",
      "      dash_capstyle: ['butt' | 'round' | 'projecting'] \n",
      "      dash_joinstyle: ['miter' | 'round' | 'bevel'] \n",
      "      dashes: sequence of on/off ink in points \n",
      "      drawstyle: ['default' | 'steps' | 'steps-pre' | 'steps-mid' | 'steps-post'] \n",
      "      figure: a :class:`matplotlib.figure.Figure` instance \n",
      "      fillstyle: ['full' | 'left' | 'right' | 'bottom' | 'top' | 'none'] \n",
      "      gid: an id string \n",
      "      label: string or anything printable with '%s' conversion. \n",
      "      linestyle or ls: ['solid' | 'dashed', 'dashdot', 'dotted' | (offset, on-off-dash-seq) | ``'-'`` | ``'--'`` | ``'-.'`` | ``':'`` | ``'None'`` | ``' '`` | ``''``]\n",
      "      linewidth or lw: float value in points \n",
      "      marker: :mod:`A valid marker style <matplotlib.markers>`\n",
      "      markeredgecolor or mec: any matplotlib color \n",
      "      markeredgewidth or mew: float value in points \n",
      "      markerfacecolor or mfc: any matplotlib color \n",
      "      markerfacecoloralt or mfcalt: any matplotlib color \n",
      "      markersize or ms: float \n",
      "      markevery: [None | int | length-2 tuple of int | slice | list/array of int | float | length-2 tuple of float]\n",
      "      path_effects: unknown\n",
      "      picker: float distance in points or callable pick function ``fn(artist, event)`` \n",
      "      pickradius: float distance in points \n",
      "      rasterized: [True | False | None] \n",
      "      sketch_params: unknown\n",
      "      snap: unknown\n",
      "      solid_capstyle: ['butt' | 'round' |  'projecting'] \n",
      "      solid_joinstyle: ['miter' | 'round' | 'bevel'] \n",
      "      transform: a :class:`matplotlib.transforms.Transform` instance \n",
      "      url: a url string \n",
      "      visible: [True | False] \n",
      "      xdata: 1D array \n",
      "      ydata: 1D array \n",
      "      zorder: any number \n",
      "    \n",
      "    kwargs *scalex* and *scaley*, if defined, are passed on to\n",
      "    :meth:`~matplotlib.axes.Axes.autoscale_view` to determine\n",
      "    whether the *x* and *y* axes are autoscaled; the default is\n",
      "    *True*.\n",
      "    \n",
      "    .. note::\n",
      "        In addition to the above described arguments, this function can take a\n",
      "        **data** keyword argument. If such a **data** argument is given, the\n",
      "        following arguments are replaced by **data[<arg>]**:\n",
      "    \n",
      "        * All arguments with the following names: 'x', 'y'.\n",
      "\n"
     ]
    }
   ],
   "source": [
    "help(plt.plot)"
   ]
  },
  {
   "cell_type": "markdown",
   "metadata": {},
   "source": [
    "### Reading in text files\n",
    "\n",
    "One VERY useful function in **numpy** is to read data sets into an array.  Here we will read in data from an Earthquake available from the IRIS website: http://ds.iris.edu/wilber3/find_event.  We can read in the data using the function **np.loadtext()**.  \n",
    "\n",
    "I chose the Christmas Day, 2016 magnitude 7.6 Earthquake  in Chile (latitude=-43.42, longitude=-73.95).  It was recorded  at a seismic station run by Scripps called \"Pinyon Flat Observatory\" (PFO, latitude=33.3, longitude=-115.7). "
   ]
  },
  {
   "cell_type": "code",
   "execution_count": 11,
   "metadata": {},
   "outputs": [
    {
     "name": "stdout",
     "output_type": "stream",
     "text": [
      "[  1807.   1749.   1694. ..., -14264. -14888. -15489.]\n"
     ]
    }
   ],
   "source": [
    "EQ=np.loadtxt('Datasets/SeismicRecord/earthquake.txt') # read in data\n",
    "print (EQ)"
   ]
  },
  {
   "cell_type": "markdown",
   "metadata": {},
   "source": [
    "Notice that EQ is NOT a **list** (it would have commas).  In fact it is a new data structure, an N-dimensional array.  You can find out what any object is using the built-in function **type( )**:  "
   ]
  },
  {
   "cell_type": "code",
   "execution_count": 12,
   "metadata": {},
   "outputs": [
    {
     "data": {
      "text/plain": [
       "numpy.ndarray"
      ]
     },
     "execution_count": 12,
     "metadata": {},
     "output_type": "execute_result"
    }
   ],
   "source": [
    "type(EQ)"
   ]
  },
  {
   "cell_type": "markdown",
   "metadata": {},
   "source": [
    "We'll learn more about the _ndarray_  data structure in the next lecture. \n",
    "\n",
    "But now, let's plot the earthquake data.  "
   ]
  },
  {
   "cell_type": "code",
   "execution_count": 13,
   "metadata": {},
   "outputs": [
    {
     "data": {
      "image/png": "[encoded data removed]",
      "text/plain": [
       "<matplotlib.figure.Figure at 0x1099c5550>"
      ]
     },
     "metadata": {},
     "output_type": "display_data"
    }
   ],
   "source": [
    "plt.plot(EQ); # the semi-colon suppresses some annoying jibberish, \n",
    "# try taking it out!"
   ]
  },
  {
   "cell_type": "markdown",
   "metadata": {},
   "source": [
    "Here, **plt.plot( )** plots the array **EQ** against the index number for the elements in the array because we didn't pass a second argument. \n",
    "\n",
    "\n",
    "Every plot should include a title, axis, labels, bounds, etc. We can use Matplotlib to add these features and more.\n",
    "\n",
    "\n",
    "\n",
    "\n",
    "We can decorate this plot in many ways.  For example, we can add axis labels and truncate the data, or change the color of the line to name a few:  "
   ]
  },
  {
   "cell_type": "code",
   "execution_count": 14,
   "metadata": {},
   "outputs": [
    {
     "data": {
      "image/png": "[encoded data removed]",
      "text/plain": [
       "<matplotlib.figure.Figure at 0x109c32d68>"
      ]
     },
     "metadata": {},
     "output_type": "display_data"
    }
   ],
   "source": [
    "plt.plot(EQ,'r-') # plots as a red line\n",
    "plt.xlabel('Arbitrary Time') # puts a label on the X axis\n",
    "plt.ylabel('Velocity'); # puts a label on the Y axis"
   ]
  },
  {
   "cell_type": "markdown",
   "metadata": {
    "collapsed": true
   },
   "source": [
    "### Assignment #2\n",
    "\n",
    "- Make a notebook and change the name of the notebook to: YourLastName_02\n",
    "    (for example,  Asefaw_02)\n",
    "- In a **markdown** cell, write a description of what the notebook does\n",
    "- Create a list of numbers from 0 to 100\n",
    "- Create another list that is empty\n",
    "- Write a **for** loop that takes the square root of all the values in your list of numbers (using **np.sqrt**) and appends them to the empty list.  \n",
    "- Print out all the numbers that are divisible by 4 (using the modulo operator).\n",
    "- Plot the square roots against the original list.  \n",
    "- Create a dictionary with at least 4 key:value pairs\n",
    "\n",
    "- Write your own module that contains at least four functions and uses a dictionary and a list. Include a doc string in your module and a comment before each function that briefly describes the function\n",
    "- Import the module into your notebook and call all of the functions. \n",
    "\n",
    "Your code must be fully commented.  \n",
    "\n",
    "Turn in your notebook on the tritoned.ucsd.edu website BEFORE the start of class next Friday. \n",
    "\n",
    "You will recieve a \"zero\" if the assignment is late,  copied from someone else, or not fully commented.  If the degree of copying is serious enough, you WILL be reported, so just don't do it.  \n",
    "\n",
    "If you have trouble - contact the TA or the instructor - we are here to help!  Better yet, come to the discussion session next week. "
   ]
  }
 ],
 "metadata": {
  "kernelspec": {
   "display_name": "Python 3",
   "language": "python",
   "name": "python3"
  },
  "language_info": {
   "codemirror_mode": {
    "name": "ipython",
    "version": 3
   },
   "file_extension": ".py",
   "mimetype": "text/x-python",
   "name": "python",
   "nbconvert_exporter": "python",
   "pygments_lexer": "ipython3",
   "version": "3.6.3"
  }
 },
 "nbformat": 4,
 "nbformat_minor": 1
}
