{
 "cells": [
  {
   "cell_type": "code",
   "execution_count": 1,
   "metadata": {
    "collapsed": true
   },
   "outputs": [],
   "source": [
    "import numpy as np\n",
    "import matplotlib.pyplot as plt\n",
    "%matplotlib inline\n",
    "from IPython.display import Image\n",
    "import pandas as pd"
   ]
  },
  {
   "cell_type": "markdown",
   "metadata": {},
   "source": [
    "\n",
    "### Review of lecture 9\n",
    "\n",
    "In Lecture 9 we:\n",
    "\n",
    "1) practiced creating plots with the matplotlib.pyplot module\n",
    "\n",
    "2) learned to make plots, add notes, and save images. \n",
    "\n",
    "3) learned about pandas DataFrame - a new 'data structure' in the Pandas module.   \n",
    "\n"
   ]
  },
  {
   "cell_type": "markdown",
   "metadata": {},
   "source": [
    "#### In this lecture we will:\n",
    "\n",
    "1)  Learn about \"object oriented programming\" (OOP)\n",
    "\n",
    "2) Learn how to create a \"class\"\n",
    "\n",
    "3) Learn more about namespaces \n",
    "\n",
    "4) Learn more about copies\n",
    "\n",
    " \n",
    "\n"
   ]
  },
  {
   "cell_type": "markdown",
   "metadata": {},
   "source": [
    "### 1)  Object oriented programming\n",
    "\n",
    "Until now we haven't    mentioned object oriented programming (OOP), yet we have been using \"objects\" from the beginning.  Knowing how to create and use objects in Python is very powerful.  Examples of objects that we have already encountered are the various data structures we have been using and things like plots.  Objects  have _methods_ that can be used to change the object and _attributes_ that describe features of the objects.  \n",
    "\n",
    "Now we will learn how to make our own objects with our own special blend of _attributes_ and _methods_.  The trick is to make a **class** and define it to have the desired _attributes_ and _methods_. \n",
    "\n",
    "### 2) Classes\n",
    "\n",
    "To create an object with methods, we use a **class** definition,  which is a blueprint or recipe defining  the _attributes_ and _methods_ associated with the **class**.  When we call the class, we create an _instance_ of the class, also known as an _object_.   \n",
    "\n",
    "Here is an example of a  class definition:"
   ]
  },
  {
   "cell_type": "code",
   "execution_count": 2,
   "metadata": {
    "collapsed": false
   },
   "outputs": [],
   "source": [
    "class Circle:\n",
    "    \"\"\"\n",
    "    This is an example of a class called Circle\n",
    "    \"\"\"\n",
    "    import numpy as np # get some math power\n",
    "    # define some attributes of the Circle class\n",
    "    pi=np.pi # pi is now an attribute of this class too.  \n",
    "    # initialize the class   with the attribute r\n",
    "    def __init__(self,r):\n",
    "        self.r=r # define a variable, r\n",
    "    # define some more attributes\n",
    "    def area(self): \n",
    "        return (1./2.)*self.pi*self.r**2\n",
    "    def circumference(self):\n",
    "        return 2.*self.pi*self.r"
   ]
  },
  {
   "cell_type": "markdown",
   "metadata": {},
   "source": [
    "Now we can create an _instance_ of the Circle class called **C** with a radius of **r**."
   ]
  },
  {
   "cell_type": "code",
   "execution_count": 3,
   "metadata": {
    "collapsed": false
   },
   "outputs": [],
   "source": [
    "r=3.0 # assign 3 to a variable r\n",
    "C=Circle(r) # create a class instance with radius of 3.0\n"
   ]
  },
  {
   "cell_type": "markdown",
   "metadata": {},
   "source": [
    "We can use any of the attributes or methods of this class like this:"
   ]
  },
  {
   "cell_type": "code",
   "execution_count": 4,
   "metadata": {
    "collapsed": false
   },
   "outputs": [
    {
     "name": "stdout",
     "output_type": "stream",
     "text": [
      "The value of pi is:  3.141592653589793\n",
      "The radius of this circle is:  3.0\n",
      "The area of a circle with radius =  3.0 is:  14.137166941154069\n",
      "The circumference of that circle is:  18.84955592153876\n"
     ]
    }
   ],
   "source": [
    "print (\"The value of pi is: \",C.pi) # no parentheses!\n",
    "print (\"The radius of this circle is: \",C.r)\n",
    "print (\"The area of a circle with radius = \",r,'is: ',C.area())\n",
    "print (\"The circumference of that circle is: \",C.circumference())"
   ]
  },
  {
   "cell_type": "markdown",
   "metadata": {},
   "source": [
    "We can also save the Circle class in a module, just like we did earlier for functions and import it.  So let's save it to a module called **Shapes.py** which we can import and re-use whenever we like.  \n",
    "\n",
    "Remember that you can do this by selecting 'Open' from the 'File menu', then chooosing a 'text file' under 'New'.  You can copy your class into that text file window and save it to this directory with the name **Shapes.py**.  \n",
    "\n"
   ]
  },
  {
   "cell_type": "code",
   "execution_count": 6,
   "metadata": {
    "collapsed": false
   },
   "outputs": [
    {
     "name": "stdout",
     "output_type": "stream",
     "text": [
      "3.141592653589793\n"
     ]
    }
   ],
   "source": [
    "import Shapes as S\n",
    "newCirc=S.Circle(6.0)\n",
    "print (newCirc.pi)\n"
   ]
  },
  {
   "cell_type": "markdown",
   "metadata": {},
   "source": [
    "### Attributes and methods\n",
    "\n",
    "You might be wondering about some things by now. For example, you should have noticed is that when we asked for **C.pi** there were no parentheses, but both **C.area( )** and **C.circumference( )** did have parentheses.   Why?  \n",
    "\n",
    "The answer is that **r** and **pi** are _attributes_,  and **area** and **circumference** are _methods_.  Did you notice that the method definitions look a lot like functions, but are inside the class definition.  A _method_ is really a function, but it is special in that it belongs to a class and works on the _instance_ of the class.  They can only be called by using the name of the _instance_, followed by a dot, followed by the _method_ (with parentheses). \n",
    "\n",
    "### More about classes\n",
    "\n",
    "Classes are not the same as functions.  Although our **Shape** module can be imported just the same as any other module, to use it, we first have to create a class _instance_ (**C=Shapes.Circle(r)**). \n",
    "\n",
    "\n",
    "All _methods_ (parts that start with **def**),  have an argument list. The first argument has to be a reference to the class instance itself, or **self**, followed by any variables you want to pass into the _method_. \n",
    "\n",
    "So the \"__init__\" method initializes the _instance_ attributes.   In the Circle class, the **\\_\\_init\\_\\_** method defined the attribute **r**, which gets passed in when the class is first called.  \n",
    "Asking for any _attribute_ (note the lack of parentheses), retrieves the current value of that _attribute_.  \n",
    "\n",
    "Attributes can be changed:\n"
   ]
  },
  {
   "cell_type": "code",
   "execution_count": 8,
   "metadata": {
    "collapsed": false
   },
   "outputs": [
    {
     "name": "stdout",
     "output_type": "stream",
     "text": [
      "3.0\n",
      "7.0\n"
     ]
    }
   ],
   "source": [
    "print (C.r)\n",
    "C.r=7.\n",
    "print (C.r)"
   ]
  },
  {
   "cell_type": "markdown",
   "metadata": {},
   "source": [
    "The  _methods_ (**area** and **circumference**) are defined like any function except note the use of **self** as the first argument.  This is required in all class method definitions.  In our case, no other variables are passed in because the only one used is **r**, so the argument list consists of only **self**.  Calling these _methods_  requires no further parameters (the parentheses are empty) and the class returns the current values.   \n",
    "\n"
   ]
  },
  {
   "cell_type": "code",
   "execution_count": 9,
   "metadata": {
    "collapsed": false
   },
   "outputs": [
    {
     "data": {
      "text/plain": [
       "76.96902001294993"
      ]
     },
     "execution_count": 9,
     "metadata": {},
     "output_type": "execute_result"
    }
   ],
   "source": [
    "C.area()"
   ]
  },
  {
   "cell_type": "markdown",
   "metadata": {},
   "source": [
    "You can make a subclass (child) of the parent class which has all the attributes and methods of the parent, but may have a few attributes and methods of its own.   You do this by setting up another class definition within a class.  \n",
    "\n",
    "So, the bottom line about classes is that they are  in the same category of things as variables, lists, dictionaries, etc. That is, they are  \"data structures\" because they hold data, and the methods to process those data.\n",
    "\n",
    "\n",
    "If you are curious about classes, there's lots more to know about them that we don't have time to get into. You can find useful tutorials online: http://www.python-course.eu/object_oriented_programming.php\n",
    "\n",
    "or \n",
    "\n",
    "http://www.sthurlow.com/python/lesson08/\n",
    "\n"
   ]
  },
  {
   "cell_type": "markdown",
   "metadata": {},
   "source": [
    "### Practice with Classes\n",
    "- Create a class called rectangle with width and height (w,h) as attributes\n",
    "- define two methods, area and perimeter\n",
    "- put it in the **Shapes.py** module and import it into your notebook\n",
    "- you will need to use a new trick **reload(module)** (here reload(S)) to\n",
    "  use the new material in **Shapes.py**\n",
    "- call the new class with some values for w and h. "
   ]
  },
  {
   "cell_type": "markdown",
   "metadata": {},
   "source": [
    "### 3) Namespaces\n",
    "\n",
    "Another thing you might be wondering about is why did we import **NumPy** inside the class definition when it was imported into the notebook at the top?  The answer is we didn't have to.  The class definition works perfectly well without it in this case.  But if it isn't in the Shape module, the module doesn't work at all because it doesn't \"know\" about **NumPy**.  So in the module, we have to import whatever you need to run the module.  \n",
    "\n"
   ]
  },
  {
   "cell_type": "markdown",
   "metadata": {},
   "source": [
    "### 4) Copies\n",
    "\n",
    "Another issue we have been tiptoeing around is the concept of a copy of an object and what that means.  In Python, this can be a bit confusing. When we define some simple variables, the behavior is pretty much what you might expect.  "
   ]
  },
  {
   "cell_type": "code",
   "execution_count": 10,
   "metadata": {
    "collapsed": false
   },
   "outputs": [
    {
     "name": "stdout",
     "output_type": "stream",
     "text": [
      "3\n",
      "3\n"
     ]
    }
   ],
   "source": [
    "x=3 # define x\n",
    "y=x # set y equal to x\n",
    "print (y) # print out y\n",
    "x=4 # change the value of X\n",
    "print (y) # and y is still equal to its first definition.  "
   ]
  },
  {
   "cell_type": "markdown",
   "metadata": {},
   "source": [
    "But if we define a list object (a _compound_ object with more than one variable), things get weird:"
   ]
  },
  {
   "cell_type": "code",
   "execution_count": 11,
   "metadata": {
    "collapsed": false
   },
   "outputs": [
    {
     "name": "stdout",
     "output_type": "stream",
     "text": [
      "['spam', 'ocelot', 42]\n",
      "['spam', 'ocelot', 'not an ocelot']\n"
     ]
    }
   ],
   "source": [
    "L1=['spam','ocelot',42] # define the list\n",
    "L2=L1  # make a copy of the list\n",
    "print (L2) # print the copy\n",
    "L1[2]='not an ocelot' # change the original\n",
    "print (L2) # and oops - the copy got changed too!"
   ]
  },
  {
   "cell_type": "markdown",
   "metadata": {},
   "source": [
    "This means that **L1** and **L2** refer to the SAME OBJECT.  So how do I make a copy that is its own object (doesn't change)?    For simple lists (that do not contain sublists), we already learned how to do this:"
   ]
  },
  {
   "cell_type": "code",
   "execution_count": 12,
   "metadata": {
    "collapsed": false
   },
   "outputs": [
    {
     "name": "stdout",
     "output_type": "stream",
     "text": [
      "['spam', 'ocelot', 'not an ocelot']\n",
      "['spam', 'ocelot', 'not an ocelot']\n"
     ]
    }
   ],
   "source": [
    "L3=L1[:]\n",
    "print (L3)\n",
    "L1[2]=42\n",
    "print (L3)"
   ]
  },
  {
   "cell_type": "markdown",
   "metadata": {},
   "source": [
    "This trick breaks down if the object is more complicated.  The copies will sometimes  be subject to mutation. (Try this yourself!).   \n",
    "\n",
    "To avoid this problem, there is a module called **copy** with a _method_ called **deepcopy**, which will make an independent copy of the object in question:"
   ]
  },
  {
   "cell_type": "code",
   "execution_count": 13,
   "metadata": {
    "collapsed": false
   },
   "outputs": [
    {
     "name": "stdout",
     "output_type": "stream",
     "text": [
      "L2:  ['spam', 'ocelot', 42]\n",
      "L1:  ['spam', 'ocelot', 'not an ocelot']\n",
      "L2:  ['spam', 'ocelot', 42]\n"
     ]
    }
   ],
   "source": [
    "from copy import deepcopy\n",
    "\n",
    "L1=['spam','ocelot',42] # define the list\n",
    "L2=deepcopy(L1)  # make a copy of the list\n",
    "print (\"L2: \",L2) # print the copy\n",
    "L1[2]='not an ocelot' # change the original\n",
    "print (\"L1: \",L1)\n",
    "print (\"L2: \",L2) # and bingo, L2 didn't "
   ]
  },
  {
   "cell_type": "markdown",
   "metadata": {},
   "source": [
    "### Practice with copies\n",
    "- using your **Shapes** module, make an instance of Circle called **x** with a radius of 1\n",
    "- make a copy of **x** called **y**\n",
    "- make a deepcopy of **x** called **z**\n",
    "- change the radius of **x** to 3\n",
    "- print out x.r, y.r and z.r"
   ]
  }
 ],
 "metadata": {
  "kernelspec": {
   "display_name": "Python 3",
   "language": "python",
   "name": "python3"
  },
  "language_info": {
   "codemirror_mode": {
    "name": "ipython",
    "version": 3
   },
   "file_extension": ".py",
   "mimetype": "text/x-python",
   "name": "python",
   "nbconvert_exporter": "python",
   "pygments_lexer": "ipython3",
   "version": "3.6.0"
  }
 },
 "nbformat": 4,
 "nbformat_minor": 0
}
