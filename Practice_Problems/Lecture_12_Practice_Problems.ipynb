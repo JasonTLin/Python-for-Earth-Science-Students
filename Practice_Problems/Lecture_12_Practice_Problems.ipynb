{
 "cells": [
  {
   "cell_type": "markdown",
   "metadata": {},
   "source": [
    "# Practice Problems\n",
    "### Lecture 12\n",
    "Answer each number in a separate cell\n",
    "\n",
    "Rename this notebook with your last name and the lecture \n",
    "    \n",
    "    ex. Asefaw_12\n",
    "    \n",
    "Turn-in this notebook on triton-ed by the end of class"
   ]
  },
  {
   "cell_type": "markdown",
   "metadata": {
    "collapsed": true
   },
   "source": [
    "### 1. Recursive functions (factorial)\n",
    "- Copy the function **factorial( )** into a code cell\n",
    "- Add a doc string\n",
    "- Add comments to describe what is happening \n",
    "- Call the function and print the output\n",
    "- Modify the function, so it prints \"terminating condition\" and the value of n, if it reaches the terminating condition or it prints \"Calling: factorial( )\" with the value of n-1 in the brackets, if it makes a recursive call to itself\n",
    "- Call the function again with a value less than 15\n",
    "\n",
    "### 2. Matplotlib.patches\n",
    "- make a red rectangle patch with the lower left hand corner at (0,0), a width of 3 and a height 5.  \n",
    "- make **fig** and **ax** objects using **plt.subplots( )**\n",
    "- remove the axes \n",
    "- add your rectangle patch to the plot\n",
    "\n",
    "### 3. Exception handling\n",
    "- write a regular function that takes a single parameter and squares it\n",
    "- write a **for** loop that squares all the values in this list:\n",
    "        values = [ 0., 11., 2, 22., 's',  33., 'c',  44.,   55.,   66., 'a',  77.,   88., 99.,  110.,  121., 'w']\n",
    "\n",
    "- Use the error message to learn what type of error is thrown when the program encounters a string instead of an integer.\n",
    "- Include a **try-except** statement that catches this type of error and prints out the offending values"
   ]
  }
 ],
 "metadata": {
  "kernelspec": {
   "display_name": "Python 3",
   "language": "python",
   "name": "python3"
  },
  "language_info": {
   "codemirror_mode": {
    "name": "ipython",
    "version": 3
   },
   "file_extension": ".py",
   "mimetype": "text/x-python",
   "name": "python",
   "nbconvert_exporter": "python",
   "pygments_lexer": "ipython3",
   "version": "3.6.3"
  }
 },
 "nbformat": 4,
 "nbformat_minor": 2
}
