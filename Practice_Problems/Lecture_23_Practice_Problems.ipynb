{
 "cells": [
  {
   "cell_type": "markdown",
   "metadata": {},
   "source": [
    "# 1. Saving images in a GUI\n",
    "- Open the notebook file GUI_command_line.\n",
    "- Copy the cell with the %%writefile magic command in it to a cell in your homework notebook.\n",
    "- Add a button element (e.g., a checkbox) to the left of the OK button that when checked will save the image to a file named bathymetry.png.\n",
    "- Modify the code to allow the user to enter a file name of their choice and save the image to that file name.  HINT: If the checkbox element returns the dictionary \"values\" where the key (set when you first defined the sg.Checkbox() object) is True, then call a function, say, **save_fig()** that saves  **fig** with a call to the figure object method:  **fig.savefig('bathymetry.png')**.\n"
   ]
  },
  {
   "cell_type": "markdown",
   "metadata": {},
   "source": [
    "# 2. Decorating your GUI\n",
    "\n",
    "- Change the title of the file browser window to something more meaningful.\n",
    "- Move your 'OK' and checkbox elements around so that they are centered at the bottom.  \n",
    "- Optional Challenge:  allow the user to choose a projection of their choice.  "
   ]
  },
  {
   "cell_type": "code",
   "execution_count": null,
   "metadata": {},
   "outputs": [],
   "source": []
  }
 ],
 "metadata": {
  "kernelspec": {
   "display_name": "Python 3",
   "language": "python",
   "name": "python3"
  },
  "language_info": {
   "codemirror_mode": {
    "name": "ipython",
    "version": 3
   },
   "file_extension": ".py",
   "mimetype": "text/x-python",
   "name": "python",
   "nbconvert_exporter": "python",
   "pygments_lexer": "ipython3",
   "version": "3.6.7"
  }
 },
 "nbformat": 4,
 "nbformat_minor": 2
}
