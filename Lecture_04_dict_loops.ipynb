{
 "cells": [
  {
   "cell_type": "markdown",
   "metadata": {},
   "source": [
    "### Review of lecture 3\n",
    "\n",
    "In lecture 3 we learned:\n",
    "\n",
    "1) About different data structures: lists, tuples, and sets  \n",
    "\n",
    "2) How to define, index, slice, append to, and copy lists\n"
   ]
  },
  {
   "cell_type": "markdown",
   "metadata": {},
   "source": [
    "### In this lecture we will:\n",
    "\n",
    "1) Learn more about another useful data structure- dictionaries- and some of its methods\n",
    "\n",
    "2) Introduce special Python code blocks\n",
    "\n",
    "3) Learn about \"for\" loops, \"while\" loops and \"if\" blocks"
   ]
  },
  {
   "cell_type": "markdown",
   "metadata": {},
   "source": [
    "## Dictionaries!\n",
    "\n",
    "Dictionaries are denoted by \\{ \\}.  They are also somewhat like lists, but instead of integer indices, they use alphanumeric _keys_:\n",
    "I love dictionaries.  So here is a bit more about them.\n",
    "\n",
    "To define one: \n"
   ]
  },
  {
   "cell_type": "code",
   "execution_count": 1,
   "metadata": {},
   "outputs": [
    {
     "data": {
      "text/plain": [
       "{'jeff': 44707, 'lab': 46531, 'lisa': 46084}"
      ]
     },
     "execution_count": 1,
     "metadata": {},
     "output_type": "execute_result"
    }
   ],
   "source": [
    "telnos={'lisa':46084,'lab':46531,'jeff':44707} # defines a dictionary of  telephone extensions\n",
    "telnos\n",
    "        "
   ]
  },
  {
   "cell_type": "markdown",
   "metadata": {},
   "source": [
    "To return the value associated with a specific key, use square brackets with the key name:"
   ]
  },
  {
   "cell_type": "code",
   "execution_count": 2,
   "metadata": {},
   "outputs": [
    {
     "data": {
      "text/plain": [
       "46084"
      ]
     },
     "execution_count": 2,
     "metadata": {},
     "output_type": "execute_result"
    }
   ],
   "source": [
    "telnos['lisa']"
   ]
  },
  {
   "cell_type": "markdown",
   "metadata": {},
   "source": [
    " To change a key's value:"
   ]
  },
  {
   "cell_type": "code",
   "execution_count": 3,
   "metadata": {
    "collapsed": true
   },
   "outputs": [],
   "source": [
    "telnos['lisa']=40684"
   ]
  },
  {
   "cell_type": "markdown",
   "metadata": {},
   "source": [
    "To add a new key and value:"
   ]
  },
  {
   "cell_type": "code",
   "execution_count": 4,
   "metadata": {},
   "outputs": [
    {
     "data": {
      "text/plain": [
       "{'jeff': 44707, 'lab': 46531, 'lisa': 40684, 'newguy': 48888}"
      ]
     },
     "execution_count": 4,
     "metadata": {},
     "output_type": "execute_result"
    }
   ],
   "source": [
    "telnos['newguy']=48888\n",
    "telnos"
   ]
  },
  {
   "cell_type": "markdown",
   "metadata": {},
   "source": [
    " Dictionaries also have some _methods_.\n",
    "\n",
    "One useful one generates a list of all the _keys_:"
   ]
  },
  {
   "cell_type": "code",
   "execution_count": 5,
   "metadata": {},
   "outputs": [
    {
     "data": {
      "text/plain": [
       "dict_keys(['jeff', 'lisa', 'newguy', 'lab'])"
      ]
     },
     "execution_count": 5,
     "metadata": {},
     "output_type": "execute_result"
    }
   ],
   "source": [
    "telnos.keys() # returns an unordered list of the keys"
   ]
  },
  {
   "cell_type": "markdown",
   "metadata": {},
   "source": [
    "Another one generates a list of all the values: "
   ]
  },
  {
   "cell_type": "code",
   "execution_count": 6,
   "metadata": {},
   "outputs": [
    {
     "data": {
      "text/plain": [
       "dict_values([44707, 40684, 48888, 46531])"
      ]
     },
     "execution_count": 6,
     "metadata": {},
     "output_type": "execute_result"
    }
   ],
   "source": [
    "telnos.values()"
   ]
  },
  {
   "cell_type": "markdown",
   "metadata": {},
   "source": [
    "For a more complete description of dictionaries,  see: \n",
    "\n",
    "http://docs.python.org/tutorial/datastructures.html#dictionaries\n"
   ]
  },
  {
   "cell_type": "markdown",
   "metadata": {},
   "source": [
    "### Practice with dictionaries\n",
    "\n",
    "-\tCreate a dictionary called geology with  the keys  “Igneous” and “Metamorphic”.  The _values_ of these keys should be  the definition of these words.\n",
    "-\tPrint the value for the key \"Igneous\"\n",
    "-\tAdd a new key-value pair “Sedimentary” with its definition.\n",
    "-\tPrint all of the values using the method **dict.values()**\n",
    "    "
   ]
  },
  {
   "cell_type": "markdown",
   "metadata": {},
   "source": [
    "## Code blocks\n",
    "\n",
    "We are about ready to start writing a \"real\" program.  First we need to talk about the structure of a python program and the concept of the 'code block'. \n",
    "\n",
    "Every programming language provides a way to group blocks of code together and execute them under certain conditions.  Python uses indentation to define the code blocks and this also makes the code readable. \n",
    "\n",
    "Each block starts with a condition statement (if this is True) terminated with a ':'\n",
    "\n",
    " A typical Python program looks like this: \n"
   ]
  },
  {
   "cell_type": "markdown",
   "metadata": {},
   "source": [
    "program statement\n",
    "\n",
    "block 1 condition statement:\n",
    "\n",
    "    block 1 statement\n",
    "\n",
    "    block 1 statement \\\n",
    "\n",
    "         Break in the indentation convention!\n",
    "\n",
    "    block 1 statement\n",
    "\n",
    "    block 2 condition statement:\n",
    "\n",
    "        block 2 statement\n",
    "\n",
    "        block 2 statement\n",
    "\n",
    "        block 3 top statement:\n",
    "\n",
    "            block 3 statement\n",
    "\n",
    "            block 3 statement\n",
    "\n",
    "            block 4 condition statement: block 4 single line of code\n",
    "\n",
    "        block 2 statement\n",
    "\n",
    "        block 2 statement\n",
    "\n",
    "    block 1 statement\n",
    "\n",
    "    block 1 statement\n",
    "\n",
    "program statement\n",
    "\n"
   ]
  },
  {
   "cell_type": "markdown",
   "metadata": {},
   "source": [
    "Exceptions to the code indentation rules are:\n",
    "\n",
    "- Any statement can be continued on the next line with the continuation character $\\backslash$ and the indentation of the following line is arbitrary. \n",
    "\n",
    "- If a code block consists of a single statement, then that may be placed on the same line as the colon. \n",
    "\n",
    "- The command \"break\" breaks you out of the code block. Use with caution!\n",
    "\n",
    "- There is a cheat that comes in handy when you are writing a complicated program and want to put in the code blocks but don't want them to DO anything yet:  the command  \"pass\" does nothing and can be used to stand in for a code block.\n",
    "\n",
    "\n",
    "\n",
    "\n"
   ]
  },
  {
   "cell_type": "markdown",
   "metadata": {},
   "source": [
    "TIP:  Use only spaces or only tabs to indent your code. Jupyter notebooks try to guess what you want and will indent for you, for example, after a statement terminating in a colon.  \n",
    "\n",
    "Whatever you do BE CONSISTENT because tabs are not the same as spaces in Python even if you can't tell the difference just by looking at it.\n",
    "\n"
   ]
  },
  {
   "cell_type": "markdown",
   "metadata": {},
   "source": [
    "## Condition statements\n",
    "\n",
    "Conditions  statements are statements like,  x is greater than y, which evaluate to either **True** or **False**.  \n",
    "\n",
    "In Python we would use a  _relational operator_ **>** for the \"is greater than\" test so x is greater than y is written:  **x>y**\n",
    "\n",
    "Here are some   _relational operators_  frequently used in condition statements:  \n",
    "\n",
    "\"==\"  means \"equals\";  A==B (Does A equal B?)\n",
    "\n",
    "\"!=\" means \"does not equal\";  A!=B (Is A not equal to B?)\n",
    "\n",
    "\"<\" means \"less than\"\n",
    "\n",
    "\"<=\" means \"less than or equal to\"\n",
    "\n",
    "\">\" means \"greater than\"\n",
    "\n",
    "\">=\" means \"greater than or equal to\"\n",
    "\n",
    "Conditions (like A==B)  can be combined with **and** or **or**  to make complex tests. For example ((A==B) and (C!=D)).  Both have to be true for the condition to evaluate as **True**.  \n",
    "Alternatively for ((A==B) or (C!=D)) only one has to be true for the condition to evaluate as **True**.   \n",
    "\n",
    "\n"
   ]
  },
  {
   "cell_type": "markdown",
   "metadata": {},
   "source": [
    "### \"while\" loops\n",
    "\n",
    "The **while** loop  executes some command while some condition is **True**. \n",
    "\n",
    "Let's make a code block using a **while** loop.  We will set a variable $N$ to some number (100) and decriment $N$ by 1 until it reaches a _threshold_ (90). When $N$ is no longer greater than the threshold, the code block  terminates.  \n",
    "\n"
   ]
  },
  {
   "cell_type": "code",
   "execution_count": 7,
   "metadata": {},
   "outputs": [
    {
     "name": "stdout",
     "output_type": "stream",
     "text": [
      "100\n",
      "99\n",
      "98\n",
      "97\n",
      "96\n",
      "95\n",
      "94\n",
      "93\n",
      "92\n",
      "91\n",
      "and the final value is:  90\n"
     ]
    }
   ],
   "source": [
    "N=100 # define the variable N to be 100\n",
    "threshold=90 # define some threshold to be 90\n",
    "\n",
    "# while the condition in the () is true, continue\n",
    "while (N > threshold): \n",
    "    print (N)  # what it says\n",
    "    N-=1  # decriment N by one\n",
    "print ('and the final value is: ',N) # now we're done we'll see what is left of N."
   ]
  },
  {
   "cell_type": "markdown",
   "metadata": {},
   "source": [
    "### Practice with while loops\n",
    "\n",
    "- Set **day** to 1 and fullMoon to **False**\n",
    "- create a **while** loop that checks if **day** is less than 29, if it is, print out \"Day\"  and the value of **day**, then increment **day** by 1\n",
    "- if it is  greater than or equal to 29, set **fullMoon** to **True** and announce that it’s a full moon (print).  \n",
    "\n"
   ]
  },
  {
   "cell_type": "markdown",
   "metadata": {},
   "source": [
    "### if statements\n",
    "\n",
    "In an **if** statement, the code-block is executed (once)  if the condition is true.\n",
    "\n",
    "Here is a  simple **if** statement:"
   ]
  },
  {
   "cell_type": "code",
   "execution_count": 8,
   "metadata": {},
   "outputs": [
    {
     "name": "stdout",
     "output_type": "stream",
     "text": [
      "where did N go?\n"
     ]
    }
   ],
   "source": [
    "# We can re-use N which was used in an earlier script:\n",
    "if (N < 100):\n",
    "    print (\"where did N go?\")\n",
    " \n",
    "\n"
   ]
  },
  {
   "cell_type": "markdown",
   "metadata": {},
   "source": [
    "There are additional conditions to include in the **if** code blocks.  In Python these are:  **elif**  which means if the first **if** statment is **False**, but the statement following **elif**  is **True**, then do something.  **else** which means \"otherwise\". \n",
    "\n",
    "  Consider these examples:"
   ]
  },
  {
   "cell_type": "code",
   "execution_count": 9,
   "metadata": {},
   "outputs": [
    {
     "name": "stdout",
     "output_type": "stream",
     "text": [
      "Temperate region\n"
     ]
    }
   ],
   "source": [
    "latitude  = 32.7 # define a variable 'latitude'\n",
    "\n",
    "if (latitude < 24): \n",
    "    print(\"Tropical region\")\n",
    "elif (latitude> 24 and latitude < 66):\n",
    "    print(\"Temperate region\")\n",
    "else:\n",
    "    print(\"Polar region\")"
   ]
  },
  {
   "cell_type": "markdown",
   "metadata": {},
   "source": [
    "**in** is a Python reserved word that checks if a value is \"in\" a list (or tuple or set):  "
   ]
  },
  {
   "cell_type": "code",
   "execution_count": 10,
   "metadata": {},
   "outputs": [
    {
     "name": "stdout",
     "output_type": "stream",
     "text": [
      "call susie and apologize!\n"
     ]
    }
   ],
   "source": [
    "mylist=['jane','josh','sid','geoff'] # define a list\n",
    "if 'susie' in mylist:  # if the string \"susie\" is in the list, then \n",
    "    pass # don't do anything\n",
    "if 'susie' not in mylist:\n",
    "   print ('call susie and apologize!')\n",
    "   mylist.append('susie')\n",
    "elif 'george' in mylist: # if first statement is false, try this one\n",
    "    print ('susie and george both in list') \n",
    "else: # if both statements are false, do this:\n",
    "    print (\"susie in list but george isn't\")\n"
   ]
  },
  {
   "cell_type": "markdown",
   "metadata": {},
   "source": [
    "### Practice with if-else\n",
    "-\tSet a variable oldestCrust to 3.5e9, oldestSeafloor to 180e6, ageEarth to 4.5e9, solarSystem 4.5e9 \n",
    "-\tCreate an if-else statement that compares the age of the crust with the seafloor and prints out which is older \n",
    "-\tCreate an if-else statement that compares the age of the Earth and the solar system and prints out if they formed at the same time \n",
    "\n"
   ]
  },
  {
   "cell_type": "markdown",
   "metadata": {},
   "source": [
    "### \"for\" loops\n",
    "\n",
    "\n",
    "The **for** loop allows you to step through a list and do something at each step. \n",
    "\n",
    "The following code block steps through a list (numbers),  squares each value and prints it out.  We make the list with **range()** as you learned in the last lecture.  "
   ]
  },
  {
   "cell_type": "code",
   "execution_count": 11,
   "metadata": {},
   "outputs": [
    {
     "name": "stdout",
     "output_type": "stream",
     "text": [
      "0 0\n",
      "1 1\n",
      "2 4\n",
      "3 9\n",
      "4 16\n",
      "5 25\n",
      "6 36\n",
      "7 49\n",
      "8 64\n",
      "9 81\n"
     ]
    }
   ],
   "source": [
    "# make a list with the range() function\n",
    "numbers = range(10) #creates a list of numbers 0 to 10 stepping by 1\n",
    "\n",
    "# step through the list assigning each element to the variable, n\n",
    "for n in numbers: # n is assigned to each element in turn\n",
    "    print (n, n*n ) # or we could have written print n**2"
   ]
  },
  {
   "cell_type": "markdown",
   "metadata": {},
   "source": [
    "As a second example, we can use the list generated by the dictionary method **dict.keys()**:"
   ]
  },
  {
   "cell_type": "code",
   "execution_count": 12,
   "metadata": {},
   "outputs": [
    {
     "name": "stdout",
     "output_type": "stream",
     "text": [
      "List of keys in telnos:  dict_keys(['jeff', 'lisa', 'newguy', 'lab'])\n",
      "jeff\n",
      "lisa\n",
      "newguy\n",
      "lab\n"
     ]
    }
   ],
   "source": [
    "# print out the list generated\n",
    "print ('List of keys in telnos: ',telnos.keys() )\n",
    "# notice the slightly fancier form of the print statement above.\n",
    "\n",
    "# now step through that list, \n",
    "   # assigning each element to the variable key\n",
    "for key in telnos.keys(): \n",
    "    print (key) # print out the variable, key"
   ]
  },
  {
   "cell_type": "markdown",
   "metadata": {},
   "source": [
    "What just happened?  The **for** statement assigned each element in the list generated by the method **telnos.keys()** to the variable **key** and then printed each element out. The **for** statement loops through the entire list one time"
   ]
  },
  {
   "cell_type": "markdown",
   "metadata": {},
   "source": [
    "### Practice with for loops\n",
    "\n",
    "-\tcreate a list of mountain ranges (Himalayas, Rocky, Trans-Antarctic, Andes, Alps, Appalachians, etc.)\n",
    "-\twrite a for loop that prints out all of the elements in your list "
   ]
  },
  {
   "cell_type": "markdown",
   "metadata": {},
   "source": [
    "## Nested loops\n",
    "\n",
    "You can build a series of loops within loops (_nested loops_).    \n",
    "\n",
    "\n"
   ]
  },
  {
   "cell_type": "code",
   "execution_count": 13,
   "metadata": {},
   "outputs": [
    {
     "name": "stdout",
     "output_type": "stream",
     "text": [
      "jeff\n",
      "lisa\n",
      "lisa's number\n",
      "she's on the phone\n",
      "lab\n"
     ]
    }
   ],
   "source": [
    "telnos={'lisa':46084,'lab':46531,'jeff':44707}\n",
    "busy=True\n",
    "for key in telnos.keys():\n",
    "    print (key)\n",
    "    num=telnos[key]\n",
    "    if num == 46084:\n",
    "        print (\"lisa's number\")\n",
    "        while busy:\n",
    "            print (\"she's on the phone\")\n",
    "            busy=False\n",
    "            "
   ]
  },
  {
   "cell_type": "markdown",
   "metadata": {},
   "source": [
    "### Practice with nested loops\n",
    "\n",
    "- Make a dictionary of volcanoes with the keys as the volcano names and the values as the most recent eruption: \"Mt St Helen's\":1981, 'Pinatubo':1992, 'Krakatoa':2014, 'Yellowstone':-68000.  \n",
    "- Make a nested loop:  step through the dictionary of volcanoes. If the last eruption was within the last five years, then print 'recent activity', otherwise print 'No recent activity'. "
   ]
  }
 ],
 "metadata": {
  "kernelspec": {
   "display_name": "Python 3",
   "language": "python",
   "name": "python3"
  },
  "language_info": {
   "codemirror_mode": {
    "name": "ipython",
    "version": 3
   },
   "file_extension": ".py",
   "mimetype": "text/x-python",
   "name": "python",
   "nbconvert_exporter": "python",
   "pygments_lexer": "ipython3",
   "version": "3.5.3"
  }
 },
 "nbformat": 4,
 "nbformat_minor": 1
}
