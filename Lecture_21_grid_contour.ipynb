{
 "cells": [
  {
   "cell_type": "code",
   "execution_count": 1,
   "metadata": {
    "collapsed": false,
    "deletable": true,
    "editable": true
   },
   "outputs": [
    {
     "ename": "ImportError",
     "evalue": "No module named 'mpl_toolkits.basemap'",
     "output_type": "error",
     "traceback": [
      "\u001b[0;31m---------------------------------------------------------------------------\u001b[0m",
      "\u001b[0;31mImportError\u001b[0m                               Traceback (most recent call last)",
      "\u001b[0;32m<ipython-input-1-2555d0ce5d15>\u001b[0m in \u001b[0;36m<module>\u001b[0;34m()\u001b[0m\n\u001b[1;32m      4\u001b[0m \u001b[0;32mfrom\u001b[0m \u001b[0mIPython\u001b[0m\u001b[0;34m.\u001b[0m\u001b[0mdisplay\u001b[0m \u001b[0;32mimport\u001b[0m \u001b[0mImage\u001b[0m\u001b[0;34m\u001b[0m\u001b[0m\n\u001b[1;32m      5\u001b[0m \u001b[0;32mimport\u001b[0m \u001b[0mpandas\u001b[0m \u001b[0;32mas\u001b[0m \u001b[0mpd\u001b[0m\u001b[0;34m\u001b[0m\u001b[0m\n\u001b[0;32m----> 6\u001b[0;31m \u001b[0;32mfrom\u001b[0m \u001b[0mmpl_toolkits\u001b[0m\u001b[0;34m.\u001b[0m\u001b[0mbasemap\u001b[0m \u001b[0;32mimport\u001b[0m \u001b[0mBasemap\u001b[0m\u001b[0;34m\u001b[0m\u001b[0m\n\u001b[0m\u001b[1;32m      7\u001b[0m \u001b[0;32mfrom\u001b[0m \u001b[0mmatplotlib\u001b[0m \u001b[0;32mimport\u001b[0m \u001b[0mcm\u001b[0m\u001b[0;34m\u001b[0m\u001b[0m\n\u001b[1;32m      8\u001b[0m \u001b[0;32mimport\u001b[0m \u001b[0mwarnings\u001b[0m\u001b[0;34m\u001b[0m\u001b[0m\n",
      "\u001b[0;31mImportError\u001b[0m: No module named 'mpl_toolkits.basemap'"
     ]
    }
   ],
   "source": [
    "import numpy as np\n",
    "import matplotlib.pyplot as plt\n",
    "%matplotlib inline\n",
    "from IPython.display import Image\n",
    "import pandas as pd\n",
    "from mpl_toolkits.basemap import Basemap\n",
    "from matplotlib import cm\n",
    "import warnings\n",
    "warnings.filterwarnings(\"ignore\")"
   ]
  },
  {
   "cell_type": "markdown",
   "metadata": {
    "deletable": true,
    "editable": true
   },
   "source": [
    "### Review of lecture 20\n",
    "\n",
    "\n",
    "In Lecture 20 we:\n",
    "\n",
    "- learned how to plot different map projections\n",
    "\n",
    "- learned about some properties of a Basemap object"
   ]
  },
  {
   "cell_type": "markdown",
   "metadata": {
    "deletable": true,
    "editable": true
   },
   "source": [
    "### In this lecture we will:\n",
    "\n",
    "- Learn about gridding and contouring.\n",
    "\n"
   ]
  },
  {
   "cell_type": "markdown",
   "metadata": {
    "deletable": true,
    "editable": true
   },
   "source": [
    "\n",
    "\n",
    "### Gridding\n",
    "\n",
    "Remember this figure?   \n"
   ]
  },
  {
   "cell_type": "code",
   "execution_count": null,
   "metadata": {
    "collapsed": false,
    "deletable": true,
    "editable": true
   },
   "outputs": [],
   "source": [
    "Image(filename='Figures/etopo20.jpg',width=500)"
   ]
  },
  {
   "cell_type": "markdown",
   "metadata": {
    "deletable": true,
    "editable": true
   },
   "source": [
    "We now have the tools to make it!\n",
    "\n",
    "First, you should recognize the basic orthographic projection from last lecture."
   ]
  },
  {
   "cell_type": "code",
   "execution_count": null,
   "metadata": {
    "collapsed": false,
    "deletable": true,
    "editable": true
   },
   "outputs": [],
   "source": [
    "# lon_0, lat_0 are the center point of the projection.\n",
    "plt.figure(1,(5,5)) # make the figure instance with a size of 5x5\n",
    "m = Basemap(projection='ortho',lon_0=-75,lat_0=42) # make an orthographic projection map object\n",
    "m.drawcoastlines() # put on the coastlines\n",
    "# draw parallels and meridians.\n",
    "m.drawparallels(np.arange(-90.,120.,30.))\n",
    "m.drawmeridians(np.arange(0.,420.,60.));\n"
   ]
  },
  {
   "cell_type": "markdown",
   "metadata": {
    "deletable": true,
    "editable": true
   },
   "source": [
    "And remember the topography data in the Etopo20 files from the lecture on the hypsographic curve (Lecture 15):"
   ]
  },
  {
   "cell_type": "code",
   "execution_count": null,
   "metadata": {
    "collapsed": false,
    "deletable": true,
    "editable": true
   },
   "outputs": [],
   "source": [
    "etopo=np.loadtxt('Datasets/Etopo/etopo20data.gz')\n",
    "elons=np.loadtxt('Datasets/Etopo/etopo20lons.gz')\n",
    "elats=np.loadtxt('Datasets/Etopo/etopo20lats.gz')\n",
    "print (etopo.shape)\n",
    "print (elons.shape)\n",
    "print (elats.shape)\n",
    "\n"
   ]
  },
  {
   "cell_type": "markdown",
   "metadata": {
    "deletable": true,
    "editable": true
   },
   "source": [
    "**elats** is a 1D array with 540 latitudinal bins (this is a long and skinny array- 540 x 1). \n",
    "\n",
    "**elons** is a 1D array with 1081 longitudinal bins (this as a fat and wide array- 1 x 1081).  \n",
    "And **etopo** is a 2D array with 540 rows and 1081 columns (540 x 1080).  \n",
    "\n",
    "So **etopo** has an elevation for each lat/lon cell.  \n",
    "\n",
    "In order to plot the elevation data onto a lat/lon grid, we have to first make a grid out of the 1D arrays of elats/ and elons.  \n",
    "\n",
    "We use the **numpy** function **meshgrid** for this.  \n"
   ]
  },
  {
   "cell_type": "code",
   "execution_count": null,
   "metadata": {
    "collapsed": false,
    "deletable": true,
    "editable": true
   },
   "outputs": [],
   "source": [
    "help (np.meshgrid)"
   ]
  },
  {
   "cell_type": "markdown",
   "metadata": {
    "deletable": true,
    "editable": true
   },
   "source": [
    "Let's try out meshgrid on some smaller arrays first, to wrap our mind around it, so to speak. "
   ]
  },
  {
   "cell_type": "code",
   "execution_count": null,
   "metadata": {
    "collapsed": false,
    "deletable": true,
    "editable": true
   },
   "outputs": [],
   "source": [
    "x = np.arange(-3.2, 3.3, 0.1) # make a 1D array from -3.3 to 3.2 with a spacing of .1\n",
    "y = np.arange(-3.2, 3.3, 0.1) # ditto\n",
    "xx, yy = np.meshgrid(x, y) # make a meshgrid\n",
    "print (x.shape)\n",
    "print (y.shape)\n",
    "print (xx.shape)\n",
    "print (xx[0:5])"
   ]
  },
  {
   "cell_type": "markdown",
   "metadata": {
    "deletable": true,
    "editable": true
   },
   "source": [
    "Now let's put some 'data' on this grid:"
   ]
  },
  {
   "cell_type": "code",
   "execution_count": null,
   "metadata": {
    "collapsed": false,
    "deletable": true,
    "editable": true
   },
   "outputs": [],
   "source": [
    "z = np.sin(xx**2 + yy**2) / (xx**2 + yy**2)\n",
    "print (z.shape)\n",
    "print (z[0:5])"
   ]
  },
  {
   "cell_type": "markdown",
   "metadata": {
    "deletable": true,
    "editable": true
   },
   "source": [
    "### Contouring\n",
    "\n",
    "One way to visualize data in a 2D grid is to make a contour plot of it.  For this we\n",
    "use the **matplotlib.pyplot** function **contour**  or **contourf**.  "
   ]
  },
  {
   "cell_type": "code",
   "execution_count": null,
   "metadata": {
    "collapsed": false,
    "deletable": true,
    "editable": true
   },
   "outputs": [],
   "source": [
    "help(plt.contourf)"
   ]
  },
  {
   "cell_type": "code",
   "execution_count": null,
   "metadata": {
    "collapsed": false,
    "deletable": true,
    "editable": true
   },
   "outputs": [],
   "source": [
    "h = plt.contour(x,y,z,cmap=cm.jet) # plot the contours\n",
    "plt.axis('equal'); \n",
    "# this makes the axes \"square\" so we get a circle and not a squashed ellipse\n"
   ]
  },
  {
   "cell_type": "markdown",
   "metadata": {
    "deletable": true,
    "editable": true
   },
   "source": [
    "Just in case you want to label your contours, you can use the **clabel** function from **matplotlib.pyplot**. "
   ]
  },
  {
   "cell_type": "code",
   "execution_count": null,
   "metadata": {
    "collapsed": false,
    "deletable": true,
    "editable": true
   },
   "outputs": [],
   "source": [
    "fig = plt.contour(x,y,z,levels=np.arange(0,1.20,.20),cmap=cm.jet)\n",
    "plt.axis('equal')\n",
    "plt.clabel(fig, inline=1, fontsize=10,fmt='%3.2f');"
   ]
  },
  {
   "cell_type": "markdown",
   "metadata": {
    "deletable": true,
    "editable": true
   },
   "source": [
    "Contour plots are  all well and good, but what we were after was a continuous gradation of color, not the contour lines, so for that we use the function **contourf** instead: "
   ]
  },
  {
   "cell_type": "code",
   "execution_count": null,
   "metadata": {
    "collapsed": false,
    "deletable": true,
    "editable": true
   },
   "outputs": [],
   "source": [
    "fig = plt.contourf(x,y,z,cmap=cm.jet)\n",
    "plt.axis('equal') # this makes the axes square\n",
    "plt.axis('off'); # and this turns off the frame, ticks and labels\n"
   ]
  },
  {
   "cell_type": "markdown",
   "metadata": {
    "deletable": true,
    "editable": true
   },
   "source": [
    "So, where were we? Oh yes, we wanted to plot the contoured elevation data onto an orthographic projection.  First, we will generate a meshgrid using **np.meshgrid** from **numpy** and the method **contourf** of our  map object **m** defined above.  The method **m.contourf** works like **matplotlib**'s:"
   ]
  },
  {
   "cell_type": "code",
   "execution_count": null,
   "metadata": {
    "collapsed": false,
    "deletable": true,
    "editable": true
   },
   "outputs": [],
   "source": [
    "xx, yy = np.meshgrid(elons,elats)\n",
    "x,y=m(xx,yy)\n",
    "cs=m.contourf(x,y,etopo,30,cmap=cm.jet) # the 30 is the number of contours\n"
   ]
  },
  {
   "cell_type": "markdown",
   "metadata": {
    "deletable": true,
    "editable": true
   },
   "source": [
    "Tada!!!"
   ]
  },
  {
   "cell_type": "markdown",
   "metadata": {
    "deletable": true,
    "editable": true
   },
   "source": [
    "### Application to the Earth's magnetic field\n",
    "\n",
    "Now we know how to grid and contour data, we can try to plot other features of our planet, like the magnetic field strength or inclination (dip below or above the horizontal).  I prepared a module named **mkigrf** for your mapping pleasure.   It includes a few functions that evaluate the elements of the magnetic field for any date between 1900 and 2020 including total field strength, direction, and radial field strength. Up until 2015, the data come from the  International Geomagnetic Reference Field (IGRF) model and after that, the data are extrapolated.  To learn more, check out this website:  https://www.ngdc.noaa.gov/IAGA/vmod/igrf.html.\n",
    "\n",
    "You can use the function **mkigrf.doigrf** to find out the magnetic declination at a particular time and place. You could then use this function to set your compass.  Handy for us geology types...  \n",
    "\n",
    "But  first, I should explain what the magnetic vector is.  As with all vectors, it has both direction and length.  We can express the vector in terms of cartesian coordinates (say, North, East and Down) or these polar coordinates:\n",
    "- declination: the angle of the magnetic direction in the horizontal plane with respect to the North pole\n",
    "- inclination: the angle of the magnetic direction in the vertical plane with respect to the horizontal\n",
    "- intensity: the strength of the field, usually in units of tesla (either nano or micro). Tesla is is magnetic induction and is usually represented by the letter **B**.  "
   ]
  },
  {
   "cell_type": "code",
   "execution_count": null,
   "metadata": {
    "collapsed": false,
    "deletable": true,
    "editable": true
   },
   "outputs": [],
   "source": [
    "Image(filename='Figures/components.png')"
   ]
  },
  {
   "cell_type": "markdown",
   "metadata": {
    "deletable": true,
    "editable": true
   },
   "source": [
    "_a) Lines of flux produced by  a geocentric axial dipole.  b) Lines of flux  of the geomagnetic field of 2005.   At point P the horizontal component of the  field_ $B_H$, _is directed toward the magnetic north.  The vertical component_ $B_V$ _is directed down and the field makes an angle_ $I$ _with the horizontal, known as the\n",
    "inclination.  c) Components of the geomagnetic field vector_ ${\\bf B}$.  _The angle between the horizontal component (directed toward magnetic north and geographic north is the \n",
    "declination_ $D$._) [Modified from Ben-Yosef et al., 2008, doi:10.1016/j.jas.2008.05.016] _"
   ]
  },
  {
   "cell_type": "code",
   "execution_count": null,
   "metadata": {
    "collapsed": false,
    "deletable": true,
    "editable": true
   },
   "outputs": [],
   "source": [
    "import mkigrf\n",
    "help(mkigrf.doigrf)"
   ]
  },
  {
   "cell_type": "markdown",
   "metadata": {
    "deletable": true,
    "editable": true
   },
   "source": [
    "**mkigrf.doigrf** returns $x,y,z$ cartesian components of the magnetic field vector.  But we want to plot the polar coordinates _declination, inclination, and strength_.  So we need to convert from cartesian coordinates to polar coordinates.  There is a handy function  **mkigrf.cart2dir()** that will do this for you.   For example, we find the declination for San Diego in 2017 like this:"
   ]
  },
  {
   "cell_type": "code",
   "execution_count": null,
   "metadata": {
    "collapsed": false,
    "deletable": true,
    "editable": true
   },
   "outputs": [],
   "source": [
    "San_lat=33\n",
    "San_lon=243\n",
    "x,y,z,f=mkigrf.doigrf(San_lon,San_lat,2018)\n",
    "Dec,Inc,B=mkigrf.cart2dir(x,y,z)\n",
    "print ('%7.1f'%(Dec)) # notice the formatting"
   ]
  },
  {
   "cell_type": "markdown",
   "metadata": {
    "deletable": true,
    "editable": true
   },
   "source": [
    "We can use the tools in **mkigrf** to evaluate the magnetic field over the surface of the Earth and then contour it on, say, a Hammer projection.  I'm going to go ahead and make a function for this so we can change the map central longitude and date as we like. "
   ]
  },
  {
   "cell_type": "code",
   "execution_count": null,
   "metadata": {
    "collapsed": true,
    "deletable": true,
    "editable": true
   },
   "outputs": [],
   "source": [
    "def magMap(date,**kwargs):\n",
    "    \"\"\"\n",
    "    generates the data for a map of the magnetic field. \n",
    "    Inputs: \n",
    "    required: \n",
    "        date = decimal year for evaluation (between 1900 and 2020)\n",
    "    optional: \n",
    "        lon_0 = desired zero longitude\n",
    "    \n",
    "    Returns: \n",
    "    \n",
    "    Bdec = declinations\n",
    "    Binc = inclinations\n",
    "    B = field strength (in microtesla)\n",
    "    lons = array of longitudes\n",
    "    lats = array of latitudes\n",
    "\n",
    "    \"\"\"\n",
    "    if 'lon_0' in kwargs.keys(): # check if there are keyword arguments\n",
    "        lon_0=kwargs['lon_0'] # if lon_0 is set, use that one\n",
    "    else: # otherwise..... \n",
    "        lon_0=0. # set the default lon_0 to 0. \n",
    "    \n",
    "    incr=10 # we can vary to the resolution of the model\n",
    "    lonmax=(lon_0+180.)%360+incr # get some parameters for our arrays of lat/lon\n",
    "    lonmin=(lon_0-180.)\n",
    "    latmax=90+incr\n",
    "    lons=np.arange(lonmin,lonmax,incr) # make a 1D array of longitudes (like elons)\n",
    "    lats=np.arange(-90,latmax,incr)# make a 1D array of longitudes (like elats)\n",
    "    \n",
    "    \n",
    "    # set up some containers for the field elements\n",
    "    lenLats, lenLons = len(lats), len(lons)\n",
    "    B=np.zeros((lenLats,lenLons))\n",
    "    Binc=np.zeros((lenLats,lenLons))\n",
    "    Bdec=np.zeros((lenLats,lenLons))\n",
    "    Brad=np.zeros((lenLats,lenLons))\n",
    "    \n",
    "    for j in range(lenLats): # step through the latitudes\n",
    "        for i in range(lenLons): # and the longitudes\n",
    "            x,y,z,f=mkigrf.doigrf(lons[i],lats[j],date)  # get the field elements\n",
    "            Dec,Inc,Int=mkigrf.cart2dir(x,y,z) # turn them into polar coordites\n",
    "            B[j][i]=Int*1e-3 # convert the string to microtesla (from nT)\n",
    "            Binc[j][i]=Inc # store the inclination value\n",
    "            Bdec[j][i]=Dec # store the declination value\n",
    "    return Bdec,Binc,B,lons,lats # return the arrays.  \n",
    "\n"
   ]
  },
  {
   "cell_type": "markdown",
   "metadata": {
    "deletable": true,
    "editable": true
   },
   "source": [
    "We can call magMap for any date we like.  "
   ]
  },
  {
   "cell_type": "code",
   "execution_count": null,
   "metadata": {
    "collapsed": true,
    "deletable": true,
    "editable": true
   },
   "outputs": [],
   "source": [
    "date=2018 # let's do this for 2018 (actually, this is the beginning of 2017)\n",
    "lon_0=0 # we can specify the grid spacing and the intended 0 longitude for the plot\n",
    "Ds,Is,Bs,lons,lats=magMap(date)"
   ]
  },
  {
   "cell_type": "markdown",
   "metadata": {
    "deletable": true,
    "editable": true
   },
   "source": [
    "And.... drum roll ....  we can plot them on a contour map.  "
   ]
  },
  {
   "cell_type": "code",
   "execution_count": null,
   "metadata": {
    "collapsed": false,
    "deletable": true,
    "editable": true
   },
   "outputs": [],
   "source": [
    "m = Basemap(projection='hammer',lon_0=lon_0)\n",
    "xx, yy = np.meshgrid(lons,lats)\n",
    "x,y=m(xx,yy)\n",
    "\n",
    "m.drawcoastlines()\n",
    "lincr=1\n",
    "levmax=round(Bs.max())+lincr\n",
    "levmin=round(Bs.min()-lincr)\n",
    "\n",
    "cs=m.contourf(x,y,Bs,levels=np.arange(levmin,levmax,lincr),cmap=cm.jet) \n",
    "# by assigning the contourf object to cs, we can add a colorbar\n",
    "cbar=m.colorbar(cs,location='bottom')\n",
    "plt.title('Field strength ($\\mu$T): '+str(date));\n",
    "\n"
   ]
  },
  {
   "cell_type": "code",
   "execution_count": null,
   "metadata": {
    "collapsed": false,
    "deletable": true,
    "editable": true
   },
   "outputs": [],
   "source": [
    "levmin,levmax"
   ]
  },
  {
   "cell_type": "markdown",
   "metadata": {
    "deletable": true,
    "editable": true
   },
   "source": [
    "Let's apply the same technique to map the inclinations."
   ]
  },
  {
   "cell_type": "code",
   "execution_count": null,
   "metadata": {
    "collapsed": false,
    "deletable": true,
    "editable": true
   },
   "outputs": [],
   "source": [
    "m = Basemap(projection='hammer',lon_0=lon_0)\n",
    "xx,yy = np.meshgrid(lons, lats)\n",
    "x,y=m(xx,yy)\n",
    "\n",
    "m.drawcoastlines()\n",
    "lincr=1\n",
    "levmax=Is.max()+lincr\n",
    "levmin=round(Is.min()-lincr)\n",
    "\n",
    "cs=m.contourf(x,y,Is,levels=np.arange(levmin,levmax,lincr),cmap=cm.jet)\n",
    "# put on contour lines at 10 degree intervals with  black lines\n",
    "m.contour(x,y,Is,levels=np.arange(-80,90,10),colors='black') \n",
    "# by assigning the contourf object to cs, we can add a colorbar\n",
    "cbar=m.colorbar(cs,location='bottom')\n",
    "plt.title('Field inclination: '+str(date));\n",
    "\n"
   ]
  },
  {
   "cell_type": "markdown",
   "metadata": {
    "deletable": true,
    "editable": true
   },
   "source": [
    "Okay - i love magnetic fields and I think these maps are cool. "
   ]
  },
  {
   "cell_type": "markdown",
   "metadata": {
    "collapsed": true,
    "deletable": true,
    "editable": true
   },
   "source": [
    "### Assignment #7\n",
    "\n",
    "In 1600, William Gilbert hypothesized that the Earth itself was a giant bar magnetic and that this gave rise to the Earth's **magnetic field**!  If it were true- that the source of the magnetic field behaved like a giant bar magnet- then the **inclination** of the **magnetic field** would vary as a function of latitude. \n",
    "\n",
    "**Inclination** is the angle between the horizontal and the direction of the field.   If the field were generated by a bar magnet, then the **inclination** would be horizontal (0 $^\\circ$) at the magnetic equator and vertical ($\\pm 90 ^\\circ$) at the North and South poles. The equation that relates **inclination** ($I$) and latitude ($\\lambda$) is:\n",
    "\n",
    "$$ \\tan I = 2 \\tan \\lambda \\quad \\quad(dipole\\  equation)$$        \n",
    "\n",
    "7.1 Calculate the inclination at every latitude using the dipole equation:\n",
    "\n",
    "-  Write a function that calculates inclination (use the dipole equation)\n",
    "\n",
    "-  Apply the function you wrote to latitudes ranging from -90 to +90 at one degree intervals.  \n",
    "    - [**Hint:** Remember that **np.tan( )**  and **np.arctan( )** work in radians and your plot should be in degrees.]   \n",
    "    \n",
    "\n",
    "\n",
    "7.2 Calculate the actual inclination at every latitude in your birth year:\n",
    "\n",
    "- Use the function **magMap( )** to evaluate the magnetic field for the year you were born\n",
    "\n",
    "- Use **meshgrid( )** to make a 2-D array of the latitudes and longitudes that were returned from **magMap( )**\n",
    "\n",
    "- Transpose the new 2-D latitude array and then flatten the transposed array into a 1D array\n",
    "\n",
    "- Transpose the inclination array that was returned by **magMap( )** and then flatten it into a 1D array.  \n",
    "\n",
    "- Use the function **np.polyfit( )** to calculate a best fitting 3rd order polynomial through the data\n",
    "\n",
    "- Use **np.polyval()** to evaluate the curve at all the latitudes\n",
    "\n",
    "7.3 Compare the inclination that we expect from a bar magnet (calculated in 7.1) to the actual inclination in your birth year (calculated in 7.2) \n",
    "\n",
    "- Plot the latitudes and inclinations that you calculated in 7.1. Plot the data points as stars and label this line 'Ideal GAD'\n",
    "    - [**Hint:** use * ]\n",
    "        \n",
    "- Plot the latitude against the inclincations you calculated in 7.2. Label the points with the year of your birth\n",
    "\n",
    "- Plot the best fitting curve you evaluated in 7.2. Plot the points as black plus signs and label this line 'Best fit'\n",
    "    - [**Hint:** use k+ ]\n",
    "\n",
    "- Add a legend, title, x-axis, and y-axis to your figure\n",
    "\n",
    "7.4 Make a contour map of the field strength in your birth year\n",
    "\n",
    "- The map should be a hammer projection with lon_0 set to 0\n",
    "\n",
    "- Add a title and colorbar to your figure"
   ]
  }
 ],
 "metadata": {
  "kernelspec": {
   "display_name": "Python 3",
   "language": "python",
   "name": "python3"
  }
 },
 "nbformat": 4,
 "nbformat_minor": 1
}
