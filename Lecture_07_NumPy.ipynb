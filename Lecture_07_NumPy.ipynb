{
 "cells": [
  {
   "cell_type": "code",
   "execution_count": 1,
   "metadata": {
    "collapsed": false,
    "deletable": true,
    "editable": true
   },
   "outputs": [],
   "source": [
    "import numpy as np\n",
    "import matplotlib.pyplot as plt \n",
    "%matplotlib inline "
   ]
  },
  {
   "cell_type": "markdown",
   "metadata": {
    "deletable": true,
    "editable": true
   },
   "source": [
    "### Review of lecture 6\n",
    "\n",
    "In lecture 6 we learned how to import the **NumPy** and **matplotlib** modules into your notebooks.  **NumPy** is useful for reading in data; it also has a number of useful numerical functions.  **Matplotlib** allows us to plot the data. \n",
    "\n"
   ]
  },
  {
   "cell_type": "markdown",
   "metadata": {
    "deletable": true,
    "editable": true
   },
   "source": [
    "### In this lecture we will:\n",
    "\n",
    "1) review key principles of Lecture 6\n",
    "\n",
    "2) learn more about NumPy and matplotlib\n",
    " \n",
    "\n"
   ]
  },
  {
   "cell_type": "markdown",
   "metadata": {
    "collapsed": true,
    "deletable": true,
    "editable": true
   },
   "source": [
    "\n",
    "### NumPy and N-dimensional arrays\n",
    "\n",
    "We briefly mentioned **arrays** in the last lecture but quickly moved into plotting.  **Arrays**  in **Numpy**  are somewhat  similar to  lists but there are important differences with advantages and disadvantages.\n",
    "Unlike lists,   **arrays** are all of the same data type (**dtype**), usually numbers (integers or floats) and at times characters.  A disadvantage of arrays is that the size and shape is fixed when it's created. \n",
    "\n",
    "Remeber, we can define a list:\n",
    "\n",
    "L=[ ]\n",
    "\n",
    "then append to it as desired. This is not the case with arrays. \n",
    "\n",
    "Why use arrays when you can use lists?  Arrays are far more computationally efficient than lists, particularly for things like matrix math.  You can perform calculations on the entire array in one go instead of looping through element by element as for lists.  \n",
    "\n",
    "To make things a little confusing, there are  several different data objects that are loosely called arrays, e.g., arrays, character arrays and matrices.  These are all subclasses of **ndarray** (N-dimensional array).  We will just worry about _arrays_ in this course.  \n",
    "\n",
    "Apart from reading in a data file with **NumPy**, as we did in the last lecture, there are many different ways of creating arrays.  Here are a few examples:"
   ]
  },
  {
   "cell_type": "code",
   "execution_count": 2,
   "metadata": {
    "collapsed": false,
    "deletable": true,
    "editable": true
   },
   "outputs": [
    {
     "name": "stdout",
     "output_type": "stream",
     "text": [
      "[[1 2 3]\n",
      " [4 2 0]\n",
      " [1 1 2]]\n"
     ]
    }
   ],
   "source": [
    "# define the values with the function array( ). For example a 3x3 array\n",
    "A= np.array([[1, 2, 3],[4,2,0],[1,1,2]])\n",
    "print (A)\n",
    "\n",
    "# notice how there are no commas in arrays  "
   ]
  },
  {
   "cell_type": "markdown",
   "metadata": {
    "deletable": true,
    "editable": true
   },
   "source": [
    "We can also generate an array using the **np.arange( )** function which works in a manner similar to **range( )** but creates an array with floats or integers.  "
   ]
  },
  {
   "cell_type": "code",
   "execution_count": 3,
   "metadata": {
    "collapsed": false,
    "deletable": true,
    "editable": true
   },
   "outputs": [
    {
     "name": "stdout",
     "output_type": "stream",
     "text": [
      "List made by 'range':  range(0, 10)\n",
      "Array made by np.arange( ):  [0 1 2 3 4 5 6 7 8 9]\n",
      "Array with real numbers: \n",
      " [ 0.   0.2  0.4  0.6  0.8  1.   1.2  1.4  1.6  1.8  2.   2.2  2.4  2.6  2.8\n",
      "  3.   3.2  3.4  3.6  3.8  4.   4.2  4.4  4.6  4.8  5.   5.2  5.4  5.6  5.8\n",
      "  6.   6.2  6.4  6.6  6.8  7.   7.2  7.4  7.6  7.8  8.   8.2  8.4  8.6  8.8\n",
      "  9.   9.2  9.4  9.6  9.8]\n"
     ]
    }
   ],
   "source": [
    "# use range( ) to generate a one-dimensional (1D) list that ranges \n",
    "# from the first arguement up to (but not including) the second, that\n",
    "# increments by the third:\n",
    "B=range(10) #we learned that range( ) creates a list of integers\n",
    "print (\"List made by 'range': \",B)\n",
    "B_integers=np.arange(0,10,1) #arange( ) is an np function that creates an array of integers\n",
    "print (\"Array made by np.arange( ): \", B_integers)\n",
    "B_real=np.arange(0,10,.2) #  and with floats\n",
    "print (\"Array with real numbers: \\n\",B_real) # notice the \"\\n\"? that creates a new line\n",
    "# Notice that while \"range\" makes a list of integers, arange makes an array of integers \n",
    "#   or real numbers.  "
   ]
  },
  {
   "cell_type": "markdown",
   "metadata": {
    "deletable": true,
    "editable": true
   },
   "source": [
    "There are several ways to create special arrays. For example, arrays initialized by zeroes, ones, or any other value: "
   ]
  },
  {
   "cell_type": "code",
   "execution_count": 4,
   "metadata": {
    "collapsed": false,
    "deletable": true,
    "editable": true
   },
   "outputs": [
    {
     "name": "stdout",
     "output_type": "stream",
     "text": [
      "[[ 0.  0.  0.]\n",
      " [ 0.  0.  0.]]\n"
     ]
    }
   ],
   "source": [
    "D=np.zeros((2,3)) # Notice the size is specified by a tuple.\n",
    "print (D)\n",
    "\n"
   ]
  },
  {
   "cell_type": "code",
   "execution_count": 5,
   "metadata": {
    "collapsed": false,
    "deletable": true,
    "editable": true
   },
   "outputs": [
    {
     "name": "stdout",
     "output_type": "stream",
     "text": [
      "[[ 1.  1.  1.]\n",
      " [ 1.  1.  1.]]\n"
     ]
    }
   ],
   "source": [
    "E=np.ones((2,3))\n",
    "print (E)\n"
   ]
  },
  {
   "cell_type": "markdown",
   "metadata": {
    "deletable": true,
    "editable": true
   },
   "source": [
    "As you might have guessed, **arange(start, end, interval)** generates numbers between two endpoints (**start** and **end**) that are spaced by **interval**. At times, it is useful to have **N** numbers equally spaced between two endpoints. For this, we use the **NumPy** function **linspace(start,end,N)** which generates an array starting with **start**, going up to **end** with **N** linearly spaced elements:  "
   ]
  },
  {
   "cell_type": "code",
   "execution_count": 6,
   "metadata": {
    "collapsed": false,
    "deletable": true,
    "editable": true
   },
   "outputs": [
    {
     "name": "stdout",
     "output_type": "stream",
     "text": [
      "[  0.           0.76923077   1.53846154   2.30769231   3.07692308\n",
      "   3.84615385   4.61538462   5.38461538   6.15384615   6.92307692\n",
      "   7.69230769   8.46153846   9.23076923  10.        ]\n"
     ]
    }
   ],
   "source": [
    "F=np.linspace(0,10,14)\n",
    "print  (F)\n"
   ]
  },
  {
   "cell_type": "markdown",
   "metadata": {
    "deletable": true,
    "editable": true
   },
   "source": [
    "To summarize: \n",
    "\n",
    "**np.linspace( )** creates an array with **N** evenly spaced elements starting at **start** and including the **stop** value,\n",
    "while **np.arange( )** creates an array with elements at _step_ intervals between  **start** up to but NOT including the  **stop** value.  "
   ]
  },
  {
   "cell_type": "markdown",
   "metadata": {
    "deletable": true,
    "editable": true
   },
   "source": [
    "So, what happens if we define an array without initializing it?   Let's make a 2x2 array of the **dtype** _float_.  "
   ]
  },
  {
   "cell_type": "code",
   "execution_count": 10,
   "metadata": {
    "collapsed": false,
    "deletable": true,
    "editable": true,
    "scrolled": true
   },
   "outputs": [
    {
     "name": "stdout",
     "output_type": "stream",
     "text": [
      "[[ 0.  0.]\n",
      " [ 0.  0.]]\n"
     ]
    }
   ],
   "source": [
    "G=np.ndarray(shape=(2,2), dtype=float) \n",
    "print  (G)   "
   ]
  },
  {
   "cell_type": "markdown",
   "metadata": {
    "deletable": true,
    "editable": true
   },
   "source": [
    "So... the array was initialized with teeny tiny numbers but not zeros.  "
   ]
  },
  {
   "cell_type": "markdown",
   "metadata": {
    "deletable": true,
    "editable": true
   },
   "source": [
    "What if we wanted to combine two arrays? \n",
    "We can combine arrays with the **np.concatenate()** method.  "
   ]
  },
  {
   "cell_type": "code",
   "execution_count": 7,
   "metadata": {
    "collapsed": false,
    "deletable": true,
    "editable": true,
    "scrolled": true
   },
   "outputs": [
    {
     "name": "stdout",
     "output_type": "stream",
     "text": [
      "[[ 0.  0.  0.]\n",
      " [ 0.  0.  0.]\n",
      " [ 1.  1.  1.]\n",
      " [ 1.  1.  1.]]\n"
     ]
    }
   ],
   "source": [
    "print (np.concatenate((D,E)))\n",
    "#help (np.concatenate)"
   ]
  },
  {
   "cell_type": "markdown",
   "metadata": {
    "deletable": true,
    "editable": true
   },
   "source": [
    "### Practice generating arrays\n",
    "\n",
    "- Make a list with integers ranging from 0 up to 360 at intervals of 10.\n",
    "- Make an array from 0 to 2$\\pi$ at intervals of $2\\pi/36$.\n",
    "- print them both out.  \n",
    "\n"
   ]
  },
  {
   "cell_type": "markdown",
   "metadata": {
    "deletable": true,
    "editable": true
   },
   "source": [
    "### Array methods\n",
    "\n",
    "Arrays, like lists,   have a bunch of _methods_, but the _methods_ are different than the list _methods_.  For example, you can't append to an array.  But you CAN take a 1D array and re-arrange it into a 2D array (as long as the total number of elements is the same).   To do that, we use the **array.reshape( )** _method_:"
   ]
  },
  {
   "cell_type": "code",
   "execution_count": 8,
   "metadata": {
    "collapsed": false,
    "deletable": true,
    "editable": true,
    "scrolled": true
   },
   "outputs": [
    {
     "name": "stdout",
     "output_type": "stream",
     "text": [
      "[ 0.   0.2  0.4  0.6  0.8  1.   1.2  1.4  1.6  1.8  2.   2.2  2.4  2.6  2.8\n",
      "  3.   3.2  3.4  3.6  3.8  4.   4.2  4.4  4.6  4.8  5.   5.2  5.4  5.6  5.8\n",
      "  6.   6.2  6.4  6.6  6.8  7.   7.2  7.4  7.6  7.8  8.   8.2  8.4  8.6  8.8\n",
      "  9.   9.2  9.4  9.6  9.8]\n",
      "[[ 0.   0.2  0.4  0.6  0.8  1.   1.2  1.4  1.6  1.8]\n",
      " [ 2.   2.2  2.4  2.6  2.8  3.   3.2  3.4  3.6  3.8]\n",
      " [ 4.   4.2  4.4  4.6  4.8  5.   5.2  5.4  5.6  5.8]\n",
      " [ 6.   6.2  6.4  6.6  6.8  7.   7.2  7.4  7.6  7.8]\n",
      " [ 8.   8.2  8.4  8.6  8.8  9.   9.2  9.4  9.6  9.8]]\n"
     ]
    }
   ],
   "source": [
    "# we can take a 1D array with 50 elements and reshape it into, say a 5 X 10 2-D array:\n",
    "B_real_2D=B_real.reshape((5,10))\n",
    "print (B_real)\n",
    "print (B_real_2D)\n"
   ]
  },
  {
   "cell_type": "markdown",
   "metadata": {
    "deletable": true,
    "editable": true
   },
   "source": [
    "You can go the other way, taking a 2D (or more) array and turning it into one long 1D array using **array.flatten( )**.  "
   ]
  },
  {
   "cell_type": "code",
   "execution_count": 13,
   "metadata": {
    "collapsed": false,
    "deletable": true,
    "editable": true
   },
   "outputs": [
    {
     "name": "stdout",
     "output_type": "stream",
     "text": [
      "[ 0.   0.2  0.4  0.6  0.8  1.   1.2  1.4  1.6  1.8  2.   2.2  2.4  2.6  2.8\n",
      "  3.   3.2  3.4  3.6  3.8  4.   4.2  4.4  4.6  4.8  5.   5.2  5.4  5.6  5.8\n",
      "  6.   6.2  6.4  6.6  6.8  7.   7.2  7.4  7.6  7.8  8.   8.2  8.4  8.6  8.8\n",
      "  9.   9.2  9.4  9.6  9.8]\n"
     ]
    }
   ],
   "source": [
    "B_real_1D=B_real_2D.flatten()\n",
    "print (B_real_1D)"
   ]
  },
  {
   "cell_type": "markdown",
   "metadata": {
    "deletable": true,
    "editable": true
   },
   "source": [
    "Another super useful array method is **array.transpose()**  which swaps rows and columns:"
   ]
  },
  {
   "cell_type": "code",
   "execution_count": 9,
   "metadata": {
    "collapsed": false,
    "deletable": true,
    "editable": true
   },
   "outputs": [
    {
     "name": "stdout",
     "output_type": "stream",
     "text": [
      "[[ 0.   0.2  0.4  0.6  0.8  1.   1.2  1.4  1.6  1.8]\n",
      " [ 2.   2.2  2.4  2.6  2.8  3.   3.2  3.4  3.6  3.8]\n",
      " [ 4.   4.2  4.4  4.6  4.8  5.   5.2  5.4  5.6  5.8]\n",
      " [ 6.   6.2  6.4  6.6  6.8  7.   7.2  7.4  7.6  7.8]\n",
      " [ 8.   8.2  8.4  8.6  8.8  9.   9.2  9.4  9.6  9.8]]\n",
      "[[ 0.   2.   4.   6.   8. ]\n",
      " [ 0.2  2.2  4.2  6.2  8.2]\n",
      " [ 0.4  2.4  4.4  6.4  8.4]\n",
      " [ 0.6  2.6  4.6  6.6  8.6]\n",
      " [ 0.8  2.8  4.8  6.8  8.8]\n",
      " [ 1.   3.   5.   7.   9. ]\n",
      " [ 1.2  3.2  5.2  7.2  9.2]\n",
      " [ 1.4  3.4  5.4  7.4  9.4]\n",
      " [ 1.6  3.6  5.6  7.6  9.6]\n",
      " [ 1.8  3.8  5.8  7.8  9.8]]\n"
     ]
    }
   ],
   "source": [
    "print (B_real_2D)\n",
    "print (B_real_2D.transpose())\n"
   ]
  },
  {
   "cell_type": "markdown",
   "metadata": {
    "deletable": true,
    "editable": true
   },
   "source": [
    "### Array attributes\n",
    "\n",
    "NumPy **ndarrays** have many _methods_ that can be applied to them. A few of these methods we've already encountered **array.reshape( ) **, **array.flatten( )** and **array.transpose( )**.  \n",
    "\n",
    "  \n",
    "\n",
    "\n",
    "Now let's explore the _attributes_, which report on the state of the array.  _attributes_ do not have parentheses while _methods_ do.  \n",
    "\n",
    "As an  example of the use of an _attribute_, we can find out what the data type of an array is with the _attribute_  **array.dtype**:   \n"
   ]
  },
  {
   "cell_type": "code",
   "execution_count": 10,
   "metadata": {
    "collapsed": false,
    "deletable": true,
    "editable": true
   },
   "outputs": [
    {
     "data": {
      "text/plain": [
       "dtype('float64')"
      ]
     },
     "execution_count": 10,
     "metadata": {},
     "output_type": "execute_result"
    }
   ],
   "source": [
    "D.dtype"
   ]
  },
  {
   "cell_type": "markdown",
   "metadata": {
    "deletable": true,
    "editable": true
   },
   "source": [
    "Before we move on to different _attributes_ of arrays, let's take a detour and learn how to embed figures directly into a Jupyter notebook. You saw this in Lecture 1, but were told to ignore it.  Now you are ready to learn more about it.   The **Image** class in the module **Ipython.display** allows us to do this. Import **Image** from **Ipython.display** to embed many digital image types (png, jpg...)  into a  Jupyter notebook."
   ]
  },
  {
   "cell_type": "code",
   "execution_count": 11,
   "metadata": {
    "collapsed": false,
    "deletable": true,
    "editable": true
   },
   "outputs": [
    {
     "data": {
      "image/jpeg": "[encoded data removed]",
      "text/plain": [
       "<IPython.core.display.Image object>"
      ]
     },
     "execution_count": 11,
     "metadata": {},
     "output_type": "execute_result"
    }
   ],
   "source": [
    "from IPython.display import Image\n",
    "# example of how to use \"Image\"\n",
    "Image(filename='Figures/ndim.jpg') # filename specifies the path to the image\n",
    "#we'll learn more about filepaths next lecture\n"
   ]
  },
  {
   "cell_type": "markdown",
   "metadata": {
    "deletable": true,
    "editable": true
   },
   "source": [
    "_Arrays have dimensions and shape. Dimensions define the number of axes, as in this illustration._ \n",
    "\n",
    "Our first array, **A**,  had two dimensions (axis 0 and 1) and we can use the attribute **ndim** to find find this out:\n",
    "   \n",
    "\n"
   ]
  },
  {
   "cell_type": "code",
   "execution_count": 12,
   "metadata": {
    "collapsed": false,
    "deletable": true,
    "editable": true
   },
   "outputs": [
    {
     "name": "stdout",
     "output_type": "stream",
     "text": [
      "the dimensions of A are:  2\n"
     ]
    }
   ],
   "source": [
    "A= np.array([[1,2,3],[4,2,0],[1,1,2]]) # just to remind you\n",
    "print (\"the dimensions of A are: \",A.ndim)"
   ]
  },
  {
   "cell_type": "markdown",
   "metadata": {
    "deletable": true,
    "editable": true
   },
   "source": [
    "\n",
    "Notice how **np.zeros( )**, **np.ones( )** and **np.ndarray( )** used a shape tuple in order to define the arrays in the examples above.   The shape of an array tells us how many elements are along each axis.  Python returns a tuple with the shape information if we use the **shape** _attribute_:  \n",
    "\n"
   ]
  },
  {
   "cell_type": "code",
   "execution_count": 14,
   "metadata": {
    "collapsed": false,
    "deletable": true,
    "editable": true
   },
   "outputs": [
    {
     "data": {
      "text/plain": [
       "(3, 3)"
      ]
     },
     "execution_count": 14,
     "metadata": {},
     "output_type": "execute_result"
    }
   ],
   "source": [
    "A.shape\n",
    "\n"
   ]
  },
  {
   "cell_type": "markdown",
   "metadata": {
    "deletable": true,
    "editable": true
   },
   "source": [
    "\n",
    "\n",
    "For many more methods and attributes of ndarrays, visit the NumPy Reference website:  http://docs.scipy.org/doc/numpy/reference/.   \n"
   ]
  },
  {
   "cell_type": "markdown",
   "metadata": {
    "deletable": true,
    "editable": true
   },
   "source": [
    "### Slicing and indexing ndarrays \n",
    "\n",
    "The syntax for slicing an array is similar to that for a list:  "
   ]
  },
  {
   "cell_type": "code",
   "execution_count": 15,
   "metadata": {
    "collapsed": false,
    "deletable": true,
    "editable": true
   },
   "outputs": [
    {
     "name": "stdout",
     "output_type": "stream",
     "text": [
      "[[1 2 3]\n",
      " [4 2 0]]\n"
     ]
    }
   ],
   "source": [
    "B=A[0:2] # access the top two lines  of matrix A \n",
    "print (B)"
   ]
  },
  {
   "cell_type": "markdown",
   "metadata": {
    "deletable": true,
    "editable": true
   },
   "source": [
    "### Practice array slicing\n",
    "\n",
    "\n",
    "- Open the data file downloaded from this website(http://ds.iris.edu/ieb/index.html?format=text&nodata=404&starttime=1970-01-01&endtime=2025-01-01&minmag=0&maxmag=10&mindepth=0&maxdepth=900&orderby=time-desc&limit=1000&maxlat=89.18&minlat=-89.18&maxlon=180.00&minlon=-180.00&zm=1&mt=ter) and saved as Datasets/RecentEarthquakes/earthquakeLocations.txt using the **np.loadtxt()** function. This creates a 10x2 array with the latitudes and longitudes of the earthquakes.\n",
    "- rehshape the array to be 2x10\n",
    "- make a slice with the first 5 locations. "
   ]
  },
  {
   "cell_type": "markdown",
   "metadata": {
    "deletable": true,
    "editable": true
   },
   "source": [
    "### Converting between Data Structures\n",
    "\n",
    "We can convert from an array to a list:"
   ]
  },
  {
   "cell_type": "code",
   "execution_count": 19,
   "metadata": {
    "collapsed": false,
    "deletable": true,
    "editable": true
   },
   "outputs": [
    {
     "name": "stdout",
     "output_type": "stream",
     "text": [
      "Original: \t <class 'numpy.ndarray'>\n",
      "Cast: \t\t <class 'list'>\n",
      "[[1, 2, 3], [4, 2, 0], [1, 1, 2]]\n"
     ]
    }
   ],
   "source": [
    "L=A.tolist()\n",
    "print (\"Original: \\t\", type(A))\n",
    "print (\"Cast: \\t\\t\", type(L))\n",
    "print (L)\n",
    "\n",
    "# notice the commas, this is a list of three lists"
   ]
  },
  {
   "cell_type": "markdown",
   "metadata": {
    "deletable": true,
    "editable": true
   },
   "source": [
    "From a list to an array:"
   ]
  },
  {
   "cell_type": "code",
   "execution_count": 20,
   "metadata": {
    "collapsed": false,
    "deletable": true,
    "editable": true
   },
   "outputs": [
    {
     "name": "stdout",
     "output_type": "stream",
     "text": [
      "AfromL: \n",
      "[[1 2 3]\n",
      " [4 2 0]\n",
      " [1 1 2]]\n"
     ]
    }
   ],
   "source": [
    "AfromL=np.array(L)# from a list\n",
    "print ('AfromL: ')\n",
    "print (AfromL)\n",
    "\n"
   ]
  },
  {
   "cell_type": "markdown",
   "metadata": {
    "deletable": true,
    "editable": true
   },
   "source": [
    "Or from a tuple to an array:\n"
   ]
  },
  {
   "cell_type": "code",
   "execution_count": 21,
   "metadata": {
    "collapsed": false,
    "deletable": true,
    "editable": true
   },
   "outputs": [
    {
     "name": "stdout",
     "output_type": "stream",
     "text": [
      "AfromT: \n",
      "[4 2]\n"
     ]
    }
   ],
   "source": [
    "AfromT=np.array((4,2)) # from a tuple \n",
    "print ('AfromT: ')\n",
    "print (AfromT)"
   ]
  },
  {
   "cell_type": "markdown",
   "metadata": {
    "deletable": true,
    "editable": true
   },
   "source": [
    "### Saving numpy arrays as text files\n",
    "\n",
    "Having created, sliced and diced an array, it is often handy to save the data to a file for later use.  We can do that with the command **np.savetxt()**.  \n",
    "\n",
    "Let's save our **A** array to a file called _A.txt_."
   ]
  },
  {
   "cell_type": "code",
   "execution_count": 22,
   "metadata": {
    "collapsed": false,
    "deletable": true,
    "editable": true
   },
   "outputs": [],
   "source": [
    "np.savetxt('A.txt',A)"
   ]
  },
  {
   "cell_type": "markdown",
   "metadata": {
    "deletable": true,
    "editable": true
   },
   "source": [
    "### Practice with arrays\n",
    "\n",
    "- Slice out the latitudes and the longitudes out of your list of earthquake locations (from the last practice module) as separate arrays called **lats** and **lons**. \n",
    "- Convert each of these new arrays to lists.  \n",
    "- Read in your _A.txt_ file into an NumPy array, print it out and make sure that the saving procedure worked.  "
   ]
  },
  {
   "cell_type": "markdown",
   "metadata": {
    "deletable": true,
    "editable": true
   },
   "source": [
    "### Features and styling in matplotlib\n",
    "Every plot should include a title, axis, labels, bounds, etc. We can use Matplotlib to add these features and more.\n",
    "\n"
   ]
  },
  {
   "cell_type": "code",
   "execution_count": 23,
   "metadata": {
    "collapsed": false,
    "deletable": true,
    "editable": true
   },
   "outputs": [],
   "source": [
    "# Recall from last lecture: \n",
    "thetas_in_degrees=range(360) # list of angles from 0 to 359 at one degree intervals\n",
    "thetas_in_radians=np.radians(thetas_in_degrees) # convert to radians\n",
    "sines=np.sin(thetas_in_radians) # calculate the sine curve"
   ]
  },
  {
   "cell_type": "code",
   "execution_count": 24,
   "metadata": {
    "collapsed": false,
    "deletable": true,
    "editable": true
   },
   "outputs": [
    {
     "data": {
      "image/png": "[encoded data removed]",
      "text/plain": [
       "<matplotlib.figure.Figure at 0x10cd490b8>"
      ]
     },
     "metadata": {},
     "output_type": "display_data"
    }
   ],
   "source": [
    "# I want to plot the sine curve as a green line, so I use 'g-' to do that:\n",
    "plt.plot(thetas_in_degrees,sines,'g-',label='Sine') \n",
    "# the \"label\" argument saves this line for annotation in a legend\n",
    "# let's add X and Y labels\n",
    "plt.xlabel('Degrees') # make and X label\n",
    "plt.ylabel('Sine') # label the Y axis\n",
    "# and now change the x axis limits: \n",
    "plt.xlim([0,360]) # set the limits\n",
    "plt.title('Sine curve') # set the title\n",
    "plt.legend(); # put on a legend!  "
   ]
  },
  {
   "cell_type": "markdown",
   "metadata": {
    "deletable": true,
    "editable": true
   },
   "source": [
    "Now let's add the cosine curve and a bit of style! We'll plot the cosine curve as a dashed blue line, move the legend to a different position and plot the sine curve as little red dots. \n",
    "\n",
    "For a complete list of possible symbols, see: \n",
    "http://matplotlib.org/api/markers_api.html"
   ]
  },
  {
   "cell_type": "code",
   "execution_count": 25,
   "metadata": {
    "collapsed": false,
    "deletable": true,
    "editable": true
   },
   "outputs": [
    {
     "data": {
      "image/png": "[encoded data removed]",
      "text/plain": [
       "<matplotlib.figure.Figure at 0x1100ea940>"
      ]
     },
     "metadata": {},
     "output_type": "display_data"
    }
   ],
   "source": [
    "cosines=np.cos(thetas_in_radians)\n",
    "# plot the sines with the angles as a green line\n",
    "plt.plot(thetas_in_degrees,sines,'g-',label='Sine') \n",
    "# plot the cosines with the angles as a dashed blue line\n",
    "plt.plot(thetas_in_degrees,cosines,'b--',label='Cosine') \n",
    "plt.xlabel('Degrees')\n",
    "plt.ylabel('Trig functions')\n",
    "plt.xlim([0,360]) # set the limits\n",
    "plt.legend(loc=3); # put the legend in the lower left hand corner this time"
   ]
  },
  {
   "cell_type": "markdown",
   "metadata": {
    "deletable": true,
    "editable": true
   },
   "source": [
    "The function **plot( )** in matplotlib includes many more styling options. Here's a complete list of arguments and keyword arguments that plot accepts:"
   ]
  },
  {
   "cell_type": "code",
   "execution_count": 26,
   "metadata": {
    "collapsed": false,
    "deletable": true,
    "editable": true
   },
   "outputs": [
    {
     "name": "stdout",
     "output_type": "stream",
     "text": [
      "Help on function plot in module matplotlib.pyplot:\n",
      "\n",
      "plot(*args, **kwargs)\n",
      "    Plot lines and/or markers to the\n",
      "    :class:`~matplotlib.axes.Axes`.  *args* is a variable length\n",
      "    argument, allowing for multiple *x*, *y* pairs with an\n",
      "    optional format string.  For example, each of the following is\n",
      "    legal::\n",
      "    \n",
      "        plot(x, y)        # plot x and y using default line style and color\n",
      "        plot(x, y, 'bo')  # plot x and y using blue circle markers\n",
      "        plot(y)           # plot y using x as index array 0..N-1\n",
      "        plot(y, 'r+')     # ditto, but with red plusses\n",
      "    \n",
      "    If *x* and/or *y* is 2-dimensional, then the corresponding columns\n",
      "    will be plotted.\n",
      "    \n",
      "    If used with labeled data, make sure that the color spec is not\n",
      "    included as an element in data, as otherwise the last case\n",
      "    ``plot(\"v\",\"r\", data={\"v\":..., \"r\":...)``\n",
      "    can be interpreted as the first case which would do ``plot(v, r)``\n",
      "    using the default line style and color.\n",
      "    \n",
      "    If not used with labeled data (i.e., without a data argument),\n",
      "    an arbitrary number of *x*, *y*, *fmt* groups can be specified, as in::\n",
      "    \n",
      "        a.plot(x1, y1, 'g^', x2, y2, 'g-')\n",
      "    \n",
      "    Return value is a list of lines that were added.\n",
      "    \n",
      "    By default, each line is assigned a different style specified by a\n",
      "    'style cycle'.  To change this behavior, you can edit the\n",
      "    axes.prop_cycle rcParam.\n",
      "    \n",
      "    The following format string characters are accepted to control\n",
      "    the line style or marker:\n",
      "    \n",
      "    ================    ===============================\n",
      "    character           description\n",
      "    ================    ===============================\n",
      "    ``'-'``             solid line style\n",
      "    ``'--'``            dashed line style\n",
      "    ``'-.'``            dash-dot line style\n",
      "    ``':'``             dotted line style\n",
      "    ``'.'``             point marker\n",
      "    ``','``             pixel marker\n",
      "    ``'o'``             circle marker\n",
      "    ``'v'``             triangle_down marker\n",
      "    ``'^'``             triangle_up marker\n",
      "    ``'<'``             triangle_left marker\n",
      "    ``'>'``             triangle_right marker\n",
      "    ``'1'``             tri_down marker\n",
      "    ``'2'``             tri_up marker\n",
      "    ``'3'``             tri_left marker\n",
      "    ``'4'``             tri_right marker\n",
      "    ``'s'``             square marker\n",
      "    ``'p'``             pentagon marker\n",
      "    ``'*'``             star marker\n",
      "    ``'h'``             hexagon1 marker\n",
      "    ``'H'``             hexagon2 marker\n",
      "    ``'+'``             plus marker\n",
      "    ``'x'``             x marker\n",
      "    ``'D'``             diamond marker\n",
      "    ``'d'``             thin_diamond marker\n",
      "    ``'|'``             vline marker\n",
      "    ``'_'``             hline marker\n",
      "    ================    ===============================\n",
      "    \n",
      "    \n",
      "    The following color abbreviations are supported:\n",
      "    \n",
      "    ==========  ========\n",
      "    character   color\n",
      "    ==========  ========\n",
      "    'b'         blue\n",
      "    'g'         green\n",
      "    'r'         red\n",
      "    'c'         cyan\n",
      "    'm'         magenta\n",
      "    'y'         yellow\n",
      "    'k'         black\n",
      "    'w'         white\n",
      "    ==========  ========\n",
      "    \n",
      "    In addition, you can specify colors in many weird and\n",
      "    wonderful ways, including full names (``'green'``), hex\n",
      "    strings (``'#008000'``), RGB or RGBA tuples (``(0,1,0,1)``) or\n",
      "    grayscale intensities as a string (``'0.8'``).  Of these, the\n",
      "    string specifications can be used in place of a ``fmt`` group,\n",
      "    but the tuple forms can be used only as ``kwargs``.\n",
      "    \n",
      "    Line styles and colors are combined in a single format string, as in\n",
      "    ``'bo'`` for blue circles.\n",
      "    \n",
      "    The *kwargs* can be used to set line properties (any property that has\n",
      "    a ``set_*`` method).  You can use this to set a line label (for auto\n",
      "    legends), linewidth, anitialising, marker face color, etc.  Here is an\n",
      "    example::\n",
      "    \n",
      "        plot([1,2,3], [1,2,3], 'go-', label='line 1', linewidth=2)\n",
      "        plot([1,2,3], [1,4,9], 'rs',  label='line 2')\n",
      "        axis([0, 4, 0, 10])\n",
      "        legend()\n",
      "    \n",
      "    If you make multiple lines with one plot command, the kwargs\n",
      "    apply to all those lines, e.g.::\n",
      "    \n",
      "        plot(x1, y1, x2, y2, antialiased=False)\n",
      "    \n",
      "    Neither line will be antialiased.\n",
      "    \n",
      "    You do not need to use format strings, which are just\n",
      "    abbreviations.  All of the line properties can be controlled\n",
      "    by keyword arguments.  For example, you can set the color,\n",
      "    marker, linestyle, and markercolor with::\n",
      "    \n",
      "        plot(x, y, color='green', linestyle='dashed', marker='o',\n",
      "             markerfacecolor='blue', markersize=12).\n",
      "    \n",
      "    See :class:`~matplotlib.lines.Line2D` for details.\n",
      "    \n",
      "    The kwargs are :class:`~matplotlib.lines.Line2D` properties:\n",
      "    \n",
      "      agg_filter: unknown\n",
      "      alpha: float (0.0 transparent through 1.0 opaque) \n",
      "      animated: [True | False] \n",
      "      antialiased or aa: [True | False] \n",
      "      axes: an :class:`~matplotlib.axes.Axes` instance \n",
      "      clip_box: a :class:`matplotlib.transforms.Bbox` instance \n",
      "      clip_on: [True | False] \n",
      "      clip_path: [ (:class:`~matplotlib.path.Path`, :class:`~matplotlib.transforms.Transform`) | :class:`~matplotlib.patches.Patch` | None ] \n",
      "      color or c: any matplotlib color \n",
      "      contains: a callable function \n",
      "      dash_capstyle: ['butt' | 'round' | 'projecting'] \n",
      "      dash_joinstyle: ['miter' | 'round' | 'bevel'] \n",
      "      dashes: sequence of on/off ink in points \n",
      "      drawstyle: ['default' | 'steps' | 'steps-pre' | 'steps-mid' | 'steps-post'] \n",
      "      figure: a :class:`matplotlib.figure.Figure` instance \n",
      "      fillstyle: ['full' | 'left' | 'right' | 'bottom' | 'top' | 'none'] \n",
      "      gid: an id string \n",
      "      label: string or anything printable with '%s' conversion. \n",
      "      linestyle or ls: ['solid' | 'dashed', 'dashdot', 'dotted' | (offset, on-off-dash-seq) | ``'-'`` | ``'--'`` | ``'-.'`` | ``':'`` | ``'None'`` | ``' '`` | ``''``]\n",
      "      linewidth or lw: float value in points \n",
      "      marker: :mod:`A valid marker style <matplotlib.markers>`\n",
      "      markeredgecolor or mec: any matplotlib color \n",
      "      markeredgewidth or mew: float value in points \n",
      "      markerfacecolor or mfc: any matplotlib color \n",
      "      markerfacecoloralt or mfcalt: any matplotlib color \n",
      "      markersize or ms: float \n",
      "      markevery: [None | int | length-2 tuple of int | slice | list/array of int | float | length-2 tuple of float]\n",
      "      path_effects: unknown\n",
      "      picker: float distance in points or callable pick function ``fn(artist, event)`` \n",
      "      pickradius: float distance in points \n",
      "      rasterized: [True | False | None] \n",
      "      sketch_params: unknown\n",
      "      snap: unknown\n",
      "      solid_capstyle: ['butt' | 'round' |  'projecting'] \n",
      "      solid_joinstyle: ['miter' | 'round' | 'bevel'] \n",
      "      transform: a :class:`matplotlib.transforms.Transform` instance \n",
      "      url: a url string \n",
      "      visible: [True | False] \n",
      "      xdata: 1D array \n",
      "      ydata: 1D array \n",
      "      zorder: any number \n",
      "    \n",
      "    kwargs *scalex* and *scaley*, if defined, are passed on to\n",
      "    :meth:`~matplotlib.axes.Axes.autoscale_view` to determine\n",
      "    whether the *x* and *y* axes are autoscaled; the default is\n",
      "    *True*.\n",
      "    \n",
      "    .. note::\n",
      "        In addition to the above described arguments, this function can take a\n",
      "        **data** keyword argument. If such a **data** argument is given, the\n",
      "        following arguments are replaced by **data[<arg>]**:\n",
      "    \n",
      "        * All arguments with the following names: 'x', 'y'.\n",
      "\n"
     ]
    }
   ],
   "source": [
    "help(plt.plot)"
   ]
  },
  {
   "cell_type": "markdown",
   "metadata": {
    "deletable": true,
    "editable": true
   },
   "source": [
    "### Practice with matplotlib\n",
    "- Use your array **thetas_in_radians** to generate an array of tangents.\n",
    "- Plot this array with **thetas_in_degrees** on the X axis and your array of tangents on the y axis.  Make the tangent line red.  \n",
    "- Try different line styles,  different line widths, and colors.  \n",
    "- Put on axis labels and a legend.  Play with the legend location. "
   ]
  }
 ],
 "metadata": {
  "kernelspec": {
   "display_name": "Python 2",
   "language": "python",
   "name": "python2"
  },
  "language_info": {
   "codemirror_mode": {
    "name": "ipython",
    "version": 3
   },
   "file_extension": ".py",
   "mimetype": "text/x-python",
   "name": "python",
   "nbconvert_exporter": "python",
   "pygments_lexer": "ipython3",
   "version": "3.6.0"
  }
 },
 "nbformat": 4,
 "nbformat_minor": 0
}
