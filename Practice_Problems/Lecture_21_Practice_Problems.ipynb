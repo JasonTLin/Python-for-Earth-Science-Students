{
 "cells": [
  {
   "cell_type": "markdown",
   "metadata": {},
   "source": [
    "# Practice Problems\n",
    "### Lecture 21\n",
    "Answer each number in a separate cell\n",
    "\n",
    "Rename the notebook with your lastName and the lecture \n",
    "    \n",
    "    ex. AsefawH_21\n",
    "    \n",
    "Turn this notebook into triton-ed by the end of class"
   ]
  },
  {
   "cell_type": "code",
   "execution_count": null,
   "metadata": {
    "collapsed": true
   },
   "outputs": [],
   "source": [
    "# 1. Meshgrid and contour\n",
    "- Write a  lambda function for the equation \n",
    "$$ c=f(a,b)=(1-a^2+b^3) e^{-(a^2+b^2)/2}$$.\n",
    "- Create two arrays- a and b- that range from -3 to 3 in increments of 0.1.\n",
    "- Make a meshgrid from a and b.\n",
    "- Evaluate c for the meshgrid\n",
    "- Make a contour plot of a,b and c.  \n",
    "\n",
    "# 2. Mkigrf\n",
    "- I moved to San Diego in 1983.  What was the field like then?  \n",
    "- Make a plot of declination in San Diego over the last 100 years. "
   ]
  }
 ],
 "metadata": {
  "kernelspec": {
   "display_name": "Python 3",
   "language": "python",
   "name": "python3"
  },
  "language_info": {
   "codemirror_mode": {
    "name": "ipython",
    "version": 3
   },
   "file_extension": ".py",
   "mimetype": "text/x-python",
   "name": "python",
   "nbconvert_exporter": "python",
   "pygments_lexer": "ipython3",
   "version": "3.6.3"
  }
 },
 "nbformat": 4,
 "nbformat_minor": 2
}
