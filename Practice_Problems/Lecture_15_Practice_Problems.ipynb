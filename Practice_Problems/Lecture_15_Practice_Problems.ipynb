{
 "cells": [
  {
   "cell_type": "markdown",
   "metadata": {},
   "source": [
    "# Practice Problems\n",
    "### Lecture 15\n",
    "Answer each number in a separate cell\n",
    "\n",
    "Rename this notebook with your last name and the lecture \n",
    "    \n",
    "    ex. AsefawH_15\n",
    "    \n",
    "Turn-in this notebook on triton-ed by the end of class"
   ]
  },
  {
   "cell_type": "markdown",
   "metadata": {},
   "source": [
    "The file - **Dataset/greenlandSurfaceDEM5km.txt**- contains a digital elevation model of Greenland. We downloaded the dataset from the National Snow and Ice Data Center- http://nsidc.org/data/nsidc-0092#\n",
    "\n",
    "\n",
    "### 1. Histograms and CDFs\n",
    "- Take a look at the first few lines of the dataset\n",
    "- Import the data into a numpy array \n",
    "- Determine the shape of the original dataset\n",
    "- Flatten the dataset\n",
    "- Determine the shape of the flattened dataset\n",
    "- Plot a histogram of the data- normalize the data and include 8 bins\n",
    "- Add a label to the x-axis, add a label to the y-axis, add a title\n",
    "- Sort the dataset from largest to smallest\n",
    "- Create an array of percentages\n",
    "- Plot a cumulative distribution function of the dataset (percent vs. elevation)\n",
    "- Add a label to the the y-axis, add a label to the x-axis, add a title\n",
    "\n",
    "### 2. Numpy.random\n",
    "- Select a random number between 0 and 100\n",
    "- Select 30 random numbers between 0 and 100 \n",
    "- Plot a normalized histogram of the random numbers "
   ]
  }
 ],
 "metadata": {
  "kernelspec": {
   "display_name": "Python 3",
   "language": "python",
   "name": "python3"
  },
  "language_info": {
   "codemirror_mode": {
    "name": "ipython",
    "version": 3
   },
   "file_extension": ".py",
   "mimetype": "text/x-python",
   "name": "python",
   "nbconvert_exporter": "python",
   "pygments_lexer": "ipython3",
   "version": "3.6.3"
  }
 },
 "nbformat": 4,
 "nbformat_minor": 2
}
