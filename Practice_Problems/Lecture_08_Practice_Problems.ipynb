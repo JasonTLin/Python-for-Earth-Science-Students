{
 "cells": [
  {
   "cell_type": "markdown",
   "metadata": {},
   "source": [
    "# Practice Problems\n",
    "### Lecture 8\n",
    "Answer each number in a separate cell\n",
    "\n",
    "Rename this notebook with your last name and the lecture \n",
    "    \n",
    "    ex. Asefaw_08\n",
    "    \n",
    "Turn-in this notebook on triton-ed by the end of class"
   ]
  },
  {
   "cell_type": "markdown",
   "metadata": {},
   "source": [
    "1. Commands within a jupyter notebook\n",
    "    - Create a  directory called **Practice**.\n",
    "    - List the contents of the current directory. \n",
    "    - Remove the directory **Practice**. \n",
    "    - List the contents of the current directory again.\n",
    "    - Open the text file called **myfile.txt**. \n",
    "    - Add each day of the week as a separate line in **myfile.txt** \n",
    "    - Save the file **myfile.txt**\n",
    "    - List the contents of the current directory again.\n",
    "    - Use **cat** to view the contents of **myfile.txt** \n",
    "    - List the contents of your working  directory, but redirect the output to **myfile**. Note: append to the **myfile.txt**, don't overwrite it\n",
    "    - Use **cat** to view the contents of  **myfile.txt**\n",
    "\n",
    "2. Commands on the command line \n",
    "    - Open up a terminal window.\n",
    "    - Print out your current directory with **pwd**. \n",
    "    - Use **mkdir** to create a new folder\n",
    "    - **cd** into that folder\n",
    "    - Use **cat** to write your name into a file called **testfile.txt** use the syntax:\n",
    "        - **cat > myfile.txt**\n",
    "        - Hanna Asefaw [type in your own name here!]\n",
    "        - To finish the task, you must press on the **control** key and 'D' at the same time. \n",
    "    - Use **cat** again (with no redirect) to see the contents of your file.\n",
    "    - Create a file **currentDirectory.txt** with a list of the folders and files in the current directory\n",
    "    - Make a folder called _Practice_\n",
    "    - Move the file **currentDirectory.txt** to the folder Practice \n",
    "        - use the command:\n",
    "           **mv** _oldfilepath_ _newfilepath_\n",
    "    - Remove the file **currentDirectory.txt** \n",
    "    - Print a list of your current directory \n",
    "    - use **cat > YOURSCRIPT.py** to write a python script. \n",
    "        - Your python script should print \"Hello World\"\n",
    "        - Remember: to finish, hold down control and D  at the same time\n",
    "    - Run your script with **python YOURSCRIPT.py**  \n",
    "    - Edit your script to include the #!/usr/bin/env python  line at the top\n",
    "    - use **chmod** to make the script executable\n",
    "    - execute your script from the command line.  "
   ]
  },
  {
   "cell_type": "code",
   "execution_count": null,
   "metadata": {
    "collapsed": true
   },
   "outputs": [],
   "source": []
  }
 ],
 "metadata": {
  "kernelspec": {
   "display_name": "Python 3",
   "language": "python",
   "name": "python3"
  },
  "language_info": {
   "codemirror_mode": {
    "name": "ipython",
    "version": 3
   },
   "file_extension": ".py",
   "mimetype": "text/x-python",
   "name": "python",
   "nbconvert_exporter": "python",
   "pygments_lexer": "ipython3",
   "version": "3.6.3"
  }
 },
 "nbformat": 4,
 "nbformat_minor": 2
}
