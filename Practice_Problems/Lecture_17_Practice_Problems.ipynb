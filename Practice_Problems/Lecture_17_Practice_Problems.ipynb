{
 "cells": [
  {
   "cell_type": "markdown",
   "metadata": {},
   "source": [
    "# Practice Problems\n",
    "### Lecture 17\n",
    "Answer each number in a separate cell\n",
    "\n",
    "Rename this notebook with your last name and the lecture \n",
    "    \n",
    "    ex. AsefawH_17\n",
    "    \n",
    "Turn-in this notebook on triton-ed by the end of class"
   ]
  },
  {
   "cell_type": "code",
   "execution_count": 2,
   "metadata": {
    "collapsed": true
   },
   "outputs": [],
   "source": [
    "import numpy as np\n",
    "import numpy.random as random\n",
    "import matplotlib.pyplot as plt\n",
    "%matplotlib inline "
   ]
  },
  {
   "cell_type": "markdown",
   "metadata": {},
   "source": [
    "# 1. Confidence bounds\n",
    "- Run the next code cell until the red line (population mean) is outside the confidence bounds\n",
    "- Rewrite the code to do this for you.\n",
    "- Write a loop to run the simulation 1000 times and count the number of times the mean falls outside the confidence bounds. \n",
    "- What is that as a fraction of runs? Is it pretty close to 5%?  "
   ]
  },
  {
   "cell_type": "code",
   "execution_count": 3,
   "metadata": {},
   "outputs": [
    {
     "data": {
      "image/png": "[encoded data removed]",
      "text/plain": [
       "<matplotlib.figure.Figure at 0x1105aac50>"
      ]
     },
     "metadata": {},
     "output_type": "display_data"
    }
   ],
   "source": [
    "mu,sigma,Nmc=1,.01,100 # true mean, standard deviation of the measurements, number of simulations.\n",
    "Simulated=random.normal(mu,sigma,Nmc) # get Nmc  simulated data points from distribution\n",
    "s_e=np.std(Simulated)/np.sqrt(Nmc) # standard error of the mean\n",
    "plt.hist(Simulated,normed=True,histtype='step') # plot the measurements\n",
    "plt.axvline(mu,color='red',linewidth=2,label='True mean') # axvline plots a vertical line\n",
    "plt.axvline(x=Simulated.mean(),color='green',linewidth=2,label='Sample mean')\n",
    "plt.axvline(x=Simulated.mean()+1.97*s_e,color='orange',label='Upper bound')\n",
    "plt.axvline(x=Simulated.mean()-1.97*s_e,color='magenta',label='Lower bound')\n",
    "plt.legend(bbox_to_anchor=(1.05, 1),  borderaxespad=0.); # put the legend outside the plot"
   ]
  },
  {
   "cell_type": "markdown",
   "metadata": {
    "collapsed": true
   },
   "source": [
    "# 2. T-tests\n",
    "- Simulate a dataset drawn from a normal distribution with a standard deviation of .01 and a mean of 1\n",
    "- Write a loop to simulate a second dataset that is drawn from a normal distribution with a standard deviation of .1 and means that range between 0 and 2 at .01 increments\n",
    "     - Calculate the Welch's t-test for the two data sets (**equal_var = False**)\n",
    "- What is the range of means that are not statistically different from 1. "
   ]
  },
  {
   "cell_type": "markdown",
   "metadata": {},
   "source": [
    "# 3. F-tests\n",
    "- Simulate a dataset drawn from a normal distribution with a standard deviation of .1 and a mean of 1\n",
    "- Write a loop to simulate a second data that is drawn from a normal distibution with a standard deviation that varies between .01 and .1 at .01 increments and a mean of 1\n",
    "    - Calcualte the F-test for the two data sets\n",
    "- Which standard deviations are not statistically distinguishable from .1?"
   ]
  },
  {
   "cell_type": "markdown",
   "metadata": {
    "collapsed": true
   },
   "source": [
    "# 4. Bootstrap\n",
    "- Modify the bootstrap function to do a delete-1 jackknife instead.  \n",
    "- Test your jackknife function on two datasets with identical means \n",
    "    - Simulate the two datasets\n",
    "    - Call your function jackknife on each dataset\n",
    "    - Plot both datasets and their the upper and lower bounds\n",
    "- Test your jackknife function on two datasets with different means \n",
    "    - Simulate the two datasets\n",
    "    - Call your function jackknife on each dataset\n",
    "    - Plot both datasets and their the upper and lower bounds"
   ]
  }
 ],
 "metadata": {
  "kernelspec": {
   "display_name": "Python 3",
   "language": "python",
   "name": "python3"
  },
  "language_info": {
   "codemirror_mode": {
    "name": "ipython",
    "version": 3
   },
   "file_extension": ".py",
   "mimetype": "text/x-python",
   "name": "python",
   "nbconvert_exporter": "python",
   "pygments_lexer": "ipython3",
   "version": "3.6.3"
  }
 },
 "nbformat": 4,
 "nbformat_minor": 2
}
