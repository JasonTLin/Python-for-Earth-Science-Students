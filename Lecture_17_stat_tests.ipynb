{
 "cells": [
  {
   "cell_type": "code",
   "execution_count": 1,
   "metadata": {
    "collapsed": true,
    "deletable": true,
    "editable": true
   },
   "outputs": [],
   "source": [
    "import numpy as np\n",
    "import matplotlib.pyplot as plt\n",
    "%matplotlib inline\n",
    "from IPython.display import Image\n",
    "import pandas as pd\n",
    "import numpy.random as random"
   ]
  },
  {
   "cell_type": "markdown",
   "metadata": {
    "deletable": true,
    "editable": true
   },
   "source": [
    "### Review of lecture 16\n",
    "\n",
    "In lecture 16 we learned:\n",
    "\n",
    "1) some basic statistical concepts \n",
    "\n",
    "\n",
    "2) How to calculate theoretical distributions given the equation.\n",
    "\n",
    "3) How to simulate data from various distributions.  \n",
    "\n",
    "4) How to estimate the central tendency (mean), spread of the data (variance or standard deviation), and 95% confidence in the mean (1.97 Standard Error). \n"
   ]
  },
  {
   "cell_type": "markdown",
   "metadata": {
    "deletable": true,
    "editable": true
   },
   "source": [
    "### In this lecture we will:\n",
    "\n",
    "1) Learn about the log normal distribution. \n",
    "\n",
    "2) Learn some useful functions in NumPy and SciPy for simulating distributions and calculating statistics.\n",
    "\n",
    "3) Learn some statistical tests: t-test, F-test\n",
    "\n",
    "4) Learn some non-parametric approaches to statistical testing (bootstrap, jackknife).  \n"
   ]
  },
  {
   "cell_type": "markdown",
   "metadata": {
    "deletable": true,
    "editable": true
   },
   "source": [
    "In the last lecture, we learned about binomial, uniform and  normal distributions.   For the latter, we learned how to calculate the mean and standard deviation of the data using the **NumPy** functions, **mean( )** and **std( )**.   \n",
    "\n",
    "Now we need to look at one last distribution:  the log-normal distribution.\n",
    "\n",
    "\n",
    "\n",
    "\n"
   ]
  },
  {
   "cell_type": "markdown",
   "metadata": {
    "deletable": true,
    "editable": true
   },
   "source": [
    "\n",
    "\n",
    "### Log normal\n",
    "\n",
    "Many things in nature are not normally distributed.  Many processes lead to distributions in which the log of the quantity is normally distributed instead of the quantity itself.  For example, grain sizes in sedimentary sequences are often log normally distributed.  These distributions are _log-normal_ and behave differently than normal distributions.  \n",
    "\n",
    "#### Theoretical\n",
    "\n",
    " The equation for the log-normal probability density function is this: \n",
    "\n",
    "$$P=f(x,\\mu, \\sigma)= \\frac{1}{x\\sigma \\sqrt{2\\pi}} \\exp {\\bigl(-\\frac{(\\text{ln}(x)-\\mu)^2}{2\\sigma^2}}\\bigr),0< x < \\infty$$\n",
    "\n",
    "Notice that $x$ is in the denominator so we can't evaluate the probability when x=0.  So we can't start with x=0. \n",
    "\n",
    "As before we make a lambda function  to evaluate the probability density of log-normal distributions:\n",
    "\n"
   ]
  },
  {
   "cell_type": "code",
   "execution_count": 2,
   "metadata": {
    "collapsed": true,
    "deletable": true,
    "editable": true
   },
   "outputs": [],
   "source": [
    "# Here is a log normal probability density function maker: \n",
    "LogNormal=lambda x,mu,sigma : (1./(x*sigma*np.sqrt(2.*np.pi)))*np.e**(-((np.log(x)-mu)**2)/(2.*sigma**2))\n",
    "\n",
    "\n",
    "\n"
   ]
  },
  {
   "cell_type": "markdown",
   "metadata": {
    "deletable": true,
    "editable": true
   },
   "source": [
    "And we evaluate it for a range of possible values of $x$ for given $\\mu, \\sigma$."
   ]
  },
  {
   "cell_type": "code",
   "execution_count": 3,
   "metadata": {
    "collapsed": false,
    "deletable": true,
    "editable": true
   },
   "outputs": [
    {
     "data": {
      "image/png": "[encoded data removed]",
      "text/plain": [
       "<matplotlib.figure.Figure at 0x10d67ca20>"
      ]
     },
     "metadata": {},
     "output_type": "display_data"
    }
   ],
   "source": [
    "# calculate the probability of returning a value x with a normal distribution with mu and sigma\n",
    "mu,sigma,incr=0,.5,.1 # set the mean,  standard deviation and bin width\n",
    "xs=np.arange(incr,4,incr) # make an array of test values\n",
    "Probability=LogNormal(xs,mu,sigma) # get probabilities for the array of Xs\n",
    "plt.bar(xs,Probability,width=incr,color='cyan', edgecolor='k') # make the bar chart\n",
    "plt.plot(xs,Probability,'r-',linewidth=2) # plot as a continuous probability distribution\n",
    "plt.title('Log Normal Distribution')\n",
    "plt.xlabel('X')\n",
    "plt.ylabel('Probability');"
   ]
  },
  {
   "cell_type": "markdown",
   "metadata": {
    "deletable": true,
    "editable": true
   },
   "source": [
    "#### Empirical\n",
    "\n",
    "To  simulate data, we can use **random.lognormal( )**, specifying mean and standard deviation as for the normal distribution. \n",
    "\n",
    "Here we plot the theoretical distribution and the  simulated data, along with its mean and the $\\pm \\sigma$ bounds calculated as we did in the last lecture for normal distributions."
   ]
  },
  {
   "cell_type": "code",
   "execution_count": 4,
   "metadata": {
    "collapsed": false,
    "deletable": true,
    "editable": true
   },
   "outputs": [
    {
     "data": {
      "image/png": "[encoded data removed]",
      "text/plain": [
       "<matplotlib.figure.Figure at 0x110b23518>"
      ]
     },
     "metadata": {},
     "output_type": "display_data"
    }
   ],
   "source": [
    "mu,sigma=0,.5 # set the mean,  standard deviation\n",
    "Nmc=100 # number of monte carlo simultions\n",
    "Simulated=random.lognormal(mu,sigma,Nmc) # get Nmc  simulated data points from distribution\n",
    "plt.bar(xs,Probability,width=incr,color='cyan',edgecolor='k',label='Theoretical') # make the bar chart\n",
    "plt.hist(Simulated,normed=True,histtype='step',color='orange',linewidth=3.,label='Simulated') # plot them\n",
    "plt.plot([Simulated.mean(),Simulated.mean()],[0,1],'k-',linewidth=2,label='Mean')\n",
    "plt.plot([Simulated.mean()-Simulated.std(),Simulated.mean()-Simulated.std()],[0,1],\n",
    "        'g--',linewidth=2,label='lower bound')\n",
    "plt.plot([Simulated.mean()+Simulated.std(),Simulated.mean()+Simulated.std()],[0,1],\n",
    "        'r--',linewidth=2,label='upper bound')\n",
    "plt.xlabel('x')\n",
    "plt.ylabel('Frequency')\n",
    "plt.legend();\n"
   ]
  },
  {
   "cell_type": "markdown",
   "metadata": {
    "deletable": true,
    "editable": true
   },
   "source": [
    "### Hey! \n",
    "\n",
    "Why is the mean way off to the right?  And those confidence bounds don't look right at all!  \n",
    "\n",
    "It turns out that the mean as defined in the last lecture is only good for 'normal' distributions and shouldn't be used for other types. \n",
    "\n",
    "First, let's look at the plot using the log normal of the data instead of the data themselves:  \n",
    "\n"
   ]
  },
  {
   "cell_type": "code",
   "execution_count": 5,
   "metadata": {
    "collapsed": false,
    "deletable": true,
    "editable": true
   },
   "outputs": [
    {
     "data": {
      "image/png": "[encoded data removed]",
      "text/plain": [
       "<matplotlib.figure.Figure at 0x110a27e80>"
      ]
     },
     "metadata": {},
     "output_type": "display_data"
    }
   ],
   "source": [
    "\n",
    "barx=np.log(Simulated).mean() # get the  mean of the logs of the  simulated data set\n",
    "s=np.log(Simulated).std() # get the standard deviation of same\n",
    "#plt.hist(np.log(Simulated),normed=True,bins=20,histtype='step') # plot them\n",
    "plt.hist(np.log(Simulated),normed=True,histtype='step',color='orange',linewidth=3) # plot them \n",
    "#plt.plot(xs,Probability,'r-',linewidth=2,label='Probability'); # plot the theoretical probability distribution function\n",
    "plt.plot([barx,barx],\\\n",
    "         [0,1],'k-',linewidth=2);\n",
    "\n",
    "\n"
   ]
  },
  {
   "cell_type": "markdown",
   "metadata": {
    "deletable": true,
    "editable": true
   },
   "source": [
    "\n",
    "It appears that a log normal distribution looks more \"normal\" when plotted on a log scale.  But the mean doesn't behave the way we expect for normal distributions (offset to the long tail). \n",
    "\n",
    "So what would be a sensible way of describing the _central tendency_ (Expectation $E$) and spread (_variance_)  for a log normal distribution? \n",
    "\n",
    "These are expressed as follows: \n",
    "\n",
    "$$E(x) =\\exp\\bigr( \\mu +\\frac{1}{2}\\sigma^2 \\bigl),$$\n",
    "\n",
    "and \n",
    "\n",
    "$$ \\text{var}(x) = \\bigr[\\exp (\\sigma^2)-1\\bigr]*\\exp(2\\mu + \\sigma^2)$$\n",
    "\n",
    "where $\\mu, \\sigma$ are the mean and standard deviation of the logs of the population.  For the sample, we will refer to them at $\\bar x$ and $s$ respectively and for the expectation and variance we will use $m$ and $v$.  \n",
    "\n",
    "Fortunately, there is a nice **SciPy** package that does statistics for log normal distributions.  **SciPy** is a very powerful package of scientific python functions, many of which were later incorporated into **NumPy**, but not all.  One of the \"leftovers\" is   **scipy.stats.lognorm**.  You can take a look at what **lognorm** can do for us using help(lognorm) if you are curious.  "
   ]
  },
  {
   "cell_type": "code",
   "execution_count": 6,
   "metadata": {
    "collapsed": false,
    "deletable": true,
    "editable": true
   },
   "outputs": [
    {
     "name": "stdout",
     "output_type": "stream",
     "text": [
      "Help on norm_gen in module scipy.stats._continuous_distns object:\n",
      "\n",
      "class norm_gen(scipy.stats._distn_infrastructure.rv_continuous)\n",
      " |  A normal continuous random variable.\n",
      " |  \n",
      " |  The location (loc) keyword specifies the mean.\n",
      " |  The scale (scale) keyword specifies the standard deviation.\n",
      " |  \n",
      " |  %(before_notes)s\n",
      " |  \n",
      " |  Notes\n",
      " |  -----\n",
      " |  The probability density function for `norm` is::\n",
      " |  \n",
      " |      norm.pdf(x) = exp(-x**2/2)/sqrt(2*pi)\n",
      " |  \n",
      " |  The survival function, ``norm.sf``, is also referred to as the\n",
      " |  Q-function in some contexts (see, e.g.,\n",
      " |  `Wikipedia's <https://en.wikipedia.org/wiki/Q-function>`_ definition).\n",
      " |  \n",
      " |  %(after_notes)s\n",
      " |  \n",
      " |  %(example)s\n",
      " |  \n",
      " |  Method resolution order:\n",
      " |      norm_gen\n",
      " |      scipy.stats._distn_infrastructure.rv_continuous\n",
      " |      scipy.stats._distn_infrastructure.rv_generic\n",
      " |      builtins.object\n",
      " |  \n",
      " |  Methods defined here:\n",
      " |  \n",
      " |  fit(self, data, **kwds)\n",
      " |      Return MLEs for shape, location, and scale parameters from data.\n",
      " |      \n",
      " |      MLE stands for Maximum Likelihood Estimate.  Starting estimates for\n",
      " |      the fit are given by input arguments; for any arguments not provided\n",
      " |      with starting estimates, ``self._fitstart(data)`` is called to generate\n",
      " |      such.\n",
      " |      \n",
      " |      One can hold some parameters fixed to specific values by passing in\n",
      " |      keyword arguments ``f0``, ``f1``, ..., ``fn`` (for shape parameters)\n",
      " |      and ``floc`` and ``fscale`` (for location and scale parameters,\n",
      " |      respectively).\n",
      " |      \n",
      " |      Parameters\n",
      " |      ----------\n",
      " |      data : array_like\n",
      " |          Data to use in calculating the MLEs.\n",
      " |      args : floats, optional\n",
      " |          Starting value(s) for any shape-characterizing arguments (those not\n",
      " |          provided will be determined by a call to ``_fitstart(data)``).\n",
      " |          No default value.\n",
      " |      kwds : floats, optional\n",
      " |          Starting values for the location and scale parameters; no default.\n",
      " |          Special keyword arguments are recognized as holding certain\n",
      " |          parameters fixed:\n",
      " |      \n",
      " |          - f0...fn : hold respective shape parameters fixed.\n",
      " |            Alternatively, shape parameters to fix can be specified by name.\n",
      " |            For example, if ``self.shapes == \"a, b\"``, ``fa``and ``fix_a``\n",
      " |            are equivalent to ``f0``, and ``fb`` and ``fix_b`` are\n",
      " |            equivalent to ``f1``.\n",
      " |      \n",
      " |          - floc : hold location parameter fixed to specified value.\n",
      " |      \n",
      " |          - fscale : hold scale parameter fixed to specified value.\n",
      " |      \n",
      " |          - optimizer : The optimizer to use.  The optimizer must take ``func``,\n",
      " |            and starting position as the first two arguments,\n",
      " |            plus ``args`` (for extra arguments to pass to the\n",
      " |            function to be optimized) and ``disp=0`` to suppress\n",
      " |            output as keyword arguments.\n",
      " |      \n",
      " |      Returns\n",
      " |      -------\n",
      " |      shape, loc, scale : tuple of floats\n",
      " |          MLEs for any shape statistics, followed by those for location and\n",
      " |          scale.\n",
      " |      \n",
      " |      Notes\n",
      " |      -----\n",
      " |      This fit is computed by maximizing a log-likelihood function, with\n",
      " |      penalty applied for samples outside of range of the distribution. The\n",
      " |      returned answer is not guaranteed to be the globally optimal MLE, it\n",
      " |      may only be locally optimal, or the optimization may fail altogether.\n",
      " |      \n",
      " |      \n",
      " |      Examples\n",
      " |      --------\n",
      " |      \n",
      " |      Generate some data to fit: draw random variates from the `beta`\n",
      " |      distribution\n",
      " |      \n",
      " |      >>> from scipy.stats import beta\n",
      " |      >>> a, b = 1., 2.\n",
      " |      >>> x = beta.rvs(a, b, size=1000)\n",
      " |      \n",
      " |      Now we can fit all four parameters (``a``, ``b``, ``loc`` and ``scale``):\n",
      " |      \n",
      " |      >>> a1, b1, loc1, scale1 = beta.fit(x)\n",
      " |      \n",
      " |      We can also use some prior knowledge about the dataset: let's keep\n",
      " |      ``loc`` and ``scale`` fixed:\n",
      " |      \n",
      " |      >>> a1, b1, loc1, scale1 = beta.fit(x, floc=0, fscale=1)\n",
      " |      >>> loc1, scale1\n",
      " |      (0, 1)\n",
      " |      \n",
      " |      We can also keep shape parameters fixed by using ``f``-keywords. To\n",
      " |      keep the zero-th shape parameter ``a`` equal 1, use ``f0=1`` or,\n",
      " |      equivalently, ``fa=1``:\n",
      " |      \n",
      " |      >>> a1, b1, loc1, scale1 = beta.fit(x, fa=1, floc=0, fscale=1)\n",
      " |      >>> a1\n",
      " |      1\n",
      " |      \n",
      " |      \n",
      " |      This function (norm_gen.fit) uses explicit formulas for the maximum\n",
      " |      likelihood estimation of the parameters, so the `optimizer` argument\n",
      " |      is ignored.\n",
      " |  \n",
      " |  ----------------------------------------------------------------------\n",
      " |  Methods inherited from scipy.stats._distn_infrastructure.rv_continuous:\n",
      " |  \n",
      " |  __init__(self, momtype=1, a=None, b=None, xtol=1e-14, badvalue=None, name=None, longname=None, shapes=None, extradoc=None, seed=None)\n",
      " |      Initialize self.  See help(type(self)) for accurate signature.\n",
      " |  \n",
      " |  cdf(self, x, *args, **kwds)\n",
      " |      Cumulative distribution function of the given RV.\n",
      " |      \n",
      " |      Parameters\n",
      " |      ----------\n",
      " |      x : array_like\n",
      " |          quantiles\n",
      " |      arg1, arg2, arg3,... : array_like\n",
      " |          The shape parameter(s) for the distribution (see docstring of the\n",
      " |          instance object for more information)\n",
      " |      loc : array_like, optional\n",
      " |          location parameter (default=0)\n",
      " |      scale : array_like, optional\n",
      " |          scale parameter (default=1)\n",
      " |      \n",
      " |      Returns\n",
      " |      -------\n",
      " |      cdf : ndarray\n",
      " |          Cumulative distribution function evaluated at `x`\n",
      " |  \n",
      " |  expect(self, func=None, args=(), loc=0, scale=1, lb=None, ub=None, conditional=False, **kwds)\n",
      " |      Calculate expected value of a function with respect to the\n",
      " |      distribution.\n",
      " |      \n",
      " |      The expected value of a function ``f(x)`` with respect to a\n",
      " |      distribution ``dist`` is defined as::\n",
      " |      \n",
      " |                  ubound\n",
      " |          E[x] = Integral(f(x) * dist.pdf(x))\n",
      " |                  lbound\n",
      " |      \n",
      " |      Parameters\n",
      " |      ----------\n",
      " |      func : callable, optional\n",
      " |          Function for which integral is calculated. Takes only one argument.\n",
      " |          The default is the identity mapping f(x) = x.\n",
      " |      args : tuple, optional\n",
      " |          Shape parameters of the distribution.\n",
      " |      loc : float, optional\n",
      " |          Location parameter (default=0).\n",
      " |      scale : float, optional\n",
      " |          Scale parameter (default=1).\n",
      " |      lb, ub : scalar, optional\n",
      " |          Lower and upper bound for integration. Default is set to the\n",
      " |          support of the distribution.\n",
      " |      conditional : bool, optional\n",
      " |          If True, the integral is corrected by the conditional probability\n",
      " |          of the integration interval.  The return value is the expectation\n",
      " |          of the function, conditional on being in the given interval.\n",
      " |          Default is False.\n",
      " |      \n",
      " |      Additional keyword arguments are passed to the integration routine.\n",
      " |      \n",
      " |      Returns\n",
      " |      -------\n",
      " |      expect : float\n",
      " |          The calculated expected value.\n",
      " |      \n",
      " |      Notes\n",
      " |      -----\n",
      " |      The integration behavior of this function is inherited from\n",
      " |      `integrate.quad`.\n",
      " |  \n",
      " |  fit_loc_scale(self, data, *args)\n",
      " |      Estimate loc and scale parameters from data using 1st and 2nd moments.\n",
      " |      \n",
      " |      Parameters\n",
      " |      ----------\n",
      " |      data : array_like\n",
      " |          Data to fit.\n",
      " |      arg1, arg2, arg3,... : array_like\n",
      " |          The shape parameter(s) for the distribution (see docstring of the\n",
      " |          instance object for more information).\n",
      " |      \n",
      " |      Returns\n",
      " |      -------\n",
      " |      Lhat : float\n",
      " |          Estimated location parameter for the data.\n",
      " |      Shat : float\n",
      " |          Estimated scale parameter for the data.\n",
      " |  \n",
      " |  isf(self, q, *args, **kwds)\n",
      " |      Inverse survival function (inverse of `sf`) at q of the given RV.\n",
      " |      \n",
      " |      Parameters\n",
      " |      ----------\n",
      " |      q : array_like\n",
      " |          upper tail probability\n",
      " |      arg1, arg2, arg3,... : array_like\n",
      " |          The shape parameter(s) for the distribution (see docstring of the\n",
      " |          instance object for more information)\n",
      " |      loc : array_like, optional\n",
      " |          location parameter (default=0)\n",
      " |      scale : array_like, optional\n",
      " |          scale parameter (default=1)\n",
      " |      \n",
      " |      Returns\n",
      " |      -------\n",
      " |      x : ndarray or scalar\n",
      " |          Quantile corresponding to the upper tail probability q.\n",
      " |  \n",
      " |  logcdf(self, x, *args, **kwds)\n",
      " |      Log of the cumulative distribution function at x of the given RV.\n",
      " |      \n",
      " |      Parameters\n",
      " |      ----------\n",
      " |      x : array_like\n",
      " |          quantiles\n",
      " |      arg1, arg2, arg3,... : array_like\n",
      " |          The shape parameter(s) for the distribution (see docstring of the\n",
      " |          instance object for more information)\n",
      " |      loc : array_like, optional\n",
      " |          location parameter (default=0)\n",
      " |      scale : array_like, optional\n",
      " |          scale parameter (default=1)\n",
      " |      \n",
      " |      Returns\n",
      " |      -------\n",
      " |      logcdf : array_like\n",
      " |          Log of the cumulative distribution function evaluated at x\n",
      " |  \n",
      " |  logpdf(self, x, *args, **kwds)\n",
      " |      Log of the probability density function at x of the given RV.\n",
      " |      \n",
      " |      This uses a more numerically accurate calculation if available.\n",
      " |      \n",
      " |      Parameters\n",
      " |      ----------\n",
      " |      x : array_like\n",
      " |          quantiles\n",
      " |      arg1, arg2, arg3,... : array_like\n",
      " |          The shape parameter(s) for the distribution (see docstring of the\n",
      " |          instance object for more information)\n",
      " |      loc : array_like, optional\n",
      " |          location parameter (default=0)\n",
      " |      scale : array_like, optional\n",
      " |          scale parameter (default=1)\n",
      " |      \n",
      " |      Returns\n",
      " |      -------\n",
      " |      logpdf : array_like\n",
      " |          Log of the probability density function evaluated at x\n",
      " |  \n",
      " |  logsf(self, x, *args, **kwds)\n",
      " |      Log of the survival function of the given RV.\n",
      " |      \n",
      " |      Returns the log of the \"survival function,\" defined as (1 - `cdf`),\n",
      " |      evaluated at `x`.\n",
      " |      \n",
      " |      Parameters\n",
      " |      ----------\n",
      " |      x : array_like\n",
      " |          quantiles\n",
      " |      arg1, arg2, arg3,... : array_like\n",
      " |          The shape parameter(s) for the distribution (see docstring of the\n",
      " |          instance object for more information)\n",
      " |      loc : array_like, optional\n",
      " |          location parameter (default=0)\n",
      " |      scale : array_like, optional\n",
      " |          scale parameter (default=1)\n",
      " |      \n",
      " |      Returns\n",
      " |      -------\n",
      " |      logsf : ndarray\n",
      " |          Log of the survival function evaluated at `x`.\n",
      " |  \n",
      " |  nnlf(self, theta, x)\n",
      " |      Return negative loglikelihood function.\n",
      " |      \n",
      " |      Notes\n",
      " |      -----\n",
      " |      This is ``-sum(log pdf(x, theta), axis=0)`` where `theta` are the\n",
      " |      parameters (including loc and scale).\n",
      " |  \n",
      " |  pdf(self, x, *args, **kwds)\n",
      " |      Probability density function at x of the given RV.\n",
      " |      \n",
      " |      Parameters\n",
      " |      ----------\n",
      " |      x : array_like\n",
      " |          quantiles\n",
      " |      arg1, arg2, arg3,... : array_like\n",
      " |          The shape parameter(s) for the distribution (see docstring of the\n",
      " |          instance object for more information)\n",
      " |      loc : array_like, optional\n",
      " |          location parameter (default=0)\n",
      " |      scale : array_like, optional\n",
      " |          scale parameter (default=1)\n",
      " |      \n",
      " |      Returns\n",
      " |      -------\n",
      " |      pdf : ndarray\n",
      " |          Probability density function evaluated at x\n",
      " |  \n",
      " |  ppf(self, q, *args, **kwds)\n",
      " |      Percent point function (inverse of `cdf`) at q of the given RV.\n",
      " |      \n",
      " |      Parameters\n",
      " |      ----------\n",
      " |      q : array_like\n",
      " |          lower tail probability\n",
      " |      arg1, arg2, arg3,... : array_like\n",
      " |          The shape parameter(s) for the distribution (see docstring of the\n",
      " |          instance object for more information)\n",
      " |      loc : array_like, optional\n",
      " |          location parameter (default=0)\n",
      " |      scale : array_like, optional\n",
      " |          scale parameter (default=1)\n",
      " |      \n",
      " |      Returns\n",
      " |      -------\n",
      " |      x : array_like\n",
      " |          quantile corresponding to the lower tail probability q.\n",
      " |  \n",
      " |  sf(self, x, *args, **kwds)\n",
      " |      Survival function (1 - `cdf`) at x of the given RV.\n",
      " |      \n",
      " |      Parameters\n",
      " |      ----------\n",
      " |      x : array_like\n",
      " |          quantiles\n",
      " |      arg1, arg2, arg3,... : array_like\n",
      " |          The shape parameter(s) for the distribution (see docstring of the\n",
      " |          instance object for more information)\n",
      " |      loc : array_like, optional\n",
      " |          location parameter (default=0)\n",
      " |      scale : array_like, optional\n",
      " |          scale parameter (default=1)\n",
      " |      \n",
      " |      Returns\n",
      " |      -------\n",
      " |      sf : array_like\n",
      " |          Survival function evaluated at x\n",
      " |  \n",
      " |  ----------------------------------------------------------------------\n",
      " |  Methods inherited from scipy.stats._distn_infrastructure.rv_generic:\n",
      " |  \n",
      " |  __call__(self, *args, **kwds)\n",
      " |      Freeze the distribution for the given arguments.\n",
      " |      \n",
      " |      Parameters\n",
      " |      ----------\n",
      " |      arg1, arg2, arg3,... : array_like\n",
      " |          The shape parameter(s) for the distribution.  Should include all\n",
      " |          the non-optional arguments, may include ``loc`` and ``scale``.\n",
      " |      \n",
      " |      Returns\n",
      " |      -------\n",
      " |      rv_frozen : rv_frozen instance\n",
      " |          The frozen distribution.\n",
      " |  \n",
      " |  __getstate__(self)\n",
      " |  \n",
      " |  __setstate__(self, state)\n",
      " |  \n",
      " |  entropy(self, *args, **kwds)\n",
      " |      Differential entropy of the RV.\n",
      " |      \n",
      " |      Parameters\n",
      " |      ----------\n",
      " |      arg1, arg2, arg3,... : array_like\n",
      " |          The shape parameter(s) for the distribution (see docstring of the\n",
      " |          instance object for more information).\n",
      " |      loc : array_like, optional\n",
      " |          Location parameter (default=0).\n",
      " |      scale : array_like, optional  (continuous distributions only).\n",
      " |          Scale parameter (default=1).\n",
      " |      \n",
      " |      Notes\n",
      " |      -----\n",
      " |      Entropy is defined base `e`:\n",
      " |      \n",
      " |      >>> drv = rv_discrete(values=((0, 1), (0.5, 0.5)))\n",
      " |      >>> np.allclose(drv.entropy(), np.log(2.0))\n",
      " |      True\n",
      " |  \n",
      " |  freeze(self, *args, **kwds)\n",
      " |      Freeze the distribution for the given arguments.\n",
      " |      \n",
      " |      Parameters\n",
      " |      ----------\n",
      " |      arg1, arg2, arg3,... : array_like\n",
      " |          The shape parameter(s) for the distribution.  Should include all\n",
      " |          the non-optional arguments, may include ``loc`` and ``scale``.\n",
      " |      \n",
      " |      Returns\n",
      " |      -------\n",
      " |      rv_frozen : rv_frozen instance\n",
      " |          The frozen distribution.\n",
      " |  \n",
      " |  interval(self, alpha, *args, **kwds)\n",
      " |      Confidence interval with equal areas around the median.\n",
      " |      \n",
      " |      Parameters\n",
      " |      ----------\n",
      " |      alpha : array_like of float\n",
      " |          Probability that an rv will be drawn from the returned range.\n",
      " |          Each value should be in the range [0, 1].\n",
      " |      arg1, arg2, ... : array_like\n",
      " |          The shape parameter(s) for the distribution (see docstring of the\n",
      " |          instance object for more information).\n",
      " |      loc : array_like, optional\n",
      " |          location parameter, Default is 0.\n",
      " |      scale : array_like, optional\n",
      " |          scale parameter, Default is 1.\n",
      " |      \n",
      " |      Returns\n",
      " |      -------\n",
      " |      a, b : ndarray of float\n",
      " |          end-points of range that contain ``100 * alpha %`` of the rv's\n",
      " |          possible values.\n",
      " |  \n",
      " |  mean(self, *args, **kwds)\n",
      " |      Mean of the distribution.\n",
      " |      \n",
      " |      Parameters\n",
      " |      ----------\n",
      " |      arg1, arg2, arg3,... : array_like\n",
      " |          The shape parameter(s) for the distribution (see docstring of the\n",
      " |          instance object for more information)\n",
      " |      loc : array_like, optional\n",
      " |          location parameter (default=0)\n",
      " |      scale : array_like, optional\n",
      " |          scale parameter (default=1)\n",
      " |      \n",
      " |      Returns\n",
      " |      -------\n",
      " |      mean : float\n",
      " |          the mean of the distribution\n",
      " |  \n",
      " |  median(self, *args, **kwds)\n",
      " |      Median of the distribution.\n",
      " |      \n",
      " |      Parameters\n",
      " |      ----------\n",
      " |      arg1, arg2, arg3,... : array_like\n",
      " |          The shape parameter(s) for the distribution (see docstring of the\n",
      " |          instance object for more information)\n",
      " |      loc : array_like, optional\n",
      " |          Location parameter, Default is 0.\n",
      " |      scale : array_like, optional\n",
      " |          Scale parameter, Default is 1.\n",
      " |      \n",
      " |      Returns\n",
      " |      -------\n",
      " |      median : float\n",
      " |          The median of the distribution.\n",
      " |      \n",
      " |      See Also\n",
      " |      --------\n",
      " |      stats.distributions.rv_discrete.ppf\n",
      " |          Inverse of the CDF\n",
      " |  \n",
      " |  moment(self, n, *args, **kwds)\n",
      " |      n-th order non-central moment of distribution.\n",
      " |      \n",
      " |      Parameters\n",
      " |      ----------\n",
      " |      n : int, n >= 1\n",
      " |          Order of moment.\n",
      " |      arg1, arg2, arg3,... : float\n",
      " |          The shape parameter(s) for the distribution (see docstring of the\n",
      " |          instance object for more information).\n",
      " |      loc : array_like, optional\n",
      " |          location parameter (default=0)\n",
      " |      scale : array_like, optional\n",
      " |          scale parameter (default=1)\n",
      " |  \n",
      " |  rvs(self, *args, **kwds)\n",
      " |      Random variates of given type.\n",
      " |      \n",
      " |      Parameters\n",
      " |      ----------\n",
      " |      arg1, arg2, arg3,... : array_like\n",
      " |          The shape parameter(s) for the distribution (see docstring of the\n",
      " |          instance object for more information).\n",
      " |      loc : array_like, optional\n",
      " |          Location parameter (default=0).\n",
      " |      scale : array_like, optional\n",
      " |          Scale parameter (default=1).\n",
      " |      size : int or tuple of ints, optional\n",
      " |          Defining number of random variates (default is 1).\n",
      " |      random_state : None or int or ``np.random.RandomState`` instance, optional\n",
      " |          If int or RandomState, use it for drawing the random variates.\n",
      " |          If None, rely on ``self.random_state``.\n",
      " |          Default is None.\n",
      " |      \n",
      " |      Returns\n",
      " |      -------\n",
      " |      rvs : ndarray or scalar\n",
      " |          Random variates of given `size`.\n",
      " |  \n",
      " |  stats(self, *args, **kwds)\n",
      " |      Some statistics of the given RV.\n",
      " |      \n",
      " |      Parameters\n",
      " |      ----------\n",
      " |      arg1, arg2, arg3,... : array_like\n",
      " |          The shape parameter(s) for the distribution (see docstring of the\n",
      " |          instance object for more information)\n",
      " |      loc : array_like, optional\n",
      " |          location parameter (default=0)\n",
      " |      scale : array_like, optional (continuous RVs only)\n",
      " |          scale parameter (default=1)\n",
      " |      moments : str, optional\n",
      " |          composed of letters ['mvsk'] defining which moments to compute:\n",
      " |          'm' = mean,\n",
      " |          'v' = variance,\n",
      " |          's' = (Fisher's) skew,\n",
      " |          'k' = (Fisher's) kurtosis.\n",
      " |          (default is 'mv')\n",
      " |      \n",
      " |      Returns\n",
      " |      -------\n",
      " |      stats : sequence\n",
      " |          of requested moments.\n",
      " |  \n",
      " |  std(self, *args, **kwds)\n",
      " |      Standard deviation of the distribution.\n",
      " |      \n",
      " |      Parameters\n",
      " |      ----------\n",
      " |      arg1, arg2, arg3,... : array_like\n",
      " |          The shape parameter(s) for the distribution (see docstring of the\n",
      " |          instance object for more information)\n",
      " |      loc : array_like, optional\n",
      " |          location parameter (default=0)\n",
      " |      scale : array_like, optional\n",
      " |          scale parameter (default=1)\n",
      " |      \n",
      " |      Returns\n",
      " |      -------\n",
      " |      std : float\n",
      " |          standard deviation of the distribution\n",
      " |  \n",
      " |  var(self, *args, **kwds)\n",
      " |      Variance of the distribution.\n",
      " |      \n",
      " |      Parameters\n",
      " |      ----------\n",
      " |      arg1, arg2, arg3,... : array_like\n",
      " |          The shape parameter(s) for the distribution (see docstring of the\n",
      " |          instance object for more information)\n",
      " |      loc : array_like, optional\n",
      " |          location parameter (default=0)\n",
      " |      scale : array_like, optional\n",
      " |          scale parameter (default=1)\n",
      " |      \n",
      " |      Returns\n",
      " |      -------\n",
      " |      var : float\n",
      " |          the variance of the distribution\n",
      " |  \n",
      " |  ----------------------------------------------------------------------\n",
      " |  Data descriptors inherited from scipy.stats._distn_infrastructure.rv_generic:\n",
      " |  \n",
      " |  __dict__\n",
      " |      dictionary for instance variables (if defined)\n",
      " |  \n",
      " |  __weakref__\n",
      " |      list of weak references to the object (if defined)\n",
      " |  \n",
      " |  random_state\n",
      " |      Get or set the RandomState object for generating random variates.\n",
      " |      \n",
      " |      This can be either None or an existing RandomState object.\n",
      " |      \n",
      " |      If None (or np.random), use the RandomState singleton used by np.random.\n",
      " |      If already a RandomState instance, use it.\n",
      " |      If an int, use a new RandomState instance seeded with seed.\n",
      "\n"
     ]
    }
   ],
   "source": [
    "import scipy.stats as stats\n",
    "help(stats.norm)"
   ]
  },
  {
   "cell_type": "markdown",
   "metadata": {
    "deletable": true,
    "editable": true
   },
   "source": [
    "The function **stats.norm** returns 'moments' of data samples,  the first two of which are the log normal mean ($m$) and the variance $v$.\n",
    "\n",
    "So, we should do the following: \n",
    "- calculate the mean $\\bar x$, and standard deviation $s$  of the LOG of the simulated dataset, \n",
    "- set the **scale** to be $e^{\\bar x}$\n",
    "- calculate the first few moments, mean ($m$) and variance ($v$).  \n",
    "\n",
    "Now we can calculate the moments, $m$ and $v$ and compare them to the originals $\\bar x$ and $s$ and the $\\mu$ and $\\sigma$ of the theoretical distribution used to generate the simulated data: "
   ]
  },
  {
   "cell_type": "code",
   "execution_count": 7,
   "metadata": {
    "collapsed": false,
    "deletable": true,
    "editable": true
   },
   "outputs": [
    {
     "name": "stdout",
     "output_type": "stream",
     "text": [
      "mu   0.00  and barx  0.03\n",
      "sigma  0.50  and s  0.44\n",
      "E  1.13  and m  1.14\n",
      "var 0.365         and v  0.277\n"
     ]
    }
   ],
   "source": [
    "\n",
    "m,v=stats.lognorm.stats(s,moments='mv',scale=np.exp(barx))\n",
    "print ('mu  %5.2f'%(mu),' and barx %5.2f'%(barx))\n",
    "print ('sigma %5.2f'%(sigma),' and s %5.2f'%(s))\n",
    "print ('E %5.2f'%(np.exp(mu + 0.5*sigma**2)),' and m %5.2f'%(m))\n",
    "print ('var %5.3f'%((np.e**(sigma**2)-1)*np.e**(2*mu+sigma**2)),' \\\n",
    "       and v  %5.3f'%(v))\n",
    "\n"
   ]
  },
  {
   "cell_type": "markdown",
   "metadata": {
    "deletable": true,
    "editable": true
   },
   "source": [
    "So a log normal distribution looks more \"normal\" when plotted on a log scale.  But the mean doesn't behave the way we expect for normal distributions (offset to the long tail).    Fortunately, there are several other ways of calculating central tendencies:  the _median_ and the _mode_.  The _median_ is the value that cuts the data in half and the _mode_ is the most frequently observed value.  These are less prone to outliers and \"look\" like a better estimate of the true central tendency.  \n",
    "\n",
    "\n",
    "There is a **NumPy** function to calculate the median (**np.median( )**) and  for the mode we can use **scipy.stats.mode( )**.  But be careful with this  because it finds the most frequent value, which may have a bunch of significant figures and so each value occurs only once.  To get a reasonable estimate of the  mode, we first have to round off the numbers in **Simulated**.  We can use **np.round()** for that.  \n",
    "\n",
    "Here's how to calculate each of these types of expected values:  \n",
    "\n",
    "\n"
   ]
  },
  {
   "cell_type": "code",
   "execution_count": 8,
   "metadata": {
    "collapsed": false,
    "deletable": true,
    "editable": true
   },
   "outputs": [
    {
     "name": "stdout",
     "output_type": "stream",
     "text": [
      "mean:  1.13338785345\n",
      "mean other way:  1.13338785345\n",
      "median:  1.04129344965\n",
      "mode:  [ 0.8]  count:  [16]\n"
     ]
    }
   ],
   "source": [
    "mean=Simulated.mean() # you knew this already\n",
    "mean_other_way =np.mean(Simulated) # this is a different way, but works the same.  \n",
    "median=np.median(Simulated) # this is the way to do the median with NumPy\n",
    "mode,count=stats.mode(np.round(Simulated,1)) # round to 2 significant digits, return mode and number in that mode\n",
    "print ('mean: ',mean)\n",
    "print ('mean other way: ',mean_other_way)\n",
    "print ('median: ',median)\n",
    "print ('mode: ',mode,' count: ',count)\n",
    "\n"
   ]
  },
  {
   "cell_type": "markdown",
   "metadata": {
    "deletable": true,
    "editable": true
   },
   "source": [
    "Notice that **mode** and **count** are both lists.   \n",
    "\n",
    "So let's plot up the data and put  the  mean, median and the mode on it."
   ]
  },
  {
   "cell_type": "code",
   "execution_count": 9,
   "metadata": {
    "collapsed": false,
    "deletable": true,
    "editable": true
   },
   "outputs": [
    {
     "data": {
      "image/png": "[encoded data removed]",
      "text/plain": [
       "<matplotlib.figure.Figure at 0x11217bba8>"
      ]
     },
     "metadata": {},
     "output_type": "display_data"
    }
   ],
   "source": [
    "newmode=mode[0] # make this a single number, not a list with one element\n",
    "plt.hist(Simulated,normed=True,bins=20,histtype='step',color='orange',linewidth=3) # plot them \n",
    "plt.plot(xs,Probability,'c-',linewidth=2,label='Probability'); # plot the theoretical probability distribution function\n",
    "plt.plot([mean,mean],[0,.75],'k-',linewidth=2,label='Mean') # put on green line, label for legend. \n",
    "plt.plot([median,median],[0,1],'g-',linewidth=2,label='Median') # black line\n",
    "plt.plot([newmode,newmode],[0,1],'m-',linewidth=2,label='Mode') # magenta line\n",
    "plt.legend()   \n",
    "plt.ylim(0,1.1)\n",
    "plt.xlabel('x'); # set the y axis limits.  \n",
    "plt.ylabel('Fraction');\n",
    "\n",
    "\n"
   ]
  },
  {
   "cell_type": "markdown",
   "metadata": {
    "deletable": true,
    "editable": true
   },
   "source": [
    "### Practice with log-normal distributions\n",
    "- Simulate a grain size distributions that is drawn from a log normal distribution with 1000 grains and a mean and standard deviation of 10 and .1 microns respectively. \n",
    "- Plot the distribution as a histogram (normed).\n",
    "- Calculate the mean, standard deviation, expectation and variance of the distribution.  \n",
    "- Convert your simulated data to a Pandas Series (using pd.Series(YOURDISTRIBUTION)).  "
   ]
  },
  {
   "cell_type": "markdown",
   "metadata": {
    "collapsed": true,
    "deletable": true,
    "editable": true
   },
   "source": [
    "\n",
    "\n",
    "### Statistical tests\n",
    "\n",
    "Reference:  Davis, J. (2002), Statistical and Data Analysis in Geology, 3rd Ed, Wiley, Hoboken.  \n",
    "\n",
    "\n",
    "\n",
    "\n",
    "\n",
    "Now that we have a few distributions under our belt, it would be handy to DO something with them.  What scientists usually do is use statistics of data to do some 'hypothesis testing'.  This involves setting up a statistical tests.    Statistics can help estimate the probability of a statement being true.  The way this is usually framed is as a _null hypothesis_ ($H_o$).\n",
    "\n",
    "#### Comparison of mean values (normal distributions)\n",
    "\n",
    "For example, let's say we calculate the mean of a sample $\\bar x$ and its standard deviation $s$.   We want to know if the this data set could have been drawn from a population whose mean $\\mu$ is known. In this case the null hypothesis is:  \n",
    "\n",
    "$$H_o: \\bar x = \\mu$$\n",
    "\n",
    "\n",
    "You can never be 100% confident of anything, but you can be \"pretty confident\". In science we usually like to be 95% confident.  The level of certainty is determined by a number $\\alpha$ which for 95% confidence is 0.05. \n",
    "\n",
    "If the 95% confidence in the mean is 1.97 times the standard error ($s_e=\\sigma/\\sqrt N$), so if $\\bar x$ is more than 1.97$s_e$ away from $\\mu$, then we can reject the null hypothesis $H_o$ at the 95% level of confidence.  \n",
    "\n",
    "Let's say we went to the National Bureau of Standards and measured the 'replica' of the standard meter used until 1960.  We used a regular tape measure (uncertainty of about a centimeter) to measure the meter and repeated the measurement 100 times.  [I'm going to use simulated data for this exercise as in Lecture 16.]    \n",
    "\n"
   ]
  },
  {
   "cell_type": "code",
   "execution_count": 10,
   "metadata": {
    "collapsed": false,
    "deletable": true,
    "editable": true
   },
   "outputs": [
    {
     "data": {
      "image/png": "[encoded data removed]",
      "text/plain": [
       "<matplotlib.figure.Figure at 0x1121c12e8>"
      ]
     },
     "metadata": {},
     "output_type": "display_data"
    }
   ],
   "source": [
    "#fig,ax=plt.figure()\n",
    "mu,sigma,Nmc=1,.01,100 # true mean, standard deviation of the measurements, number of simulations.\n",
    "Simulated=random.normal(mu,sigma,Nmc) # get Nmc  simulated data points from distribution\n",
    "s_e=np.std(Simulated)/np.sqrt(Nmc) # standard error of the mean\n",
    "plt.hist(Simulated,normed=True,histtype='step') # plot the measurements\n",
    "plt.axvline(mu,color='red',linewidth=2,label='True mean') # axvline plots a vertical line\n",
    "plt.axvline(x=Simulated.mean(),color='green',linewidth=2,label='Sample mean')\n",
    "plt.axvline(x=Simulated.mean()+1.97*s_e,color='orange',label='Upper bound')\n",
    "plt.axvline(x=Simulated.mean()-1.97*s_e,color='magenta',label='Lower bound')\n",
    "plt.legend(bbox_to_anchor=(1.05, 1), loc=2, borderaxespad=0.); # put the legend outside the plot"
   ]
  },
  {
   "cell_type": "markdown",
   "metadata": {
    "deletable": true,
    "editable": true
   },
   "source": [
    "So as long as the green line (sample mean) falls between the upper and lower 95% confidence bounds, the null hypothesis cannot be rejected at the 95% level of confidence.  It will 'fail' 5% of the time."
   ]
  },
  {
   "cell_type": "markdown",
   "metadata": {
    "deletable": true,
    "editable": true
   },
   "source": [
    "### Practice with confidence bounds\n",
    "- Run the above code cell until the red line is outside the confidence bounds\n",
    "OR\n",
    "- Rewrite the code to do this for you.\n",
    "- Make the code do the simulation 1000 times and count the number of times the mean is outside the confidence bounds. \n",
    "- Calculate the fraction of times that is.\n",
    "- Is it pretty close to 5%?  "
   ]
  },
  {
   "cell_type": "markdown",
   "metadata": {
    "deletable": true,
    "editable": true
   },
   "source": [
    "But what if we DON'T know the true mean?  Instead, we have a set of  measurements that we made on the replica with a certain mean $\\bar x_1$ and standard deviation $s_1$, and we want to know if a second set of measurements (with $\\bar x_2,s_2$),  on a different 'meter' stick could have been made on the replica (or something identical)?  In other words do the two samples have the same mean:\n",
    "\n",
    "$$H_o : \\bar x_1 = \\bar x_2.$$\n",
    "\n",
    "For this kind of test, we use a version of Student's _t-test_ known as the Welch's t-test. (Student's t-test assumes that both samples have the same variance while Welch's allows the two variances to be different).   \n",
    "\n",
    "We perform the calculations thusly:\n",
    "\n",
    "\n",
    "Calculate the \"Welch's t-test\": \n",
    "\n",
    "\n",
    "$$t = \\frac {\\bar {x_1} - \\bar {x_2}}{\\sqrt { \\frac {s_1^2}{n_1} + \\frac {s_2^2}{n_2}}}$$\n",
    "\n",
    " To do this test we need to understand what _degrees of freedom_, $\\nu$, are.  The _degrees of freedom_ is the number of data points you have minus the number of data points you need to calculate the statistic of interest. In this case we estimate $\\nu$ like this:  \n",
    "\n",
    "\n",
    "\n",
    "$$\\nu \\simeq \\frac { \\bigl( \\frac {s_1^2}{n_1} +  \\frac {s_2^2}{n_2} \\bigr)^2  }{ \\frac {s_1^4}{N_1^2\\nu_1} +  \\frac {s_2^4}{N_2^2\\nu_2}    }$$\n",
    "\n",
    "where $\\nu_1 = n_1-1$ and $\\nu_2 = n_2-1$. \n",
    "\n",
    "\n",
    "Once $t$ and \n",
    "$\\nu$  have been calculated, these two statistics can be used with the t-distribution to test the null hypothesis that the two population means are equal.    \n",
    "\n",
    "To our great joy, the **scipy.stats** module has a function **ttest_ind( )** which calculates the _t-test_ for us.  \n"
   ]
  },
  {
   "cell_type": "code",
   "execution_count": 11,
   "metadata": {
    "collapsed": false,
    "deletable": true,
    "editable": true
   },
   "outputs": [],
   "source": [
    "import scipy.stats as stats\n",
    "#help(stats.ttest_ind)\n"
   ]
  },
  {
   "cell_type": "markdown",
   "metadata": {
    "deletable": true,
    "editable": true
   },
   "source": [
    "To use **stats.ttest_ind( )**, we pass it the two data sets and an option for a keyword **equal_var**. When this is set to **True**, the test is an ordinary Student's t-test which assumes that the variance in the two data sets is the same.  If we don't want to assume that, we use the Welch's version (different variances) by setting **equal_var** to **False**.  \n",
    "\n",
    "**stats.ttest_ind( )**  returns something called the _p-value_ which, when compared to the level of confidence $\\alpha$ (normally taken as .05 for 95% confidence), can tell us whether to reject the null hypothesis:  \n",
    "\n",
    "$H_o: \\bar x_1 = \\bar x_2$\n",
    "\n",
    "If the p-value is smaller than $\\alpha$, then $H_o$ should be rejected.  \n",
    "\n",
    "Let's try this by comparing  a second simulated data set with our first one:  \n",
    "\n"
   ]
  },
  {
   "cell_type": "code",
   "execution_count": 12,
   "metadata": {
    "collapsed": false,
    "deletable": true,
    "editable": true
   },
   "outputs": [
    {
     "name": "stdout",
     "output_type": "stream",
     "text": [
      "Ttest_indResult(statistic=0.88966872349003778, pvalue=0.3747421522605352)\n"
     ]
    }
   ],
   "source": [
    "Simulated_2=random.normal(mu,sigma,Nmc) # get a second data set from the same distribution\n",
    "print (stats.ttest_ind(Simulated,Simulated_2,equal_var=False)) # evaluate pvalue"
   ]
  },
  {
   "cell_type": "markdown",
   "metadata": {
    "deletable": true,
    "editable": true
   },
   "source": [
    "We can also assign the returned values to variables, say **stat** and **pvalue**:"
   ]
  },
  {
   "cell_type": "code",
   "execution_count": 13,
   "metadata": {
    "collapsed": false,
    "deletable": true,
    "editable": true
   },
   "outputs": [
    {
     "name": "stdout",
     "output_type": "stream",
     "text": [
      "0.88966872349\n",
      "0.374742152261\n"
     ]
    }
   ],
   "source": [
    "stat,pvalue=stats.ttest_ind(Simulated,Simulated_2,equal_var=False)\n",
    "print (stat)\n",
    "print (pvalue)"
   ]
  },
  {
   "cell_type": "markdown",
   "metadata": {
    "deletable": true,
    "editable": true
   },
   "source": [
    "So in this case, the p-value greatly exceeds the value of 0.05 for $\\alpha$.  The null hypothesis can not be rejected and there is no great surprise that the two means (which were both drawn from distributions with a $\\mu=1$) are the same.  \n",
    "\n",
    "Let's try this with a different values of $\\mu$  see what happens:  "
   ]
  },
  {
   "cell_type": "code",
   "execution_count": 14,
   "metadata": {
    "collapsed": false,
    "deletable": true,
    "editable": true
   },
   "outputs": [
    {
     "name": "stdout",
     "output_type": "stream",
     "text": [
      "1.0 -0.001 0.000e+00\n",
      "1.0 0.100 0.000e+00\n",
      "1.0 0.199 2.565e-312\n",
      "1.0 0.299 1.107e-307\n",
      "1.0 0.400 4.180e-297\n",
      "1.0 0.501 6.585e-281\n",
      "1.0 0.601 2.800e-252\n",
      "1.0 0.699 5.279e-239\n",
      "1.0 0.800 6.504e-199\n",
      "1.0 0.901 1.925e-148\n",
      "1.0 1.001 6.767e-01\n",
      "1.0 1.100 1.011e-143\n",
      "1.0 1.201 2.654e-204\n",
      "1.0 1.299 1.252e-234\n",
      "1.0 1.400 1.253e-255\n",
      "1.0 1.500 1.111e-279\n",
      "1.0 1.602 2.931e-299\n",
      "1.0 1.700 6.365e-311\n",
      "1.0 1.802 0.000e+00\n",
      "1.0 1.899 0.000e+00\n"
     ]
    }
   ],
   "source": [
    "for mu in np.arange(0,2,.1): # test this with values from 0 to 2\n",
    "    Sim=random.normal(mu,sigma,Nmc)\n",
    "    xbar=np.mean(Sim)\n",
    "    # assign the returned statistics to variables stat, pvalue\n",
    "    stat,pvalue=stats.ttest_ind(Simulated,Sim,equal_var=False)\n",
    "    # compare original with various test cases and p-value (note the 'scientific' formatting)\n",
    "    print ('%3.1f %5.3f %8.3e'%(np.mean(Simulated),xbar, pvalue) )"
   ]
  },
  {
   "cell_type": "markdown",
   "metadata": {
    "deletable": true,
    "editable": true
   },
   "source": [
    "So the only sample for which $H_o$ could not be rejected was the one with a $\\mu$ of 1.  Not really surprising... "
   ]
  },
  {
   "cell_type": "markdown",
   "metadata": {
    "deletable": true,
    "editable": true
   },
   "source": [
    "### Practice with t-tests\n",
    "- Simulate two data sets as above, with  standard deviations of .01 and .1 respectively.  For the first sample, use a mean of 1, but  vary the mean of the second sample between 0 and 2 at .1 increments. \n",
    "- Calculate Welch's t-test for the two data sets. \n",
    "- What are the range of means are not statistically different from 1.  "
   ]
  },
  {
   "cell_type": "markdown",
   "metadata": {
    "deletable": true,
    "editable": true
   },
   "source": [
    "#### Comparison of variances\n",
    "\n",
    "Now let's say we are more interested in comparing the variances instead of the means. For example, is a particular measurement method superior (lower variance) than another.  Say we have a bunch of students (100)  'eyeball' a sedimentary bed that is approximately 1 meter thick,  guessing how long it is in meters.   Are these measurements significantly more scattered than if we made the measurements with a tape measure?   \n",
    "\n",
    "To compare variances, we use a different test - the _F-test_.  The _F-test_ is based on a theoretical probability distribution know at the _F-distribution_ which is the theoretical distribution of values that would be expected by a random sampling of a normal population and calculating the ratios of variances.  The _F_ statistic is: \n",
    "\n",
    "$$ F = \\frac {s_1^2}{s_2^2}$$.  \n",
    "\n",
    "We also need to know the _degrees of freedom_ here and here $\\nu$ is $N-1$ for each sample.   \n",
    "\n",
    "\n",
    "There is a function for this too (whew! - otherwise you have to look up F tables online or something).   For that we calculate $F$ as above and $\\nu_1,\\nu_2$, then call **scipy.stats.f.cdf**:\n",
    "\n"
   ]
  },
  {
   "cell_type": "code",
   "execution_count": 15,
   "metadata": {
    "collapsed": false,
    "deletable": true,
    "editable": true
   },
   "outputs": [
    {
     "name": "stdout",
     "output_type": "stream",
     "text": [
      "Help on method cdf in module scipy.stats._distn_infrastructure:\n",
      "\n",
      "cdf(x, *args, **kwds) method of scipy.stats._continuous_distns.f_gen instance\n",
      "    Cumulative distribution function of the given RV.\n",
      "    \n",
      "    Parameters\n",
      "    ----------\n",
      "    x : array_like\n",
      "        quantiles\n",
      "    arg1, arg2, arg3,... : array_like\n",
      "        The shape parameter(s) for the distribution (see docstring of the\n",
      "        instance object for more information)\n",
      "    loc : array_like, optional\n",
      "        location parameter (default=0)\n",
      "    scale : array_like, optional\n",
      "        scale parameter (default=1)\n",
      "    \n",
      "    Returns\n",
      "    -------\n",
      "    cdf : ndarray\n",
      "        Cumulative distribution function evaluated at `x`\n",
      "\n"
     ]
    }
   ],
   "source": [
    "help(stats.f.cdf) # we already imported scipy"
   ]
  },
  {
   "cell_type": "markdown",
   "metadata": {
    "deletable": true,
    "editable": true
   },
   "source": [
    "So, given our two data sets, let's try to see if the variances are statistically different. "
   ]
  },
  {
   "cell_type": "code",
   "execution_count": 18,
   "metadata": {
    "collapsed": false,
    "deletable": true,
    "editable": true
   },
   "outputs": [
    {
     "name": "stdout",
     "output_type": "stream",
     "text": [
      "F=0.77 p=0.09 alpha=0.05\n",
      "null hypothesis NOT rejected - the two variances are not different\n"
     ]
    }
   ],
   "source": [
    "alpha=0.05 # set the level of confidence desired (this is for 95% confidence)\n",
    "s_1,s_2=np.std(Simulated),np.std(Simulated_2) # get the two standard deviations\n",
    "F=s_1**2/s_2**2 # evaluate F, the ratio of the two variances\n",
    "nu_1,nu_2=len(Simulated)-1,len(Simulated_2)-1 # get the two degrees of freedom\n",
    "pvalue=stats.f.cdf(F,nu_1,nu_2) # get the F ratio value for the test\n",
    "print ('F=%4.2f p=%4.2f alpha=%4.2f'%(F,pvalue,alpha)) # print them out\n",
    "if pvalue<alpha: # fails the test\n",
    "    print ('null hypothesis rejected, the two variances are different')\n",
    "else: # passes the test\n",
    "    print ('null hypothesis NOT rejected - the two variances are not different')\n"
   ]
  },
  {
   "cell_type": "markdown",
   "metadata": {
    "deletable": true,
    "editable": true
   },
   "source": [
    "### Practice with F-tests\n",
    "- Repeat the above F-test but use a range of standard deviations for the second simulated data set, varying between .01 and .1 at .01 increments.  \n",
    "- What is the range of values for the standard deviations that cannot be distiguished?  "
   ]
  },
  {
   "cell_type": "markdown",
   "metadata": {
    "deletable": true,
    "editable": true
   },
   "source": [
    "### Non-parametric tests. \n",
    "\n",
    "Obviously, there are a lot of different statistical tests that we could do.  Most of them ASSUME that the data were drawn from a particular type of distribution, i.e., the normal distribution.  But as we already saw in the last lecture, distributions are not always normally distributed.  Many, like grain size data, are most definitely NOT normally distributed.  So what do we do to make these kinds of tests?  \n",
    "\n",
    "### The bootstrap\n",
    "\n",
    "If we have a LOT of data and we can safely assume that the underlying distribution is represented by the data, we can do a statistical test known as the _bootstrap_.  The bootstrap is very much like the Monte Carlo approach we are by now very familiar with.  But instead of simulating data, we draw random samples from our own data and perform the test on these _pseudo samples_.    \n",
    "\n",
    "For example,  let's imagine a case where we have two data sets from some weird distribution.  I'm going to use the lognormal one because I can simulate it and it is not \"normal\".   \n"
   ]
  },
  {
   "cell_type": "code",
   "execution_count": 19,
   "metadata": {
    "collapsed": false,
    "deletable": true,
    "editable": true
   },
   "outputs": [
    {
     "data": {
      "image/png": "[encoded data removed]",
      "text/plain": [
       "<matplotlib.figure.Figure at 0x1121c1208>"
      ]
     },
     "metadata": {},
     "output_type": "display_data"
    }
   ],
   "source": [
    "mu_1,sigma_1,mu_2,sigma_2=0,.5,1,.5\n",
    "Nmc=1000 # number of Monte Carlo simultions\n",
    "Simulated_3=random.lognormal(mu_1,sigma_1,Nmc) # get Nmc  simulated data points from distribution\n",
    "plt.hist(Simulated_3,normed=True,bins=20,histtype='step',color='blue') # plot them  - notice the new histtype\n",
    "Simulated_4=random.lognormal(mu_2,sigma_2,Nmc) # get Nmc  simulated data points from distribution\n",
    "plt.hist(Simulated_4,normed=True,bins=20,histtype='step',color='red'); # plot them  - notice the new histtype\n",
    "\n",
    "\n",
    "\n"
   ]
  },
  {
   "cell_type": "markdown",
   "metadata": {
    "deletable": true,
    "editable": true
   },
   "source": [
    "How do we know if the two means are the same?  We can't use the t-test because that assumes a normal distribution whereas these data are clearly not normal.  \n",
    "\n",
    "Well, we can calculate the mean (or better yet the mode), then repeat the calculation on a large number  ($N_b$) of  _pseudo-samples_.  A _pseudo-sample_   is a _sample_ (in the statistical sense) created by randomly selecting data points from the original sample. This will give a distribution of means (or modes).  We do this on both data sets.  If the bounds containing 95% of the means (or modes) of each data set overlap, bingo, the means (or modes) are the same.  \n",
    "\n",
    "Because we want to do this twice, we should make a function that: \n",
    "- Draws $N_b$ pseudosamples from a sample and calculates the mean on them.  \n",
    "- Sorts the $N_b$ means and finds the bounds containing, say, 95% of them.\n",
    "- Returns these lower and upper bounds of $N_bs$ means, depending on $\\alpha$.   \n",
    "\n",
    "To do this, our function can call **random.choice( )**  which will save us a lot of headache:  "
   ]
  },
  {
   "cell_type": "code",
   "execution_count": 20,
   "metadata": {
    "collapsed": false,
    "deletable": true,
    "editable": true
   },
   "outputs": [
    {
     "name": "stdout",
     "output_type": "stream",
     "text": [
      "Help on built-in function choice:\n",
      "\n",
      "choice(...) method of mtrand.RandomState instance\n",
      "    choice(a, size=None, replace=True, p=None)\n",
      "    \n",
      "    Generates a random sample from a given 1-D array\n",
      "    \n",
      "            .. versionadded:: 1.7.0\n",
      "    \n",
      "    Parameters\n",
      "    -----------\n",
      "    a : 1-D array-like or int\n",
      "        If an ndarray, a random sample is generated from its elements.\n",
      "        If an int, the random sample is generated as if a was np.arange(n)\n",
      "    size : int or tuple of ints, optional\n",
      "        Output shape.  If the given shape is, e.g., ``(m, n, k)``, then\n",
      "        ``m * n * k`` samples are drawn.  Default is None, in which case a\n",
      "        single value is returned.\n",
      "    replace : boolean, optional\n",
      "        Whether the sample is with or without replacement\n",
      "    p : 1-D array-like, optional\n",
      "        The probabilities associated with each entry in a.\n",
      "        If not given the sample assumes a uniform distribution over all\n",
      "        entries in a.\n",
      "    \n",
      "    Returns\n",
      "    --------\n",
      "    samples : 1-D ndarray, shape (size,)\n",
      "        The generated random samples\n",
      "    \n",
      "    Raises\n",
      "    -------\n",
      "    ValueError\n",
      "        If a is an int and less than zero, if a or p are not 1-dimensional,\n",
      "        if a is an array-like of size 0, if p is not a vector of\n",
      "        probabilities, if a and p have different lengths, or if\n",
      "        replace=False and the sample size is greater than the population\n",
      "        size\n",
      "    \n",
      "    See Also\n",
      "    ---------\n",
      "    randint, shuffle, permutation\n",
      "    \n",
      "    Examples\n",
      "    ---------\n",
      "    Generate a uniform random sample from np.arange(5) of size 3:\n",
      "    \n",
      "    >>> np.random.choice(5, 3)\n",
      "    array([0, 3, 4])\n",
      "    >>> #This is equivalent to np.random.randint(0,5,3)\n",
      "    \n",
      "    Generate a non-uniform random sample from np.arange(5) of size 3:\n",
      "    \n",
      "    >>> np.random.choice(5, 3, p=[0.1, 0, 0.3, 0.6, 0])\n",
      "    array([3, 3, 0])\n",
      "    \n",
      "    Generate a uniform random sample from np.arange(5) of size 3 without\n",
      "    replacement:\n",
      "    \n",
      "    >>> np.random.choice(5, 3, replace=False)\n",
      "    array([3,1,0])\n",
      "    >>> #This is equivalent to np.random.permutation(np.arange(5))[:3]\n",
      "    \n",
      "    Generate a non-uniform random sample from np.arange(5) of size\n",
      "    3 without replacement:\n",
      "    \n",
      "    >>> np.random.choice(5, 3, replace=False, p=[0.1, 0, 0.3, 0.6, 0])\n",
      "    array([2, 3, 0])\n",
      "    \n",
      "    Any of the above can be repeated with an arbitrary array-like\n",
      "    instead of just integers. For instance:\n",
      "    \n",
      "    >>> aa_milne_arr = ['pooh', 'rabbit', 'piglet', 'Christopher']\n",
      "    >>> np.random.choice(aa_milne_arr, 5, p=[0.5, 0.1, 0.1, 0.3])\n",
      "    array(['pooh', 'pooh', 'pooh', 'Christopher', 'piglet'],\n",
      "          dtype='|S11')\n",
      "\n"
     ]
    }
   ],
   "source": [
    "help(random.choice)"
   ]
  },
  {
   "cell_type": "markdown",
   "metadata": {
    "deletable": true,
    "editable": true
   },
   "source": [
    "Here is a little function called **bootstrap( )** I wrote (you are welcome), which does what we want.  "
   ]
  },
  {
   "cell_type": "code",
   "execution_count": 21,
   "metadata": {
    "collapsed": false,
    "deletable": true,
    "editable": true
   },
   "outputs": [],
   "source": [
    "def bootstrap(Nb, sample,alpha):\n",
    "    \"\"\"\n",
    "    chooses Nb pseudosamples from sample, \n",
    "    calculates means and returns the lower and upper confidence bounds, dependent on alpha\n",
    "    \"\"\"\n",
    "    Ns=len(sample) # get the number of data points in the sample\n",
    "    bootstrapped_means=[] # make a list for the means\n",
    "    for i in range(Nb):# do this Nb times\n",
    "        # random.choice gets us the pseudosample\n",
    "        pseudo_sample=random.choice(sample,size=len(sample),replace=True) \n",
    "        bootstrapped_means.append(pseudo_sample.mean()) # appends the mean\n",
    "    bootstrapped_means=sorted(bootstrapped_means) # sort the means\n",
    "    upper_bound_index=int((1.-alpha/2.)*Nb) # get the index for the upper bound\n",
    "    lower_bound_index=Nb-int((1.-alpha/2.)*Nb) # same for lower bound\n",
    "    return bootstrapped_means[lower_bound_index],bootstrapped_means[upper_bound_index]\n",
    "    "
   ]
  },
  {
   "cell_type": "code",
   "execution_count": 22,
   "metadata": {
    "collapsed": false,
    "deletable": true,
    "editable": true
   },
   "outputs": [
    {
     "name": "stdout",
     "output_type": "stream",
     "text": [
      "1.14043420851\n",
      "1.12392024397 1.19553507616\n"
     ]
    }
   ],
   "source": [
    "# check it out: \n",
    "lower_bound,upper_bound=bootstrap(10,Simulated_3,.05)\n",
    "print (Simulated_3.mean()) # calculate the mean of the distribution\n",
    "print (lower_bound,upper_bound) # calculate the 95% bounds (alpha=.05)"
   ]
  },
  {
   "cell_type": "markdown",
   "metadata": {
    "deletable": true,
    "editable": true
   },
   "source": [
    "Well, that seems to have worked because the mean falls between the two confidence bounds.    \n",
    "\n",
    "Our next task will be to plot the two sets of bounds on our histogram and see if they overlap each other.  \n",
    "\n"
   ]
  },
  {
   "cell_type": "code",
   "execution_count": 23,
   "metadata": {
    "collapsed": false,
    "deletable": true,
    "editable": true
   },
   "outputs": [
    {
     "data": {
      "image/png": "[encoded data removed]",
      "text/plain": [
       "<matplotlib.figure.Figure at 0x1122595c0>"
      ]
     },
     "metadata": {},
     "output_type": "display_data"
    }
   ],
   "source": [
    "# replot our data sets: \n",
    "\n",
    "plt.hist(Simulated_3,normed=True,bins=20,histtype='step',color='blue') # plot them  - notice the new histtype\n",
    "plt.hist(Simulated_4,normed=True,bins=20,histtype='step',color='red'); # plot them  - notice the new histtype\n",
    "Nb=1000 # let's get 1000 bootstrapped means (the more the merrier)\n",
    "lower_bound_1,upper_bound_1=bootstrap(Nb,Simulated_3,.05) # get the bounds for first set\n",
    "lower_bound_2,upper_bound_2=bootstrap(Nb,Simulated_4,.05) # get the bounds for second set\n",
    "plt.axvline(lower_bound_1,color='blue',linestyle='dashed', label=\"Mean: 0\")# put on one bound\n",
    "plt.axvline(upper_bound_1,color='blue',linestyle='dashed')# put on one bound\n",
    "plt.axvline(lower_bound_2,color='red',linestyle='dotted', label=\"Mean: 1\")# put on one bound\n",
    "plt.axvline(upper_bound_2,color='red',linestyle='dotted')# put on one bound\n",
    "plt.legend();\n",
    "\n"
   ]
  },
  {
   "cell_type": "markdown",
   "metadata": {
    "deletable": true,
    "editable": true
   },
   "source": [
    "And the two data sets are statistically distinct at the 95% confidence level.  We can repeat this exercise with two new simulated data sets, drawn from populations with the same mean and see if you get a different answer:  "
   ]
  },
  {
   "cell_type": "code",
   "execution_count": 24,
   "metadata": {
    "collapsed": false,
    "deletable": true,
    "editable": true
   },
   "outputs": [
    {
     "data": {
      "image/png": "[encoded data removed]",
      "text/plain": [
       "<matplotlib.figure.Figure at 0x112234128>"
      ]
     },
     "metadata": {},
     "output_type": "display_data"
    }
   ],
   "source": [
    "mu_1,sigma_1,mu_2,sigma_2=0,.5,0,.5\n",
    "Nmc=1000 # number of monte carlo simultions\n",
    "Simulated_5=random.lognormal(mu_1,sigma_1,Nmc) # get Nmc  simulated data points from distribution\n",
    "Simulated_6=random.lognormal(mu_2,sigma_2,Nmc) # get Nmc  simulated data points from distribution\n",
    "\n",
    "# rinse, repeat: \n",
    "plt.hist(Simulated_5,normed=True,bins=20,histtype='step',color='blue') # plot them  - notice the new histtype\n",
    "plt.hist(Simulated_6,normed=True,bins=20,histtype='step',color='red'); # plot them  - notice the new histtype\n",
    "Nb=1000 # let's get 1000 bootstrapped means (the more the merrier)\n",
    "lower_bound_1,upper_bound_1=bootstrap(Nb,Simulated_5,.05) # get the bounds for first set\n",
    "lower_bound_2,upper_bound_2=bootstrap(Nb,Simulated_6,.05) # get the bounds for second set\n",
    "plt.axvline(lower_bound_1,color='blue',linestyle='dashed', label=\"Mean: 0\")# put on one bound\n",
    "plt.axvline(upper_bound_1,color='blue',linestyle='dashed')# put on one bound\n",
    "plt.axvline(lower_bound_2,color='red',linestyle='dotted', label=\"Mean: 0\")# put on one bound\n",
    "plt.axvline(upper_bound_2,color='red',linestyle='dotted')# put on one bound\n",
    "plt.legend();\n",
    "\n"
   ]
  },
  {
   "cell_type": "markdown",
   "metadata": {
    "deletable": true,
    "editable": true
   },
   "source": [
    "Now the uncertainty bounds overlap.  As they should!  \n",
    "\n",
    "You can do this same type of thing calculating modes, means, standard deviations or pretty much anything you like.  \n",
    "\n",
    "### The jackknife\n",
    "\n",
    "\n",
    "The jacknife is similar to the bootstrap, but instead of resampling the sample with the same number of data points, we delete one of the data points, calculate the statistic of interest, then delete the next, until we have repeated it N times. This is called the _delete one_ jackknife.  You can also do a delete-two jackknife or more, depending on how many data points are in the sample.   \n",
    "\n",
    "### Practice\n",
    "\n",
    "- Modify the bootstrap function to do a delete-1 jackknife instead.  "
   ]
  }
 ],
 "metadata": {
  "kernelspec": {
   "display_name": "Python 3",
   "language": "python",
   "name": "python3"
  },
  "language_info": {
   "codemirror_mode": {
    "name": "ipython",
    "version": 3
   },
   "file_extension": ".py",
   "mimetype": "text/x-python",
   "name": "python",
   "nbconvert_exporter": "python",
   "pygments_lexer": "ipython3",
   "version": "3.6.0"
  }
 },
 "nbformat": 4,
 "nbformat_minor": 0
}
