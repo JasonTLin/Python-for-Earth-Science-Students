{
 "cells": [
  {
   "cell_type": "markdown",
   "metadata": {},
   "source": [
    "# Practice Problems\n",
    "### Lecture 23\n",
    "Answer each number in a separate cell\n",
    "\n",
    "Rename the notebook with your lastName and the lecture \n",
    "    \n",
    "    ex. AsefawH_23\n",
    "    \n",
    "Turn this notebook into triton-ed by the end of class"
   ]
  },
  {
   "cell_type": "markdown",
   "metadata": {
    "collapsed": true
   },
   "source": [
    "# 1. Cartesian coordinates and polar coordinates\n",
    "- You measure a bedding plane with an azimuth of  40 and a plunge of 62. Use the function **dir2cart()** to convert the coordinates to cartesian coordinates.\n",
    "- Use the function **cart2dir()** to convert the cartesian coordinates back to polar coordinates"
   ]
  },
  {
   "cell_type": "markdown",
   "metadata": {},
   "source": [
    "# 2. Vectors\n",
    "- What is the sum of the two vectors Az1=245, Pl1=22 and Az2=10, Pl2=60?\n",
    "- What is the difference between these vectors?  \n",
    "- What is angle between the two vectors? \n",
    "- What is pole to the two vectors?  \n",
    "- Make an equal angle diagram\n",
    "    - plot the two vectors as green triangles\n",
    "    - plot the pole to the plane as a blue triangle"
   ]
  }
 ],
 "metadata": {
  "kernelspec": {
   "display_name": "Python 3",
   "language": "python",
   "name": "python3"
  },
  "language_info": {
   "codemirror_mode": {
    "name": "ipython",
    "version": 3
   },
   "file_extension": ".py",
   "mimetype": "text/x-python",
   "name": "python",
   "nbconvert_exporter": "python",
   "pygments_lexer": "ipython3",
   "version": "3.6.3"
  }
 },
 "nbformat": 4,
 "nbformat_minor": 2
}
