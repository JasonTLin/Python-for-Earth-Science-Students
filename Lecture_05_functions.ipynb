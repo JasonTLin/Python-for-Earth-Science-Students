{
 "cells": [
  {
   "cell_type": "code",
   "execution_count": 1,
   "metadata": {
    "collapsed": true
   },
   "outputs": [],
   "source": [
    "from IPython.display import Image"
   ]
  },
  {
   "cell_type": "markdown",
   "metadata": {},
   "source": [
    "### Review of lecture 4\n",
    "\n",
    "In Lecture 4 we learned about:\n",
    "\n",
    "- dictionaries\n",
    "-  basic python code structure and \n",
    "- **if** statements and **for**, **while** loops\n",
    "\n"
   ]
  },
  {
   "cell_type": "markdown",
   "metadata": {},
   "source": [
    "### In this lecture we will:\n",
    "\n",
    "1) Learn about functions\n",
    "\n",
    "2) Discover the joys of modules \n",
    "\n",
    "\n"
   ]
  },
  {
   "cell_type": "markdown",
   "metadata": {},
   "source": [
    "### Code re-use\n",
    "You can imagine that there are many bits of code that you'll want to re-use. For example, in python the trig functions require radians, but we humans typically think in terms of degress. It would be helpful to convert back and forth between degrees and radians and back.  Or,  you might want to  find the great circle distance between two points on Earth, or convert between UTM and latitude/longitude coordinates. This is where _functions_ are useful.  You can define a bit of code assign it a name and a list of input arguments and then keep re-using it anytime you would like.  \n",
    "\n",
    "We've already used _built-in functions_, for example **list( )**, which takes a list generator and then makes a _list_.  Now it is time to learn how to write your own _functions_.  \n",
    "\n",
    "\n",
    "\n",
    "The basic structure  a  Python function is: "
   ]
  },
  {
   "cell_type": "code",
   "execution_count": 1,
   "metadata": {},
   "outputs": [
    {
     "data": {
      "text/plain": [
       "4"
      ]
     },
     "execution_count": 1,
     "metadata": {},
     "output_type": "execute_result"
    }
   ],
   "source": [
    "\n",
    "def FUNCNAME(in_args):  \n",
    "    \"\"\"   \n",
    "    DOC STRING    \n",
    "    \"\"\"\n",
    "    out_args=in_args # ok - not very fancy....   \n",
    "    \n",
    "    return out_args\n",
    "\n",
    "# this calls the function with the input variables, in_args\n",
    "\n",
    "    \n",
    "FUNCNAME(4)\n"
   ]
  },
  {
   "cell_type": "markdown",
   "metadata": {},
   "source": [
    "### Line by line analysis\n",
    "\n",
    "**def FUNCNAME(in_args):**\n",
    "\n",
    "**def **     \n",
    "- the first line of a function must have **def** as the first three letters, it warns Python that you're defining a function \n",
    "\n",
    "**FUNCNAME**  \n",
    "- **def** must be followed by the name of the function \n",
    "\n",
    "**in_args **  \n",
    "- any variable that is passed to the function when it's called is specified between the parentheses. In this example, in_args is passed to the function but the input parameters could range from none (e.g.,  FUNCNAME()) to many comma separated variables (e.g., FUNCNAME(variable_1, variable_2, variable_3)) \n",
    "\n",
    "The variables in the ( ) are called _arguments_\n",
    "\n",
    "**: **         \n",
    "- the first line of a function always ends with a terminal colon \n",
    "\n",
    "___________________________\n",
    "\n",
    "\n",
    "    \"\"\"\n",
    "    DOC STRING\n",
    "    \"\"\"\n",
    "\n",
    "\n",
    "\n",
    "The line or lines between the triple quotes right after the function definition line is a _doc string_.  Here you write a description of what the function does, which can be accessed later by using the **help()** function.  \n",
    "\n",
    "**help(FUNCNAME)** will print out the doc string.  \n",
    "\n",
    "Make a habit of using the doc string to explain what the function does, what the input variables are and what gets returned.  \n",
    "\n",
    "___________________________\n",
    "\n",
    "\n",
    "The body of the function does something.\n",
    "\n",
    "___________________________\n",
    "\n",
    "There is an optional **return** statement that can return the results of whatever the function did.  \n",
    "\n"
   ]
  },
  {
   "cell_type": "code",
   "execution_count": 4,
   "metadata": {},
   "outputs": [
    {
     "name": "stdout",
     "output_type": "stream",
     "text": [
      "Help on function FUNCNAME in module __main__:\n",
      "\n",
      "FUNCNAME(in_args)\n",
      "    DOC STRING\n",
      "\n"
     ]
    }
   ],
   "source": [
    "help(FUNCNAME)"
   ]
  },
  {
   "cell_type": "markdown",
   "metadata": {},
   "source": [
    "### The Doc String\n",
    "\n",
    "Although you can certainly write functional code without a document string, make a habit of always including one.  Trust me - you'll be glad you did.  The Doc String briefly describes what the code does; weeks after you've written your code, it will remind you of what you did.  In addition, you can use it to print out a help message that lets others know what the program does.  You should define what the input and output variables are and what the function does.\n",
    "\n",
    "\n",
    "Notice the use of the triple quotes before and after the documentation string - this means that you can write as many lines as you want.  \n",
    "\n",
    "### Function body\n",
    " This part of the code must be indented, just like in a **for** loop, or other block of code.  \n",
    " This can be as simple as **pass** which does nothing. \n",
    " \n"
   ]
  },
  {
   "cell_type": "markdown",
   "metadata": {},
   "source": [
    "### Return statement\n",
    "\n",
    "  Python separates the input and output arguments. Incoming arguments are passed through the **def** statement and returning arguments get shipped out with the **return** statement.  Here is an example with no input arguments, just a **return** statement:"
   ]
  },
  {
   "cell_type": "code",
   "execution_count": 5,
   "metadata": {},
   "outputs": [
    {
     "name": "stdout",
     "output_type": "stream",
     "text": [
      "3.141592653589793\n",
      "6.283185307179586\n"
     ]
    }
   ],
   "source": [
    "def gimmepi():  # define the function\n",
    "    \"\"\"\n",
    "    returns the value of pi     \n",
    "    \"\"\"\n",
    "    return 3.141592653589793\n",
    "print (gimmepi())\n",
    "\n",
    "twoPi = 2*gimmepi()\n",
    "print (twoPi)\n",
    "\n"
   ]
  },
  {
   "cell_type": "markdown",
   "metadata": {},
   "source": [
    "And let's try out the help function for practice:"
   ]
  },
  {
   "cell_type": "code",
   "execution_count": 4,
   "metadata": {},
   "outputs": [
    {
     "name": "stdout",
     "output_type": "stream",
     "text": [
      "Help on function gimmepi in module __main__:\n",
      "\n",
      "gimmepi()\n",
      "    returns the value of pi\n",
      "\n"
     ]
    }
   ],
   "source": [
    "help(gimmepi)"
   ]
  },
  {
   "cell_type": "markdown",
   "metadata": {},
   "source": [
    "### Passing arguments\n",
    "\n",
    "There are three different ways to pass arguments into a function:\n",
    "\n",
    "1)  You could use a fixed number of arguments\n",
    "\n",
    "This function has only one argument:\n"
   ]
  },
  {
   "cell_type": "code",
   "execution_count": 6,
   "metadata": {},
   "outputs": [
    {
     "name": "stdout",
     "output_type": "stream",
     "text": [
      "42 degrees in radians is:  0.7330382858376184\n"
     ]
    }
   ],
   "source": [
    "def deg2rad(degrees):  \n",
    "    \"\"\"\n",
    "    converts degrees to radians\n",
    "    \"\"\"\n",
    "    return degrees*3.141592653589793/180.\n",
    "print ('42 degrees in radians is: ',deg2rad(42))"
   ]
  },
  {
   "cell_type": "markdown",
   "metadata": {},
   "source": [
    "2) Another way to pass arguments is with a variable number of input arguments.  Functions that accept a variable number of arguments are called _variadic functions_.\n",
    "You do this by putting  \\*args at the end of the list of  required arguments if any.\n",
    "\n"
   ]
  },
  {
   "cell_type": "code",
   "execution_count": 7,
   "metadata": {},
   "outputs": [
    {
     "name": "stdout",
     "output_type": "stream",
     "text": [
      "(1, 4, 'hi there')\n",
      "You sent me these arguments: \n",
      "1\n",
      "4\n",
      "hi there\n",
      "(42,)\n",
      "You sent me these arguments: \n",
      "42\n"
     ]
    }
   ],
   "source": [
    "def print_args(*args):\n",
    "    \"\"\"\n",
    "    prints argument list\n",
    "    \"\"\"\n",
    "    print (args)  # args is a tuple that you can step (like a list)\n",
    "    print ('You sent me these arguments: ')\n",
    "    for arg in args:\n",
    "        print (arg)\n",
    "print_args(1,4,'hi there')\n",
    "print_args(42)"
   ]
  },
  {
   "cell_type": "markdown",
   "metadata": {},
   "source": [
    "3) Another way is to use any number  of keyword-value pairs.  This is done by putting \\*\\*kwargs as the last argument in the argument list.   **kwargs** stands for key word arguments and is treated like a list in the funtion.  \n",
    "\n",
    "\n"
   ]
  },
  {
   "cell_type": "code",
   "execution_count": 8,
   "metadata": {},
   "outputs": [
    {
     "name": "stdout",
     "output_type": "stream",
     "text": [
      "{'arg2': 42, 'arg1': 'one', 'arg3': 'ocelot'}\n",
      "arg2 42\n",
      "arg1 one\n",
      "arg3 ocelot\n"
     ]
    }
   ],
   "source": [
    "def print_kwargs(**kwargs):\n",
    "    \"\"\"\n",
    "    prints keyword argument list\n",
    "    \"\"\"\n",
    "    print (kwargs) # kwargs is a dictionary with key:value pairs\n",
    "    for key in kwargs:\n",
    "        print (key, kwargs[key])\n",
    "    \n",
    "print_kwargs(arg1='one',arg2=42,arg3='ocelot')\n",
    "# ocelot is another Monty Python joke about Brian (from Life of Brian) trying to \n",
    "# sell \"Larks' tongues, Otters' noses and Ocelot spleens.  yuck. "
   ]
  },
  {
   "cell_type": "markdown",
   "metadata": {},
   "source": [
    "### Main program as a function\n",
    " \n",
    " It is considered good Python style to treat your main program block as a function too.  (This helps with using the document string as a help function and building program documentation in general.)  In any case, I recommend that you just start doing it that way too.  In this case,  we have to call the main program with the final (not indented) line \n",
    " \n",
    "**main( )**\n",
    "\n",
    "See how it is done in the following: "
   ]
  },
  {
   "cell_type": "code",
   "execution_count": 9,
   "metadata": {},
   "outputs": [
    {
     "name": "stdout",
     "output_type": "stream",
     "text": [
      "arg2 42\n",
      "arg1 one\n",
      "arg3 ocelot\n"
     ]
    }
   ],
   "source": [
    "\n",
    "def print_kwargs(**kwargs): # same function as before\n",
    "    \"\"\"\n",
    "    prints keyworded argument list\n",
    "    \"\"\"\n",
    "    for key in kwargs:\n",
    "        print (key, kwargs[key])  \n",
    "\n",
    "def main(): # new function called \"main\"\n",
    "    \"\"\"\n",
    "    calls function print_kwargs\n",
    "    \"\"\"\n",
    "    print_kwargs(arg1='one',arg2=42,arg3='ocelot')\n",
    "    \n",
    "main()  # runs the main program\n",
    "\n"
   ]
  },
  {
   "cell_type": "markdown",
   "metadata": {},
   "source": [
    "\n",
    "Notice how all the functions precede the main function.  This is because Python is  not compiled and executes things in order. All of the functions and variables must be defined before they're called, otherwise the interpreter won't recognize them.  \n",
    "\n",
    "You may wonder how we've called functions (e.g., **str( )**, **int( )**, and **float( )**) that we did not define in our script. These are more _built in_ Python functions that are accessible to every Python script.\n",
    "\n",
    "### Modules\n",
    "\n",
    "What if you wanted to use functions that are defined in a different script?\n",
    "\n",
    "You can define many functions in a separate script called a _module_, and **import** that script into your current script.  Then you can call those functions in the module from within your program."
   ]
  },
  {
   "cell_type": "markdown",
   "metadata": {},
   "source": [
    "So let's say I put some functions in a file called \n",
    "**myfuncs.py**.  To do this, you can click on 'Home' then on this lectures directory.  Click on 'New' and choose Text File."
   ]
  },
  {
   "cell_type": "code",
   "execution_count": 12,
   "metadata": {},
   "outputs": [
    {
     "data": {
      "image/png": "[encoded data removed]",
      "text/plain": [
       "<IPython.core.display.Image object>"
      ]
     },
     "execution_count": 12,
     "metadata": {},
     "output_type": "execute_result"
    }
   ],
   "source": [
    "Image(filename='Figures/textFile.png')"
   ]
  },
  {
   "cell_type": "markdown",
   "metadata": {},
   "source": [
    "Copy the code block into a text file and save it.  "
   ]
  },
  {
   "cell_type": "code",
   "execution_count": 13,
   "metadata": {},
   "outputs": [
    {
     "data": {
      "image/png": "[encoded data removed]",
      "text/plain": [
       "<IPython.core.display.Image object>"
      ]
     },
     "execution_count": 13,
     "metadata": {},
     "output_type": "execute_result"
    }
   ],
   "source": [
    "Image(filename='Figures/moduleFile.png')"
   ]
  },
  {
   "cell_type": "code",
   "execution_count": 14,
   "metadata": {
    "collapsed": true
   },
   "outputs": [],
   "source": [
    "## module myfuncs\n",
    "def gimmepi():  \n",
    "    \"\"\"\n",
    "    returns pi\n",
    "    \"\"\"\n",
    "    return 3.141592653589793\n",
    "def deg2rad(degrees):  \n",
    "    \"\"\"\n",
    "    converts degrees to radians\n",
    "    \"\"\"\n",
    "    return degrees*3.141592653589793/180.\n",
    "def print_args(*args):\n",
    "    \"\"\"\n",
    "    prints argument list\n",
    "    \"\"\"\n",
    "    print ('You sent me these arguments: ')\n",
    "    for arg in args:\n",
    "        print (arg)\n"
   ]
  },
  {
   "cell_type": "markdown",
   "metadata": {},
   "source": [
    "Now you can **import myfuncs**, which will make all your hard work available to you in your notebook.  To access a particular function, use the syntax **module.function( )**.  Here is an example:"
   ]
  },
  {
   "cell_type": "code",
   "execution_count": 16,
   "metadata": {},
   "outputs": [
    {
     "data": {
      "text/plain": [
       "3.141592653589793"
      ]
     },
     "execution_count": 16,
     "metadata": {},
     "output_type": "execute_result"
    }
   ],
   "source": [
    "import myfuncs # this will import your module\n",
    "myfuncs.gimmepi()  # this just runs the gimmepi() function.  "
   ]
  },
  {
   "cell_type": "markdown",
   "metadata": {},
   "source": [
    "And some other things become possible like getting the document string.  You can use **help( )** as before, or you can get the doc string this way:"
   ]
  },
  {
   "cell_type": "code",
   "execution_count": 14,
   "metadata": {},
   "outputs": [
    {
     "name": "stdout",
     "output_type": "stream",
     "text": [
      "\n",
      "    prints argument list\n",
      "    \n"
     ]
    }
   ],
   "source": [
    "print (myfuncs.print_args.__doc__) # note that the __ is actually two underscores - not one\n"
   ]
  },
  {
   "cell_type": "markdown",
   "metadata": {},
   "source": [
    "### Scope of variables\n",
    "\n",
    "Inside a function,  variable names have their own meaning  which in many cases will be different from outside the calling function.  So,  variables names declared inside a function stay in the function.  \n",
    "\n",
    "  \n"
   ]
  },
  {
   "cell_type": "code",
   "execution_count": 17,
   "metadata": {},
   "outputs": [
    {
     "ename": "NameError",
     "evalue": "name 'V' is not defined",
     "output_type": "error",
     "traceback": [
      "\u001b[0;31m---------------------------------------------------------------------------\u001b[0m",
      "\u001b[0;31mNameError\u001b[0m                                 Traceback (most recent call last)",
      "\u001b[0;32m<ipython-input-17-446b8c6e50ec>\u001b[0m in \u001b[0;36m<module>\u001b[0;34m()\u001b[0m\n\u001b[1;32m      4\u001b[0m     \u001b[0mLasVegas\u001b[0m\u001b[0;34m(\u001b[0m\u001b[0;34m)\u001b[0m\u001b[0;34m\u001b[0m\u001b[0m\n\u001b[1;32m      5\u001b[0m     \u001b[0mprint\u001b[0m \u001b[0;34m(\u001b[0m\u001b[0mV\u001b[0m\u001b[0;34m)\u001b[0m\u001b[0;34m\u001b[0m\u001b[0m\n\u001b[0;32m----> 6\u001b[0;31m \u001b[0mmain\u001b[0m\u001b[0;34m(\u001b[0m\u001b[0;34m)\u001b[0m\u001b[0;34m\u001b[0m\u001b[0m\n\u001b[0m\u001b[1;32m      7\u001b[0m \u001b[0;34m\u001b[0m\u001b[0m\n",
      "\u001b[0;32m<ipython-input-17-446b8c6e50ec>\u001b[0m in \u001b[0;36mmain\u001b[0;34m()\u001b[0m\n\u001b[1;32m      3\u001b[0m \u001b[0;32mdef\u001b[0m \u001b[0mmain\u001b[0m\u001b[0;34m(\u001b[0m\u001b[0;34m)\u001b[0m\u001b[0;34m:\u001b[0m\u001b[0;34m\u001b[0m\u001b[0m\n\u001b[1;32m      4\u001b[0m     \u001b[0mLasVegas\u001b[0m\u001b[0;34m(\u001b[0m\u001b[0;34m)\u001b[0m\u001b[0;34m\u001b[0m\u001b[0m\n\u001b[0;32m----> 5\u001b[0;31m     \u001b[0mprint\u001b[0m \u001b[0;34m(\u001b[0m\u001b[0mV\u001b[0m\u001b[0;34m)\u001b[0m\u001b[0;34m\u001b[0m\u001b[0m\n\u001b[0m\u001b[1;32m      6\u001b[0m \u001b[0mmain\u001b[0m\u001b[0;34m(\u001b[0m\u001b[0;34m)\u001b[0m\u001b[0;34m\u001b[0m\u001b[0m\n\u001b[1;32m      7\u001b[0m \u001b[0;34m\u001b[0m\u001b[0m\n",
      "\u001b[0;31mNameError\u001b[0m: name 'V' is not defined"
     ]
    }
   ],
   "source": [
    "def LasVegas():\n",
    "    V=123\n",
    "def main():\n",
    "    LasVegas()\n",
    "    print (V)\n",
    "main()\n",
    "\n"
   ]
  },
  {
   "cell_type": "markdown",
   "metadata": {},
   "source": [
    "What happened in  **LasVegas** stayed in **LasVegas** because **V** was defined in the function and doesn't exist outside.   \n",
    "\n",
    "This is true unless you declare a variable  to be _global_. Then it is known outside the function.   \n",
    "\n",
    "Here is an example in which the main program  \"knows\" about the function's variable **V**. "
   ]
  },
  {
   "cell_type": "code",
   "execution_count": 18,
   "metadata": {},
   "outputs": [
    {
     "name": "stdout",
     "output_type": "stream",
     "text": [
      "123\n"
     ]
    }
   ],
   "source": [
    "def SanDiego():\n",
    "    global V\n",
    "    V=123\n",
    "def main():\n",
    "    SanDiego()\n",
    "    print (V)\n",
    "main()\n"
   ]
  },
  {
   "cell_type": "markdown",
   "metadata": {},
   "source": [
    "oops - what happened in **SanDiego** didn't stay in San Diego.  \n",
    "\n",
    "In addition to writing your own functions, modules, and programs, Python has many built-in functions and modules that you can import. We already encountered a few _built in_ functions (for example **int( )**) but there are many more.  And there are many more **modules** which we will use shortly. We'll spend the quarter exploring some of these modules, which include plotting, numerical recipes, trig functions, image manipulation, animation, and more. "
   ]
  }
 ],
 "metadata": {
  "kernelspec": {
   "display_name": "Python 3",
   "language": "python",
   "name": "python3"
  },
  "language_info": {
   "codemirror_mode": {
    "name": "ipython",
    "version": 3
   },
   "file_extension": ".py",
   "mimetype": "text/x-python",
   "name": "python",
   "nbconvert_exporter": "python",
   "pygments_lexer": "ipython3",
   "version": "3.6.3"
  }
 },
 "nbformat": 4,
 "nbformat_minor": 1
}
