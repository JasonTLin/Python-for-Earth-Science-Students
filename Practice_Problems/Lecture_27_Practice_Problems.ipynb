{
 "cells": [
  {
   "cell_type": "markdown",
   "metadata": {},
   "source": [
    "# Solutions to the in-class Practice Problems\n",
    "## Lecture 27\n",
    "### Hanna Asefaw"
   ]
  },
  {
   "cell_type": "markdown",
   "metadata": {},
   "source": [
    "# 1. Set-up\n",
    "-  Make a new directory in this folder called  **Rotation**\n",
    "- Create an array of longitudes that range from 0 to 360 by 36"
   ]
  },
  {
   "cell_type": "markdown",
   "metadata": {},
   "source": [
    "# 2. Plot a single map\n",
    "- Set **projection** to \"ortho\", **lon_0** to 30, and **lat_0** to 0\n",
    "- Include parallels and meridians on your map \n",
    "- Use the function **Basemap.bluemarble( )** to use NASA's true color image of the Earth\n",
    "- Save the figure as Africa.jpg using **plt.savefig()**"
   ]
  },
  {
   "cell_type": "markdown",
   "metadata": {},
   "source": [
    "# 3. Generate all the figures for the animation\n",
    "- Write a for loop that steps through your array of longitudes\n",
    "- Inside the for loop place the code you wrote in step 2 \n",
    "- Change the value of **lon_0** to the longitude in the current iteration\n",
    "- Change the path where you save the figure to \"Rotation/\" and the current longitude divided by 36 \n",
    "    - ex. **plt.savefig(\"Rotation/\" + str(currentLon/36))**"
   ]
  },
  {
   "cell_type": "markdown",
   "metadata": {},
   "source": [
    "# 4. Generate the animation\n",
    "- Use the code cell below to generate the final animation **rotation.gif**"
   ]
  },
  {
   "cell_type": "code",
   "execution_count": 30,
   "metadata": {
    "collapsed": true
   },
   "outputs": [],
   "source": [
    "filenames = os.listdir(\"Rotation/\")\n",
    "images = []\n",
    "for file in filenames:\n",
    "    if \".jpg\" in file:\n",
    "        filename = \"Rotation/\"+file\n",
    "        images.append(imageio.imread(filename))\n",
    "imageio.mimsave(\"Rotation/rotation.gif\", images)"
   ]
  },
  {
   "cell_type": "markdown",
   "metadata": {},
   "source": [
    "# 5. View the animation\n",
    "- Use the code cell below to view your final animation in this notebook"
   ]
  },
  {
   "cell_type": "code",
   "execution_count": 31,
   "metadata": {},
   "outputs": [
    {
     "data": {
      "text/html": [
       "<img src=\"Rotation/rotation.gif\">"
      ],
      "text/plain": [
       "<IPython.core.display.HTML object>"
      ]
     },
     "execution_count": 31,
     "metadata": {},
     "output_type": "execute_result"
    }
   ],
   "source": [
    "from IPython.display import HTML\n",
    "HTML('<img src=\"Rotation/rotation.gif\">')"
   ]
  }
 ],
 "metadata": {
  "kernelspec": {
   "display_name": "Python 3",
   "language": "python",
   "name": "python3"
  },
  "language_info": {
   "codemirror_mode": {
    "name": "ipython",
    "version": 3
   },
   "file_extension": ".py",
   "mimetype": "text/x-python",
   "name": "python",
   "nbconvert_exporter": "python",
   "pygments_lexer": "ipython3",
   "version": "3.6.3"
  }
 },
 "nbformat": 4,
 "nbformat_minor": 2
}
