{
 "cells": [
  {
   "cell_type": "code",
   "execution_count": 1,
   "metadata": {
    "collapsed": true
   },
   "outputs": [],
   "source": [
    "import numpy as np\n",
    "import matplotlib.pyplot as plt\n",
    "%matplotlib inline\n",
    "from IPython.display import Image\n",
    "import pandas as pd"
   ]
  },
  {
   "cell_type": "markdown",
   "metadata": {},
   "source": [
    "### Review of lecture 10\n",
    "\n",
    "1) Learned about \"object oriented programming\" (OOP)\n",
    "\n",
    "2) Learned how to create a \"class\"\n",
    "\n",
    "3) Learned about more about namespaces \n",
    "\n",
    "4) Learned about deepcopies \n"
   ]
  },
  {
   "cell_type": "markdown",
   "metadata": {},
   "source": [
    "#### In this lecture we will:\n",
    "\n",
    "1) Learn about **lambda** functions\n",
    "\n",
    "2) How to use **map( )**, **filter( )**, and  **reduce( )** \n",
    "\n",
    "2) Explore the joys of \"List comprehension\"\n",
    "\n"
   ]
  },
  {
   "cell_type": "markdown",
   "metadata": {},
   "source": [
    "### Lambda functions\n",
    "\n",
    "You can spell any greek letter and use it as a variable name EXCEPT for lambda.  Why?  Because **lambda** has a special meaning in python - it is a reserved word that is used for special, _anonymous functions_. "
   ]
  },
  {
   "cell_type": "markdown",
   "metadata": {},
   "source": [
    "The syntax of a **lambda** function consists of  the word **lambda** followed by an argument list, a colon :, and then an expression.  Here is a simple example of an anonymous function that returns the product of the argument list: "
   ]
  },
  {
   "cell_type": "code",
   "execution_count": 2,
   "metadata": {
    "collapsed": true
   },
   "outputs": [],
   "source": [
    "f=lambda x,y : x*y"
   ]
  },
  {
   "cell_type": "markdown",
   "metadata": {},
   "source": [
    "Let's dissect the statement. \n",
    "\n",
    "- **f** is a new kind of  variable that stores a function,\n",
    "\n",
    "- **x** and **y** are the parameters that the anonymous function takes, \n",
    "\n",
    "- and the expression **x*y** is what is returned when the function is called. \n",
    "\n",
    "We're familiar with the following syntax:"
   ]
  },
  {
   "cell_type": "code",
   "execution_count": 3,
   "metadata": {
    "collapsed": true
   },
   "outputs": [],
   "source": [
    "def g(x, y):\n",
    "    return x*y"
   ]
  },
  {
   "cell_type": "markdown",
   "metadata": {},
   "source": [
    "Both **f** and **g** take the same parameters and return the same value. Let's try calling both functions with the parameters **x=2** and **y=10**:"
   ]
  },
  {
   "cell_type": "code",
   "execution_count": 4,
   "metadata": {},
   "outputs": [
    {
     "name": "stdout",
     "output_type": "stream",
     "text": [
      "20\n",
      "20\n"
     ]
    }
   ],
   "source": [
    "print (f(2,10))\n",
    "print (g(2,10))"
   ]
  },
  {
   "cell_type": "markdown",
   "metadata": {},
   "source": [
    "Both the **lambda** function **f** and the 'regular' function **g** defined with the keyword **def** are of the type:  _function_"
   ]
  },
  {
   "cell_type": "code",
   "execution_count": 5,
   "metadata": {},
   "outputs": [
    {
     "name": "stdout",
     "output_type": "stream",
     "text": [
      "<class 'function'>\n",
      "<class 'function'>\n"
     ]
    }
   ],
   "source": [
    "print (type(f))\n",
    "print (type(g))"
   ]
  },
  {
   "cell_type": "markdown",
   "metadata": {},
   "source": [
    "**lambda** functions should seem familiar. They follow the same syntax you use in math to define functions:\n",
    "\n",
    "f(x) = x<sup>2</sup> +5x + 9 \n",
    " \n",
    "which we could write as a **lambda** function like this:  \n",
    "\n",
    "\n",
    " \n"
   ]
  },
  {
   "cell_type": "code",
   "execution_count": 6,
   "metadata": {
    "collapsed": true
   },
   "outputs": [],
   "source": [
    "f = lambda x: x**2+5.*x+9"
   ]
  },
  {
   "cell_type": "markdown",
   "metadata": {},
   "source": [
    "\n",
    "For a multivariate function, you need to list all the values after the reserved word **lambda**. For example: \n",
    " \n",
    "\n",
    "  "
   ]
  },
  {
   "cell_type": "code",
   "execution_count": 7,
   "metadata": {},
   "outputs": [],
   "source": [
    "hypotenus = lambda x, y:  np.sqrt(x**2+y**2)"
   ]
  },
  {
   "cell_type": "code",
   "execution_count": 8,
   "metadata": {},
   "outputs": [
    {
     "name": "stdout",
     "output_type": "stream",
     "text": [
      "4 81 100\n"
     ]
    }
   ],
   "source": [
    "square = lambda x: x*x\n",
    "\n",
    "print (square(2), square(9), square(10))"
   ]
  },
  {
   "cell_type": "markdown",
   "metadata": {},
   "source": [
    "\n",
    "In math, you’d write the equivalent function as: \n",
    " \n",
    "hypotenuse(x, y) = $\\sqrt{x^2+ y^2}$\n",
    "\n"
   ]
  },
  {
   "cell_type": "markdown",
   "metadata": {},
   "source": [
    "### Practice with lambda functions\n",
    "- create a lambda function called **square** that squares the input parameter"
   ]
  },
  {
   "cell_type": "markdown",
   "metadata": {},
   "source": [
    "You may be wondering why **lambda** functions are useful. The answer is that **lambda** functions are anonymous- you don't have to assign them to a variable (although we did when we assigned the function to **f** in the above examples). This comes in handy if you write or use functions that take in other functions as parameters.  \n",
    "\n",
    "Three such functions are **map( ) **, **reduce ( )**, and **filter ( )**."
   ]
  },
  {
   "cell_type": "markdown",
   "metadata": {},
   "source": [
    "### map( )\n",
    "\n",
    "**lambda** is often used in conjunction with the **map( )** function.   \n",
    "\n",
    "**map(func, seq)** is a function that takes two arguments: a function, **func**, and a sequence, **seq**. \n",
    "**func** may be an ordinary function or an anonymous function defined in the first argument of **map()**   \n",
    "**seq** is one or more lists on which the function is performed.  **map()** returns a list with the results of whatever **func** did to the elements in  **seq**. \n",
    "\n",
    "Here is an example which converts kilometers to miles (1 mile = (5/8) kilometers).   "
   ]
  },
  {
   "cell_type": "code",
   "execution_count": 10,
   "metadata": {},
   "outputs": [],
   "source": [
    "map(lambda x:(5./8.)*x,[8,10,24]);"
   ]
  },
  {
   "cell_type": "markdown",
   "metadata": {},
   "source": [
    "The anonymous function was defined as the first parameter of **map( )**. The **lambda** function takes a single variable **x**  (in miles), converts it to km by multiplying by 5/8, and then returns the value. The **map( )** function then takes a sequence as the second parameter, in this case a list with 8,10, and 24 as elements then converts each of the values in the list  to kilometers by applying the anonymous function."
   ]
  },
  {
   "cell_type": "markdown",
   "metadata": {},
   "source": [
    "If our **lambda** function takes two variables, **x,y** we must pass **map** two lists of the same length for **seq**:"
   ]
  },
  {
   "cell_type": "code",
   "execution_count": 12,
   "metadata": {},
   "outputs": [],
   "source": [
    "map(lambda x,y : x*y,[2,3,4],[5,6,7]);"
   ]
  },
  {
   "cell_type": "markdown",
   "metadata": {},
   "source": [
    "The values for **x** were taken from the first list of numbers, while **y** was taken from the second list. **map( )** returns a list with the product of the two input lists.  "
   ]
  },
  {
   "cell_type": "markdown",
   "metadata": {},
   "source": [
    "Another way to use **map( )** is to define the lists and functions ahead of time, then apply the **map( )** to them as follows:"
   ]
  },
  {
   "cell_type": "code",
   "execution_count": 13,
   "metadata": {},
   "outputs": [],
   "source": [
    "a=[2,3,4]\n",
    "b=[5,6,7]\n",
    "f=lambda x,y : x*y\n",
    "map(f,a,b);"
   ]
  },
  {
   "cell_type": "markdown",
   "metadata": {},
   "source": [
    "Well that was fab....  \n",
    "\n",
    "You can see that **x** snags values from the first list, **a** and **y** from the second list, **b**. "
   ]
  },
  {
   "cell_type": "markdown",
   "metadata": {},
   "source": [
    "### Practice with map( )\n",
    "- create a list of values from 0 to 90 in intervals of 3\n",
    "- create a list of values from 0 to 300 in intervals of 10\n",
    "- use **map( )** and an anonymous function to find the difference betwen two values using the two lists you created as the **seq** parameters "
   ]
  },
  {
   "cell_type": "markdown",
   "metadata": {},
   "source": [
    "### filter( )\n",
    "\n",
    "A **lambda** function can return a boolean- either True or False- rather than a value.  For example we can use a _modulo_ of 2 (x%2) to test whether a number is even or not. [Remember that _modulo_ is the remainder so when you divide x by 2 in this case, even numbers will be 0.]  "
   ]
  },
  {
   "cell_type": "code",
   "execution_count": 14,
   "metadata": {},
   "outputs": [
    {
     "name": "stdout",
     "output_type": "stream",
     "text": [
      "modulo of 2 into 2:  0\n",
      "modulo 400 into 360:  40\n"
     ]
    }
   ],
   "source": [
    "print ('modulo of 2 into 2: ',2%2)\n",
    "print ('modulo 400 into 360: ',400%360) # handy for keeping values between 0 and 360"
   ]
  },
  {
   "cell_type": "markdown",
   "metadata": {},
   "source": [
    "Now let's create an anonymous function that tests whether numbers are even or odd by the value they return.  As you just learned, if modulo returns 0 then the remainder is 0 and the original value is even, whereas, if it returns 1, then the original value is odd: "
   ]
  },
  {
   "cell_type": "code",
   "execution_count": 15,
   "metadata": {},
   "outputs": [
    {
     "name": "stdout",
     "output_type": "stream",
     "text": [
      "0\n",
      "1\n",
      "0\n",
      "1\n"
     ]
    }
   ],
   "source": [
    "f= lambda x: x % 2\n",
    "\n",
    "print (f(2))\n",
    "print (f(3))\n",
    "print (f(4))\n",
    "print (f(5))"
   ]
  },
  {
   "cell_type": "markdown",
   "metadata": {},
   "source": [
    "We can add the relational operator **==** and return True or False instead of 0 or 1: "
   ]
  },
  {
   "cell_type": "code",
   "execution_count": 16,
   "metadata": {},
   "outputs": [
    {
     "name": "stdout",
     "output_type": "stream",
     "text": [
      "True\n",
      "False\n",
      "True\n",
      "False\n"
     ]
    }
   ],
   "source": [
    "f= lambda x: x % 2 == 0\n",
    "\n",
    "\n",
    "print (f(2))\n",
    "print (f(3))\n",
    "print (f(4))\n",
    "print (f(5))"
   ]
  },
  {
   "cell_type": "markdown",
   "metadata": {},
   "source": [
    "We can use **filter( )** and the function we defined to find the even values in a list. **filter( )** takes two parameters - a function that evaluates to True or False and a list. Similar to **map( )**, **filter ( )** applies the function to every value in the list, but **filter ( )** will only return the values that evaluate to **True**. Note that in Python 3, you must turn the output of **filter( )** into a list.   For example:"
   ]
  },
  {
   "cell_type": "code",
   "execution_count": 26,
   "metadata": {},
   "outputs": [
    {
     "data": {
      "text/plain": [
       "[0,\n",
       " 2,\n",
       " 4,\n",
       " 6,\n",
       " 8,\n",
       " 10,\n",
       " 12,\n",
       " 14,\n",
       " 16,\n",
       " 18,\n",
       " 20,\n",
       " 22,\n",
       " 24,\n",
       " 26,\n",
       " 28,\n",
       " 30,\n",
       " 32,\n",
       " 34,\n",
       " 36,\n",
       " 38,\n",
       " 40,\n",
       " 42,\n",
       " 44,\n",
       " 46,\n",
       " 48]"
      ]
     },
     "execution_count": 26,
     "metadata": {},
     "output_type": "execute_result"
    }
   ],
   "source": [
    "mylist = list(range(50))\n",
    "list(filter(f, mylist))\n",
    "\n"
   ]
  },
  {
   "cell_type": "markdown",
   "metadata": {},
   "source": [
    "### Practice with filter( )\n",
    "- Copy the following dictionary into a code cell:\n",
    "lastEruption = {\"Mt.Etna\": 2017, \"Mt. St. Helens\" :1980, \"Mt. Erebus\": 2017, \"Mount Teide\" : 1909, \"Mt. Hood\": 1800}\n",
    "\n",
    "- Define an anonymous function **active** that returns a boolean. It should return true if a volcano has erupted in the last 5 years \n",
    "- use the function **filter( )**, the method **active**, and the dictionary of volcanoes to determine which volcanoes have erupted in the last 5 years "
   ]
  },
  {
   "cell_type": "markdown",
   "metadata": {},
   "source": [
    "### reduce( )\n",
    "\n",
    "**reduce( )** is another function that regularly uses a **lambda** function.  **reduce (func, seq)** takes two parameters: a function and a sequence. With **reduce( )**, the function is applied to sequential pairs of elements of the list until the list is reduced to a single value, which is then returned.  In detail, the function is first performed on the first two elements. The result then replaces the first element and the second is removed. The same  function is again applied to the first two elements of the new list, replacing them with the single value from the function, and so on until only a single value remains.  \n",
    "\n",
    "Note that to use **reduce( )** in Python 3, we must first import it from **functools**. \n",
    "\n",
    "Let's try an example. We could use **reduce( )** to find the maximum value of a list.  First, let's define a **lambda** function which returns the larger of two values: "
   ]
  },
  {
   "cell_type": "code",
   "execution_count": 27,
   "metadata": {},
   "outputs": [
    {
     "name": "stdout",
     "output_type": "stream",
     "text": [
      "42\n"
     ]
    }
   ],
   "source": [
    "# this will return the largest value of two numbers\n",
    "f=lambda x,y: x if (x>y) else y\n",
    "print (f(42,27))"
   ]
  },
  {
   "cell_type": "markdown",
   "metadata": {},
   "source": [
    "Now we can use the **f** function with **reduce( )** to find the largest value in the entire list: "
   ]
  },
  {
   "cell_type": "code",
   "execution_count": 30,
   "metadata": {},
   "outputs": [
    {
     "data": {
      "text/plain": [
       "42"
      ]
     },
     "execution_count": 30,
     "metadata": {},
     "output_type": "execute_result"
    }
   ],
   "source": [
    "from functools import reduce # have to do this in Python 3 - not in Python 2\n",
    "a=[42,27,12,10] # defines a list with some numbers\n",
    "reduce(f,a) # performs the function f sequentially on the list"
   ]
  },
  {
   "cell_type": "markdown",
   "metadata": {},
   "source": [
    "### Practice with reduce( )\n",
    "- write an anonymous function that finds the multiples of 7 (use **filter( )**  )\n",
    "- write a different anonymous function that finds the greater of two number (use **reduce( )**) \n",
    "- use your two anonymous functions to find the greast multiple of 7 in this list:\n",
    "[234, 55, 40, 100, 450, 335, 308, 693, 333, 405, 303, 109, 321, 565, 891]"
   ]
  },
  {
   "cell_type": "markdown",
   "metadata": {},
   "source": [
    "### List comprehensions\n",
    "\n",
    "Another succinct way to iterate over sequences and apply different operations, is through List, Dictionary, and Set comprehensions.\n",
    "\n",
    "A List comprehension is a convenient way of applying an operation to a collection of objects.  It takes this basic form:\n",
    "\n",
    "**[**expression **for** element **in** collection **if** condition**]**\n",
    "\n",
    "Here is an example that takes a _list_ of strings, looks for those with lengths greater than 2 and returns the upper case version using the **string.upper( )** method for strings: "
   ]
  },
  {
   "cell_type": "code",
   "execution_count": 31,
   "metadata": {},
   "outputs": [
    {
     "data": {
      "text/plain": [
       "['MT. EVEREST', 'MAUNA LOA', 'SP MOUNTAIN']"
      ]
     },
     "execution_count": 31,
     "metadata": {},
     "output_type": "execute_result"
    }
   ],
   "source": [
    "mylist=['Andes','Mt. Everest','Mauna Loa','SP Mountain']\n",
    "[s.upper() for s in mylist if len(s)>5]"
   ]
  },
  {
   "cell_type": "markdown",
   "metadata": {},
   "source": [
    "[By the way, you can get the lower case equivalents with the method **string.lower( )**.]\n",
    "\n",
    "\n",
    "Note that you could achieve the same result (the upper case list of all volcanoes with names having more than 4 characters) using our old friend the  **for** loop:"
   ]
  },
  {
   "cell_type": "code",
   "execution_count": 32,
   "metadata": {},
   "outputs": [
    {
     "data": {
      "text/plain": [
       "['MT. EVEREST', 'MAUNA LOA', 'SP MOUNTAIN']"
      ]
     },
     "execution_count": 32,
     "metadata": {},
     "output_type": "execute_result"
    }
   ],
   "source": [
    "aList = []\n",
    "for s in mylist:\n",
    "    if(len(s)>5):\n",
    "        aList.append(s.upper())\n",
    "aList"
   ]
  },
  {
   "cell_type": "markdown",
   "metadata": {},
   "source": [
    "Or (challenge!)  by using **filter( )** and **map( )** and an anonymous function:"
   ]
  },
  {
   "cell_type": "markdown",
   "metadata": {},
   "source": [
    "Each of these three approaches performs similarly, but the list comprehension is the most succinct. "
   ]
  },
  {
   "cell_type": "markdown",
   "metadata": {},
   "source": [
    "### Practice with List comprehensions\n",
    "- The following dictionary- atomicNumbers- has the atomic number of an element as the key and the element name as the value\n",
    "\n",
    "atomicNumbers = {1:'H', 2:\"He\", 3: \"Li\", 4:\"Be\", 5:\"B\", 6:\"C\", 7: \"N\", 8:\"O\", 9:\"F\", 10:\"Ne\", 11:\"Na\", 12:\"Mg\", 13:\"Al\", 14:\"Si\", 15:\"P\", 16:\"S\", 17:\"Cl\", 18:\"Ar\"}\n",
    "\n",
    "- The following list- lifeElements- contains the atomic numbers essential for life\n",
    "\n",
    "lifeElements = [6,1, 8,7,15,16]\n",
    "- use a list comprehension to print out the names of the elements that are essential for life."
   ]
  },
  {
   "cell_type": "markdown",
   "metadata": {},
   "source": [
    "### Dictionary Comprehension\n",
    "Dictionary comprehensions are similar to list comprehensions, but they generate key-value pairs instead of lists. Dictionary comprehensions follow the format:\n",
    "    \n",
    "  **{**key**:**value **for** variable **in** collection **if** condition**}**\n",
    "\n",
    "\n",
    "The following Dictionary comprehension generates a dictionary with a word from mylist as the key and the length of the word as the value"
   ]
  },
  {
   "cell_type": "code",
   "execution_count": 33,
   "metadata": {},
   "outputs": [
    {
     "data": {
      "text/plain": [
       "{'Andes': 5, 'Mauna Loa': 9, 'Mt. Everest': 11, 'SP Mountain': 11}"
      ]
     },
     "execution_count": 33,
     "metadata": {},
     "output_type": "execute_result"
    }
   ],
   "source": [
    "mylist=['Andes','Mt. Everest','Mauna Loa','SP Mountain'] # to remind you what mylist was\n",
    "{s:len(s) for s in mylist} # list comprehension with mylist"
   ]
  },
  {
   "cell_type": "markdown",
   "metadata": {},
   "source": [
    "Notice the {key:value, key:value} structure of the output - that is a dictionary.  \n",
    "\n",
    "\n",
    "### Practice with Dictionary comprehensions\n",
    "- The following list - elements- is a list of the first 18 elements in the periodic table\n",
    "\n",
    "elements = [\"H\", \"He\", \"Li\", \"Be\", \"B\",\"C\",\"N\",\"O\",\"F\",\"N\",\"Na\",\"Mg\",\"Al\",\"Si\",\"P\",\"S\",\"Cl\",\"Ar\"]\n",
    "- Create a dictionary comprehension of the elements and their atomic number. The key is the element name while the value is the atomic number"
   ]
  },
  {
   "cell_type": "markdown",
   "metadata": {},
   "source": [
    "### Set comprehension\n",
    "\n",
    "A Set comprehension, returns a set and follows this format:\n",
    "\n",
    "   **{**expression **for** value **in** collection **if** condition**}**\n",
    "\n",
    "\n",
    "\n",
    "The following Set comprehension creates a set composed of the lengths of the words in mylist"
   ]
  },
  {
   "cell_type": "code",
   "execution_count": 34,
   "metadata": {},
   "outputs": [
    {
     "data": {
      "text/plain": [
       "{5, 9, 11}"
      ]
     },
     "execution_count": 34,
     "metadata": {},
     "output_type": "execute_result"
    }
   ],
   "source": [
    "{len(s) for s in mylist}"
   ]
  },
  {
   "cell_type": "markdown",
   "metadata": {},
   "source": [
    "You can tell that a set was returned because it is in curly braces with no keys. "
   ]
  },
  {
   "cell_type": "markdown",
   "metadata": {},
   "source": [
    "### Complicated comprehensions\n",
    "List, Dictionary, and Set comprehensions can also replace complicated, nested loops. Here's an example that generates a list of x,y,z triplets if the values obey Pythagorus' rules for right triangles.  Chew on it, until you get it: "
   ]
  },
  {
   "cell_type": "code",
   "execution_count": 35,
   "metadata": {},
   "outputs": [
    {
     "data": {
      "text/plain": [
       "[(3, 4, 5),\n",
       " (5, 12, 13),\n",
       " (6, 8, 10),\n",
       " (7, 24, 25),\n",
       " (8, 15, 17),\n",
       " (9, 12, 15),\n",
       " (10, 24, 26),\n",
       " (12, 16, 20),\n",
       " (15, 20, 25),\n",
       " (20, 21, 29)]"
      ]
     },
     "execution_count": 35,
     "metadata": {},
     "output_type": "execute_result"
    }
   ],
   "source": [
    "[(x,y,z) for x in range(1,30) \\\n",
    "    for y in range(x,30) for z in range(y,30) \\\n",
    "    if x**2 + y**2 == z**2]"
   ]
  }
 ],
 "metadata": {
  "kernelspec": {
   "display_name": "Python 3",
   "language": "python",
   "name": "python3"
  },
  "language_info": {
   "codemirror_mode": {
    "name": "ipython",
    "version": 3
   },
   "file_extension": ".py",
   "mimetype": "text/x-python",
   "name": "python",
   "nbconvert_exporter": "python",
   "pygments_lexer": "ipython3",
   "version": "3.5.3"
  }
 },
 "nbformat": 4,
 "nbformat_minor": 1
}
