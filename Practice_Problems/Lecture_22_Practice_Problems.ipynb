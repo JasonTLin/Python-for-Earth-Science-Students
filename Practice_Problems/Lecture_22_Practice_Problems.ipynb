{
 "cells": [
  {
   "cell_type": "markdown",
   "metadata": {},
   "source": [
    "# Practice Problems\n",
    "### Lecture 22\n",
    "Answer each number in a separate cell\n",
    "\n",
    "Rename the notebook with your lastName and the lecture \n",
    "    \n",
    "    ex. AsefawH_22\n",
    "    \n",
    "Turn this notebook into triton-ed by the end of class"
   ]
  },
  {
   "cell_type": "markdown",
   "metadata": {
    "collapsed": true
   },
   "source": [
    "# 1. Rose diagrams\n",
    "- NOAA collects wind directional data for the US which we can download and do whatever we like with it (decide whether or not to go sailing or surfing, for example).  We can also plot the data as a rose diagram.  :)\n",
    "-  We downloaded data for May 14, 2017 (Mother's day) from this search:  http://www.ndbc.noaa.gov/radial_search.php?lat1=33N&lon1=117W&uom=E&dist=250&ot=A&time=1 and reformatted the file as a csv datafile in  Datasets/WindDirections/wind.csv \n",
    "- Read in the data as a Pandas DataFrame.  Use df.head( ) to inspect the file first, to set the skiprows and header keywords appropriately.\n",
    "- The wind directions are in the WDIR column.\n",
    "- Use df.dropna( ) to get rid of the blank WDIR lines.\n",
    "- Plot the WDIR data as a rose diagram.  "
   ]
  },
  {
   "cell_type": "markdown",
   "metadata": {},
   "source": [
    "# 2. Equal angle nets\n",
    "- Somebody measured the direction of the magnetic field at 33N and 117W for the last 10,000 years [ok not really but there are models of the secular variation of the field for this.]\n",
    "- Read in the data file in Datasets/GeomagneticDirections/dec_inc.csv\n",
    "- Plot the declination (dec) and inclination (inc) data on an equal angle net.  Declinations are azimuths and inclination are plunges.  "
   ]
  },
  {
   "cell_type": "markdown",
   "metadata": {},
   "source": [
    "# 3. Equal area Nets\n",
    "- Read in the data file in Datasets/GeomagneticDirections/dec_inc.csv\n",
    "- Plot the declination (Dec) and inclination (Inc) data on an Equal Area net. "
   ]
  }
 ],
 "metadata": {
  "kernelspec": {
   "display_name": "Python 3",
   "language": "python",
   "name": "python3"
  },
  "language_info": {
   "codemirror_mode": {
    "name": "ipython",
    "version": 3
   },
   "file_extension": ".py",
   "mimetype": "text/x-python",
   "name": "python",
   "nbconvert_exporter": "python",
   "pygments_lexer": "ipython3",
   "version": "3.6.3"
  }
 },
 "nbformat": 4,
 "nbformat_minor": 2
}
