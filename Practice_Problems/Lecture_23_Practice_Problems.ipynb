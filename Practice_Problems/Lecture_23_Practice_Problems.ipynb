{
 "cells": [
  {
   "cell_type": "markdown",
   "metadata": {},
   "source": [
    "# 1. Saving images in a GUI\n",
    "- Open the file GUI_command_line.py and the cell with the %%writefile magic command in it to a cell in your homework notebook.\n",
    "- Add a button element to the right of the OK button that when clicked will save the image to a file named bathymetry.png.\n",
    "- Modify the code to allow the user to enter a file name of their choice and save the image to that file name.  \n",
    "\n",
    "# 2. Embellishing the plot\n",
    "- Add lat/lon tick marks to the bathymetric map\n",
    "- Allow the user to select different projections with a drop down menu. \n",
    "- Execute the map with the selected projection. "
   ]
  }
 ],
 "metadata": {
  "kernelspec": {
   "display_name": "Python 3",
   "language": "python",
   "name": "python3"
  },
  "language_info": {
   "codemirror_mode": {
    "name": "ipython",
    "version": 3
   },
   "file_extension": ".py",
   "mimetype": "text/x-python",
   "name": "python",
   "nbconvert_exporter": "python",
   "pygments_lexer": "ipython3",
   "version": "3.6.7"
  }
 },
 "nbformat": 4,
 "nbformat_minor": 2
}
