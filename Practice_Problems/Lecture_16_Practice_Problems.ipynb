{
 "cells": [
  {
   "cell_type": "markdown",
   "metadata": {},
   "source": [
    "# Practice Problems\n",
    "### Lecture 16\n",
    "Answer each number in a separate cell\n",
    "\n",
    "Rename this notebook with your last name and the lecture \n",
    "    \n",
    "    ex. Asefaw_16\n",
    "    \n",
    "Turn-in this notebook on triton-ed by the end of class"
   ]
  },
  {
   "cell_type": "markdown",
   "metadata": {},
   "source": [
    "# 1. Binomial functions\n",
    "\n",
    "- Calculate the probability of getting a winning a lottery ticket. The probability of winning ($p$) is 1 in 20 and you have money to purchase up to 10 tickets- ($n$).  \n",
    "\n",
    "- Plot the probability against tickets purchased as a green bar plot and label both axes.  \n",
    "\n",
    "# 2. Monte Carlo simulations with random.binomial( )\n",
    "\n",
    "- Redo the above simulation using Nmc of 100 and 5000. \n",
    "- Plot the Simulated versus the theoretical distributions as histograms and lines respectively.  \n",
    "\n",
    "\n",
    "# 3. Uniform distributions\n",
    "\n",
    "- Calculate the theoretical distribution of getting a particular azimuth between 0 and 360 when measuring, for example, the direction of a strike - assume that each result is equally likely (a uniform distribution between 0 and 360).\n",
    "- Perform a  Monte Carlo simulation with $n=30$ trials. \n",
    "- Plot your theoretical and simulated results as a bar and histogram plot respectively.   \n",
    "\n",
    "# 4. Normal distributions\n",
    "- Calculate the theoretical distribution for grades with a mean of 50% and a standard deviation of $\\pm$ 20.\n",
    "- Simulate the results of an exam taken by 35 students\n",
    "- Calculate the mean and standard deviation of your simulated results. \n",
    "- Put on a solid line representing the cutoffs for As, Bs, Cs, Ds, and Fs in your 'class'.  \n",
    "\n",
    "# 5. Log-normal distributions\n",
    "- Simulate a grain size distributions that is drawn from a log normal distribution with 1000 grains and a mean and standard deviation of 10 and .1 microns respectively. \n",
    "- Plot the distribution as a histogram (normed).\n",
    "- Calculate the mean, standard deviation, expectation and variance of the distribution.  \n",
    "- Convert your simulated data to a Pandas Series (using pd.Series(YOURDISTRIBUTION)).  "
   ]
  }
 ],
 "metadata": {
  "kernelspec": {
   "display_name": "Python 3",
   "language": "python",
   "name": "python3"
  }
 },
 "nbformat": 4,
 "nbformat_minor": 2
}
