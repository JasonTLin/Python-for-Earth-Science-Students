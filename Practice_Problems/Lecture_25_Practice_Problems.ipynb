{
 "cells": [
  {
   "cell_type": "markdown",
   "metadata": {},
   "source": [
    "# Practice Problems\n",
    "### Lecture 25\n",
    "Answer each number in a separate cell\n",
    "\n",
    "Rename the notebook with your lastName and the lecture \n",
    "    \n",
    "    ex. Asefaw_25\n",
    "    \n",
    "Turn this notebook into triton-ed by the end of class"
   ]
  },
  {
   "cell_type": "code",
   "execution_count": 1,
   "metadata": {
    "collapsed": true
   },
   "outputs": [],
   "source": [
    "from IPython.display import Image"
   ]
  },
  {
   "cell_type": "markdown",
   "metadata": {},
   "source": [
    "# 1. Mplot3d\n",
    "- Import **random** from numpy and use it to generate 3 arrays- each with 10 random values. \n",
    "- Plot the points using the **Axes3DSubplot** method **scatter( )** "
   ]
  },
  {
   "cell_type": "markdown",
   "metadata": {
    "collapsed": true
   },
   "source": [
    "# 2. Mplot3d and subduction zones\n",
    "- Modify the 3D figure of the earthquakes around the Marianas Trench. \n",
    "    - Look at the columns in the filtered DataFrame **box**\n",
    "    - What is the magnitude of the largest earthquake? the smallest earthquake?\n",
    "    - Set the symbol size, in the 3D figure, to be proportional to the magnitude of the earthquake.\n",
    "        - **Hint:** use the keyword argument **s** to set the markersize\n",
    "        - **Hint:** you may want to normalize the magnitudes then multiply them by a scalar"
   ]
  }
 ],
 "metadata": {
  "kernelspec": {
   "display_name": "Python 3",
   "language": "python",
   "name": "python3"
  },
  "language_info": {
   "codemirror_mode": {
    "name": "ipython",
    "version": 3
   },
   "file_extension": ".py",
   "mimetype": "text/x-python",
   "name": "python",
   "nbconvert_exporter": "python",
   "pygments_lexer": "ipython3",
   "version": "3.6.3"
  }
 },
 "nbformat": 4,
 "nbformat_minor": 2
}
