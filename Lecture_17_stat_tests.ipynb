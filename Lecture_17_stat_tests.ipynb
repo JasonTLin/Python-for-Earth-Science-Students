{
 "cells": [
  {
   "cell_type": "code",
   "execution_count": 1,
   "metadata": {
    "collapsed": true
   },
   "outputs": [],
   "source": [
    "import numpy as np\n",
    "import matplotlib.pyplot as plt\n",
    "%matplotlib inline\n",
    "from IPython.display import Image\n",
    "import pandas as pd\n",
    "import numpy.random as random"
   ]
  },
  {
   "cell_type": "markdown",
   "metadata": {},
   "source": [
    "### Review of lecture 16\n",
    "\n",
    "In lecture 16 we learned:\n",
    "\n",
    "- some basic statistical concepts \n",
    "\n",
    "- How to calculate theoretical distributions given a PDF\n",
    "\n",
    "- How to simulate data from various distributions.  \n",
    "\n",
    "- How to estimate the central tendency (mean), spread of the data (variance or standard deviation), and 95% confidence in the mean (1.97 Standard Error). \n"
   ]
  },
  {
   "cell_type": "markdown",
   "metadata": {},
   "source": [
    "### In this lecture we will:\n",
    "\n",
    "- Learn some statistical tests: t-test, F-test\n",
    "\n",
    "- Learn some non-parametric approaches to statistical testing (bootstrap, jackknife).  \n"
   ]
  },
  {
   "cell_type": "markdown",
   "metadata": {
    "collapsed": true
   },
   "source": [
    "\n",
    "\n",
    "### Statistical tests\n",
    "\n",
    "Reference:  Davis, J. (2002), Statistical and Data Analysis in Geology, 3rd Ed, Wiley, Hoboken.  \n",
    "\n",
    "\n",
    "\n",
    "\n",
    "\n",
    "Now that we have a few distributions under our belt, it would be handy to DO something with them.  What scientists usually do is use statistics of data to do some 'hypothesis testing'.  This involves setting up a statistical tests.    Statistics can help estimate the probability of a statement being true.  The way this is usually framed is as a _null hypothesis_ ($H_o$).\n",
    "\n",
    "#### Comparison of mean values (normal distributions)\n",
    "\n",
    "For example, let's say we calculate the mean of a sample $\\bar x$ and its standard deviation $s$.   We want to know if  this data set could have been drawn from a population whose mean $\\mu$ is known. In this case the null hypothesis is:  \n",
    "\n",
    "$$H_o: \\bar x = \\mu$$\n",
    "\n",
    "\n",
    "You can never be 100% confident of anything, but you can be \"pretty confident\". In science we usually like to be 95% confident.  The level of certainty is determined by a number $\\alpha$ which for 95% confidence is 0.05. \n",
    "\n",
    "If the 95% confidence in the mean is 1.97 times the standard error ($s_e=\\sigma/\\sqrt N$), so if $\\bar x$ is more than 1.97$s_e$ away from $\\mu$, then we can reject the null hypothesis $H_o$ at the 95% level of confidence.  \n",
    "\n",
    "Let's say we went to the National Bureau of Standards and measured the 'replica' of the standard meter used until 1960.  We used a regular tape measure (uncertainty of about a centimeter) to measure the meter and repeated the measurement 100 times.  [I'm going to use simulated data for this exercise as in Lecture 16.]    \n",
    "\n"
   ]
  },
  {
   "cell_type": "code",
   "execution_count": 8,
   "metadata": {},
   "outputs": [
    {
     "data": {
      "image/png": "[encoded data removed]",
      "text/plain": [
       "<matplotlib.figure.Figure at 0x11c9c0978>"
      ]
     },
     "metadata": {},
     "output_type": "display_data"
    }
   ],
   "source": [
    "#fig,ax=plt.figure()\n",
    "mu,sigma,Nmc=1,.01,100 # true mean, standard deviation of the measurements, number of simulations.\n",
    "Simulated=random.normal(mu,sigma,Nmc) # get Nmc  simulated data points from distribution\n",
    "s_e=np.std(Simulated)/np.sqrt(Nmc) # standard error of the mean\n",
    "plt.hist(Simulated,normed=True,histtype='step') # plot the measurements\n",
    "plt.axvline(mu,color='red',linewidth=2,label='True mean') # axvline plots a vertical line\n",
    "plt.axvline(x=Simulated.mean(),color='green',linewidth=2,label='Sample mean')\n",
    "plt.axvline(x=Simulated.mean()+1.97*s_e,color='orange',label='Upper bound')\n",
    "plt.axvline(x=Simulated.mean()-1.97*s_e,color='magenta',label='Lower bound')\n",
    "plt.legend(bbox_to_anchor=(1.05, 1), borderaxespad=0); # put the legend outside the plot"
   ]
  },
  {
   "cell_type": "markdown",
   "metadata": {},
   "source": [
    "So as long as the green line (sample mean) falls between the upper and lower 95% confidence bounds, the null hypothesis cannot be rejected at the 95% level of confidence.  It will 'fail' 5% of the time."
   ]
  },
  {
   "cell_type": "markdown",
   "metadata": {},
   "source": [
    "But what if we DON'T know the true mean?  Instead, we have a set of  measurements that we made on the replica with a certain mean $\\bar x_1$ and standard deviation $s_1$, and we want to know if a second set of measurements (with $\\bar x_2,s_2$),  on a different 'meter' stick could have been made on the replica (or something identical)?  In other words do the two samples have the same mean:\n",
    "\n",
    "$$H_o : \\bar x_1 = \\bar x_2.$$\n",
    "\n",
    "For this kind of test, we use a version of Student's _t-test_ known as the Welch's t-test. (Student's t-test assumes that both samples have the same variance while Welch's allows the two variances to be different).   \n",
    "\n",
    "We perform the calculations thusly:\n",
    "\n",
    "\n",
    "Calculate the \"Welch's t-test\": \n",
    "\n",
    "\n",
    "$$t = \\frac {\\bar {x_1} - \\bar {x_2}}{\\sqrt { \\frac {s_1^2}{n_1} + \\frac {s_2^2}{n_2}}}$$\n",
    "\n",
    " To do this test we need to understand what _degrees of freedom_, $\\nu$, are.  The _degrees of freedom_ is the number of data points you have minus the number of data points you need to calculate the statistic of interest. In this case we estimate $\\nu$ like this:  \n",
    "\n",
    "\n",
    "\n",
    "$$\\nu \\simeq \\frac { \\bigl( \\frac {s_1^2}{n_1} +  \\frac {s_2^2}{n_2} \\bigr)^2  }{ \\frac {s_1^4}{N_1^2\\nu_1} +  \\frac {s_2^4}{N_2^2\\nu_2}    }$$\n",
    "\n",
    "where $\\nu_1 = n_1-1$ and $\\nu_2 = n_2-1$. \n",
    "\n",
    "\n",
    "Once $t$ and \n",
    "$\\nu$  have been calculated, these two statistics can be used with the t-distribution to test the null hypothesis that the two population means are equal.    \n",
    "\n",
    "To our great joy, the **scipy.stats** module we used in Lecture 16 also has a function **ttest_ind( )** which calculates the _t-test_ for us.  \n"
   ]
  },
  {
   "cell_type": "code",
   "execution_count": 3,
   "metadata": {},
   "outputs": [
    {
     "name": "stdout",
     "output_type": "stream",
     "text": [
      "Help on function ttest_ind in module scipy.stats.stats:\n",
      "\n",
      "ttest_ind(a, b, axis=0, equal_var=True, nan_policy='propagate')\n",
      "    Calculates the T-test for the means of *two independent* samples of scores.\n",
      "    \n",
      "    This is a two-sided test for the null hypothesis that 2 independent samples\n",
      "    have identical average (expected) values. This test assumes that the\n",
      "    populations have identical variances by default.\n",
      "    \n",
      "    Parameters\n",
      "    ----------\n",
      "    a, b : array_like\n",
      "        The arrays must have the same shape, except in the dimension\n",
      "        corresponding to `axis` (the first, by default).\n",
      "    axis : int or None, optional\n",
      "        Axis along which to compute test. If None, compute over the whole\n",
      "        arrays, `a`, and `b`.\n",
      "    equal_var : bool, optional\n",
      "        If True (default), perform a standard independent 2 sample test\n",
      "        that assumes equal population variances [1]_.\n",
      "        If False, perform Welch's t-test, which does not assume equal\n",
      "        population variance [2]_.\n",
      "    \n",
      "        .. versionadded:: 0.11.0\n",
      "    nan_policy : {'propagate', 'raise', 'omit'}, optional\n",
      "        Defines how to handle when input contains nan. 'propagate' returns nan,\n",
      "        'raise' throws an error, 'omit' performs the calculations ignoring nan\n",
      "        values. Default is 'propagate'.\n",
      "    \n",
      "    \n",
      "    Returns\n",
      "    -------\n",
      "    statistic : float or array\n",
      "        The calculated t-statistic.\n",
      "    pvalue : float or array\n",
      "        The two-tailed p-value.\n",
      "    \n",
      "    Notes\n",
      "    -----\n",
      "    We can use this test, if we observe two independent samples from\n",
      "    the same or different population, e.g. exam scores of boys and\n",
      "    girls or of two ethnic groups. The test measures whether the\n",
      "    average (expected) value differs significantly across samples. If\n",
      "    we observe a large p-value, for example larger than 0.05 or 0.1,\n",
      "    then we cannot reject the null hypothesis of identical average scores.\n",
      "    If the p-value is smaller than the threshold, e.g. 1%, 5% or 10%,\n",
      "    then we reject the null hypothesis of equal averages.\n",
      "    \n",
      "    References\n",
      "    ----------\n",
      "    .. [1] http://en.wikipedia.org/wiki/T-test#Independent_two-sample_t-test\n",
      "    \n",
      "    .. [2] http://en.wikipedia.org/wiki/Welch%27s_t_test\n",
      "    \n",
      "    Examples\n",
      "    --------\n",
      "    >>> from scipy import stats\n",
      "    >>> np.random.seed(12345678)\n",
      "    \n",
      "    Test with sample with identical means:\n",
      "    \n",
      "    >>> rvs1 = stats.norm.rvs(loc=5,scale=10,size=500)\n",
      "    >>> rvs2 = stats.norm.rvs(loc=5,scale=10,size=500)\n",
      "    >>> stats.ttest_ind(rvs1,rvs2)\n",
      "    (0.26833823296239279, 0.78849443369564776)\n",
      "    >>> stats.ttest_ind(rvs1,rvs2, equal_var = False)\n",
      "    (0.26833823296239279, 0.78849452749500748)\n",
      "    \n",
      "    `ttest_ind` underestimates p for unequal variances:\n",
      "    \n",
      "    >>> rvs3 = stats.norm.rvs(loc=5, scale=20, size=500)\n",
      "    >>> stats.ttest_ind(rvs1, rvs3)\n",
      "    (-0.46580283298287162, 0.64145827413436174)\n",
      "    >>> stats.ttest_ind(rvs1, rvs3, equal_var = False)\n",
      "    (-0.46580283298287162, 0.64149646246569292)\n",
      "    \n",
      "    When n1 != n2, the equal variance t-statistic is no longer equal to the\n",
      "    unequal variance t-statistic:\n",
      "    \n",
      "    >>> rvs4 = stats.norm.rvs(loc=5, scale=20, size=100)\n",
      "    >>> stats.ttest_ind(rvs1, rvs4)\n",
      "    (-0.99882539442782481, 0.3182832709103896)\n",
      "    >>> stats.ttest_ind(rvs1, rvs4, equal_var = False)\n",
      "    (-0.69712570584654099, 0.48716927725402048)\n",
      "    \n",
      "    T-test with different means, variance, and n:\n",
      "    \n",
      "    >>> rvs5 = stats.norm.rvs(loc=8, scale=20, size=100)\n",
      "    >>> stats.ttest_ind(rvs1, rvs5)\n",
      "    (-1.4679669854490653, 0.14263895620529152)\n",
      "    >>> stats.ttest_ind(rvs1, rvs5, equal_var = False)\n",
      "    (-0.94365973617132992, 0.34744170334794122)\n",
      "\n"
     ]
    }
   ],
   "source": [
    "import scipy.stats as stats\n",
    "help(stats.ttest_ind)"
   ]
  },
  {
   "cell_type": "markdown",
   "metadata": {},
   "source": [
    "To use **stats.ttest_ind( )**, we pass it the two data sets and an option for a keyword **equal_var**. When this is set to **True**, the test is an ordinary Student's t-test which assumes that the variance in the two data sets is the same.  If we don't want to assume that, we use the Welch's version (different variances) by setting **equal_var** to **False**.  \n",
    "\n",
    "**stats.ttest_ind( )**  returns something called the _p-value_ which, when compared to the level of confidence $\\alpha$ (normally taken as .05 for 95% confidence), can tell us whether to reject the null hypothesis:  \n",
    "\n",
    "$H_o: \\bar x_1 = \\bar x_2$\n",
    "\n",
    "If the p-value is smaller than $\\alpha$, then $H_o$ should be rejected.  \n",
    "\n",
    "Let's try this by comparing  a second simulated data set with our first one:  \n",
    "\n"
   ]
  },
  {
   "cell_type": "code",
   "execution_count": 4,
   "metadata": {},
   "outputs": [
    {
     "name": "stdout",
     "output_type": "stream",
     "text": [
      "Ttest_indResult(statistic=-0.46997277101490559, pvalue=0.63889176198202535)\n"
     ]
    }
   ],
   "source": [
    "Simulated_2=random.normal(mu,sigma,Nmc) # get a second data set from the same distribution\n",
    "print (stats.ttest_ind(Simulated,Simulated_2,equal_var=False)) # evaluate pvalue"
   ]
  },
  {
   "cell_type": "markdown",
   "metadata": {},
   "source": [
    "We can also assign the returned values to variables, say **stat** and **pvalue**:"
   ]
  },
  {
   "cell_type": "code",
   "execution_count": 5,
   "metadata": {},
   "outputs": [
    {
     "name": "stdout",
     "output_type": "stream",
     "text": [
      "-0.469972771015\n",
      "0.638891761982\n"
     ]
    }
   ],
   "source": [
    "stat,pvalue=stats.ttest_ind(Simulated,Simulated_2,equal_var=False)\n",
    "print (stat)\n",
    "print (pvalue)"
   ]
  },
  {
   "cell_type": "markdown",
   "metadata": {},
   "source": [
    "So in this case, the p-value greatly exceeds the value of 0.05 for $\\alpha$.  The null hypothesis can not be rejected and there is no great surprise that the two means (which were both drawn from distributions with a $\\mu=1$) are the same.  \n",
    "\n",
    "Let's try this with a different values of $\\mu$  see what happens:  "
   ]
  },
  {
   "cell_type": "code",
   "execution_count": 6,
   "metadata": {},
   "outputs": [
    {
     "name": "stdout",
     "output_type": "stream",
     "text": [
      "mean, sim, p, rejected?\n",
      "1.0 -0.000 0.000e+00, Yes\n",
      "1.0 0.100 0.000e+00, Yes\n",
      "1.0 0.200 1.241e-315, Yes\n",
      "1.0 0.300 4.763e-302, Yes\n",
      "1.0 0.400 5.831e-292, Yes\n",
      "1.0 0.500 4.888e-277, Yes\n",
      "1.0 0.599 5.742e-256, Yes\n",
      "1.0 0.699 3.793e-231, Yes\n",
      "1.0 0.799 3.119e-198, Yes\n",
      "1.0 0.901 1.469e-139, Yes\n",
      "1.0 1.000 7.826e-01, No\n",
      "1.0 1.098 2.097e-135, Yes\n",
      "1.0 1.200 4.105e-199, Yes\n",
      "1.0 1.300 2.386e-233, Yes\n",
      "1.0 1.401 1.815e-258, Yes\n",
      "1.0 1.498 6.416e-277, Yes\n",
      "1.0 1.598 1.560e-287, Yes\n",
      "1.0 1.700 5.207e-305, Yes\n",
      "1.0 1.797 1.762e-316, Yes\n",
      "1.0 1.900 0.000e+00, Yes\n"
     ]
    }
   ],
   "source": [
    "print ('mean, sim, p, rejected?')\n",
    "for mu in np.arange(0,2,.1): # test this with values from 0 to 2\n",
    "    Sim=random.normal(mu,sigma,Nmc)\n",
    "    xbar=np.mean(Sim)\n",
    "    # assign the returned statistics to variables stat, pvalue\n",
    "    stat,pvalue=stats.ttest_ind(Simulated,Sim,equal_var=False)\n",
    "    # compare original with various test cases and p-value (note the 'scientific' formatting)\n",
    "    if pvalue>=0.05:\n",
    "        h='No'\n",
    "    else:\n",
    "        h='Yes'\n",
    "    print ('%3.1f %5.3f %8.3e, %s'%(np.mean(Simulated),xbar, pvalue,h) )"
   ]
  },
  {
   "cell_type": "markdown",
   "metadata": {},
   "source": [
    "So the only sample for which $H_o$ could not be rejected was the one with a $\\mu$ of 1.  Not really surprising... "
   ]
  },
  {
   "cell_type": "markdown",
   "metadata": {},
   "source": [
    "#### Comparison of variances\n",
    "\n",
    "Now let's say we are more interested in comparing the variances instead of the means. For example, is a particular measurement method superior (lower variance) than another.  Say we have a bunch of students (100)  'eyeball' a sedimentary bed that is approximately 1 meter thick,  guessing how long it is in meters.   Are these measurements significantly more scattered than if we made the measurements with a tape measure?   \n",
    "\n",
    "To compare variances, we use a different test - the _F-test_.  The _F-test_ is based on a theoretical probability distribution known as the _F-distribution_, which is the theoretical distribution of values that would be expected by a random sampling of a normal population and calculating the ratios of variances.  The _F_ statistic is: \n",
    "\n",
    "$$ F = \\frac {s_1^2}{s_2^2}$$.  \n",
    "\n",
    "We also need to know the _degrees of freedom_ here and here $\\nu$ is $N-1$ for each sample.   \n",
    "\n",
    "\n",
    "There is a function for this too (whew! - otherwise you have to look up F tables online or in a book! or something).   For that we calculate $F$ as above and $\\nu_1,\\nu_2$, then call **scipy.stats.f.cdf**:\n",
    "\n"
   ]
  },
  {
   "cell_type": "code",
   "execution_count": 7,
   "metadata": {},
   "outputs": [
    {
     "name": "stdout",
     "output_type": "stream",
     "text": [
      "Help on method cdf in module scipy.stats._distn_infrastructure:\n",
      "\n",
      "cdf(x, *args, **kwds) method of scipy.stats._continuous_distns.f_gen instance\n",
      "    Cumulative distribution function of the given RV.\n",
      "    \n",
      "    Parameters\n",
      "    ----------\n",
      "    x : array_like\n",
      "        quantiles\n",
      "    arg1, arg2, arg3,... : array_like\n",
      "        The shape parameter(s) for the distribution (see docstring of the\n",
      "        instance object for more information)\n",
      "    loc : array_like, optional\n",
      "        location parameter (default=0)\n",
      "    scale : array_like, optional\n",
      "        scale parameter (default=1)\n",
      "    \n",
      "    Returns\n",
      "    -------\n",
      "    cdf : ndarray\n",
      "        Cumulative distribution function evaluated at `x`\n",
      "\n"
     ]
    }
   ],
   "source": [
    "help(stats.f.cdf) # we already imported scipy"
   ]
  },
  {
   "cell_type": "markdown",
   "metadata": {},
   "source": [
    "So, given our two data sets, let's try to see if the variances are statistically different. "
   ]
  },
  {
   "cell_type": "code",
   "execution_count": 8,
   "metadata": {},
   "outputs": [
    {
     "name": "stdout",
     "output_type": "stream",
     "text": [
      "F=1.03 p=0.55 alpha=0.05\n",
      "null hypothesis NOT rejected - the two variances are not different\n"
     ]
    }
   ],
   "source": [
    "alpha=0.05 # set the level of confidence desired (this is for 95% confidence)\n",
    "\n",
    "s_1,s_2=np.std(Simulated),np.std(Simulated_2) # get the two standard deviations\n",
    "\n",
    "F=s_1**2/s_2**2 # evaluate F, the ratio of the two variances\n",
    "nu_1,nu_2=len(Simulated)-1,len(Simulated_2)-1 # get the two degrees of freedom\n",
    "pvalue=stats.f.cdf(F,nu_1,nu_2) # get the F ratio value for the test\n",
    "print ('F=%4.2f p=%4.2f alpha=%4.2f'%(F,pvalue,alpha)) # print them out\n",
    "if pvalue<alpha: # fails the test\n",
    "    print ('null hypothesis rejected, the two variances are different')\n",
    "else: # passes the test\n",
    "    print ('null hypothesis NOT rejected - the two variances are not different')\n"
   ]
  },
  {
   "cell_type": "markdown",
   "metadata": {},
   "source": [
    "### Non-parametric tests. \n",
    "\n",
    "Obviously, there are a lot of different statistical tests that we could do.  Most of them ASSUME that the data were drawn from a particular type of distribution, i.e., the normal distribution.  But as we already saw in the last lecture, distributions are not always normally distributed.  Many, like grain size data, are most definitely NOT normally distributed.  So what do we do to make these kinds of tests?  \n",
    "\n",
    "### The bootstrap\n",
    "\n",
    "If we have a LOT of data and we can safely assume that the underlying distribution is represented by the data, we can do a statistical test known as the _bootstrap_.  The bootstrap is very much like the Monte Carlo approach we are by now very familiar with.  But instead of simulating data, we draw random samples from our own data and perform the test on these _pseudo samples_.    \n",
    "\n",
    "For example,  let's imagine a case where we have two data sets from some weird distribution.  I'm going to use the lognormal one because I can simulate it and it is not \"normal\".   \n"
   ]
  },
  {
   "cell_type": "code",
   "execution_count": 15,
   "metadata": {},
   "outputs": [
    {
     "data": {
      "image/png": "[encoded data removed]",
      "text/plain": [
       "<matplotlib.figure.Figure at 0x1a1e33bcf8>"
      ]
     },
     "metadata": {},
     "output_type": "display_data"
    }
   ],
   "source": [
    "Nmc=1000 # number of Monte Carlo simulations\n",
    "\n",
    "mu_3,sigma_3=0,.5,\n",
    "Simulated_3=random.lognormal(mu_3,sigma_3,Nmc) # get Nmc  simulated data points from distribution\n",
    "plt.hist(Simulated_3,normed=True,bins=20,histtype='step',color='blue') # plot them  - notice the new histtype\n",
    "\n",
    "mu_4,sigma_4 = 1,.5\n",
    "Simulated_4=random.lognormal(mu_4,sigma_4,Nmc) # get Nmc  simulated data points from distribution\n",
    "plt.hist(Simulated_4,normed=True,bins=20,histtype='step',color='red'); # plot them  - notice the new histtype"
   ]
  },
  {
   "cell_type": "markdown",
   "metadata": {},
   "source": [
    "How do we know if the two means are the same?  We can't use the t-test because that assumes a normal distribution whereas these data are clearly not normally distributed.  \n",
    "\n",
    "Well, we can calculate the mean (or better yet the mode), then repeat the calculation on a large number  ($N_b$) of  _pseudo-samples_.  A _pseudo-sample_   is a _sample_ (in the statistical sense) created by randomly selecting data points from the original sample. This will give a distribution of means (or modes).  We do this on both data sets.  If the bounds containing 95% of the means (or modes) of each data set overlap, bingo, the means (or modes) are the same.  \n",
    "\n",
    "Because we want to do this twice, we should make a function that: \n",
    "- Draws $N_b$ pseudosamples from a sample and calculates the mean on them.  \n",
    "- Sorts the $N_b$ means and finds the bounds containing, say, 95% of them.\n",
    "- Returns these lower and upper bounds of $N_bs$ means, depending on $\\alpha$.   \n",
    "\n",
    "To do this, our function can call **random.choice( )**  which will save us a lot of headache:  "
   ]
  },
  {
   "cell_type": "code",
   "execution_count": 10,
   "metadata": {},
   "outputs": [
    {
     "name": "stdout",
     "output_type": "stream",
     "text": [
      "Help on built-in function choice:\n",
      "\n",
      "choice(...) method of mtrand.RandomState instance\n",
      "    choice(a, size=None, replace=True, p=None)\n",
      "    \n",
      "    Generates a random sample from a given 1-D array\n",
      "    \n",
      "            .. versionadded:: 1.7.0\n",
      "    \n",
      "    Parameters\n",
      "    -----------\n",
      "    a : 1-D array-like or int\n",
      "        If an ndarray, a random sample is generated from its elements.\n",
      "        If an int, the random sample is generated as if a were np.arange(a)\n",
      "    size : int or tuple of ints, optional\n",
      "        Output shape.  If the given shape is, e.g., ``(m, n, k)``, then\n",
      "        ``m * n * k`` samples are drawn.  Default is None, in which case a\n",
      "        single value is returned.\n",
      "    replace : boolean, optional\n",
      "        Whether the sample is with or without replacement\n",
      "    p : 1-D array-like, optional\n",
      "        The probabilities associated with each entry in a.\n",
      "        If not given the sample assumes a uniform distribution over all\n",
      "        entries in a.\n",
      "    \n",
      "    Returns\n",
      "    --------\n",
      "    samples : single item or ndarray\n",
      "        The generated random samples\n",
      "    \n",
      "    Raises\n",
      "    -------\n",
      "    ValueError\n",
      "        If a is an int and less than zero, if a or p are not 1-dimensional,\n",
      "        if a is an array-like of size 0, if p is not a vector of\n",
      "        probabilities, if a and p have different lengths, or if\n",
      "        replace=False and the sample size is greater than the population\n",
      "        size\n",
      "    \n",
      "    See Also\n",
      "    ---------\n",
      "    randint, shuffle, permutation\n",
      "    \n",
      "    Examples\n",
      "    ---------\n",
      "    Generate a uniform random sample from np.arange(5) of size 3:\n",
      "    \n",
      "    >>> np.random.choice(5, 3)\n",
      "    array([0, 3, 4])\n",
      "    >>> #This is equivalent to np.random.randint(0,5,3)\n",
      "    \n",
      "    Generate a non-uniform random sample from np.arange(5) of size 3:\n",
      "    \n",
      "    >>> np.random.choice(5, 3, p=[0.1, 0, 0.3, 0.6, 0])\n",
      "    array([3, 3, 0])\n",
      "    \n",
      "    Generate a uniform random sample from np.arange(5) of size 3 without\n",
      "    replacement:\n",
      "    \n",
      "    >>> np.random.choice(5, 3, replace=False)\n",
      "    array([3,1,0])\n",
      "    >>> #This is equivalent to np.random.permutation(np.arange(5))[:3]\n",
      "    \n",
      "    Generate a non-uniform random sample from np.arange(5) of size\n",
      "    3 without replacement:\n",
      "    \n",
      "    >>> np.random.choice(5, 3, replace=False, p=[0.1, 0, 0.3, 0.6, 0])\n",
      "    array([2, 3, 0])\n",
      "    \n",
      "    Any of the above can be repeated with an arbitrary array-like\n",
      "    instead of just integers. For instance:\n",
      "    \n",
      "    >>> aa_milne_arr = ['pooh', 'rabbit', 'piglet', 'Christopher']\n",
      "    >>> np.random.choice(aa_milne_arr, 5, p=[0.5, 0.1, 0.1, 0.3])\n",
      "    array(['pooh', 'pooh', 'pooh', 'Christopher', 'piglet'],\n",
      "          dtype='|S11')\n",
      "\n"
     ]
    }
   ],
   "source": [
    "help(random.choice)"
   ]
  },
  {
   "cell_type": "markdown",
   "metadata": {},
   "source": [
    "Here is a little function called **bootstrap( )** I wrote (you are welcome), which does what we want.  "
   ]
  },
  {
   "cell_type": "code",
   "execution_count": 11,
   "metadata": {
    "collapsed": true
   },
   "outputs": [],
   "source": [
    "def bootstrap(Nb, sample,alpha):\n",
    "    \"\"\"\n",
    "    chooses Nb pseudosamples from sample, \n",
    "    calculates means and returns the lower and upper confidence bounds, dependent on alpha\n",
    "    \"\"\"\n",
    "    Ns=len(sample) # get the number of data points in the sample\n",
    "    bootstrapped_means=[] # make a list for the means\n",
    "    for i in range(Nb):# do this Nb times\n",
    "        # random.choice gets us the pseudosample\n",
    "        pseudo_sample=random.choice(sample,size=len(sample),replace=True) \n",
    "        bootstrapped_means.append(pseudo_sample.mean()) # appends the mean\n",
    "    bootstrapped_means=sorted(bootstrapped_means) # sort the means\n",
    "    upper_bound_index=int((1.-alpha/2.)*Nb) # get the index for the upper bound\n",
    "    lower_bound_index=Nb-int((1.-alpha/2.)*Nb) # same for lower bound\n",
    "    return bootstrapped_means[lower_bound_index],bootstrapped_means[upper_bound_index]\n",
    "    "
   ]
  },
  {
   "cell_type": "code",
   "execution_count": 12,
   "metadata": {},
   "outputs": [
    {
     "name": "stdout",
     "output_type": "stream",
     "text": [
      "1.13065152531\n",
      "1.1020862869 1.15373538395\n"
     ]
    }
   ],
   "source": [
    "# check it out: \n",
    "lower_bound,upper_bound=bootstrap(10,Simulated_3,.05)\n",
    "print (Simulated_3.mean()) # calculate the mean of the distribution\n",
    "print (lower_bound,upper_bound) # calculate the 95% bounds (alpha=.05)"
   ]
  },
  {
   "cell_type": "markdown",
   "metadata": {},
   "source": [
    "Well, that seems to have worked because the mean falls between the two confidence bounds.    \n",
    "\n",
    "Our next task will be to plot the two sets of bounds on our histogram and see if they overlap each other.  \n",
    "\n"
   ]
  },
  {
   "cell_type": "code",
   "execution_count": 17,
   "metadata": {},
   "outputs": [
    {
     "data": {
      "image/png": "[encoded data removed]",
      "text/plain": [
       "<matplotlib.figure.Figure at 0x1a1e4ccc88>"
      ]
     },
     "metadata": {},
     "output_type": "display_data"
    }
   ],
   "source": [
    "Nb=1000 # let's get 1000 bootstrapped means (the more the merrier)\n",
    "\n",
    "lower_bound_1,upper_bound_1=bootstrap(Nb,Simulated_3,.05) # get the bounds for first set\n",
    "plt.hist(Simulated_3,normed=True,bins=20,histtype='step',color='blue') # plot them  - notice the new histtype\n",
    "plt.axvline(lower_bound_1,color='blue',linestyle='dashed', label=\"Mean: 0\")# put on one bound\n",
    "plt.axvline(upper_bound_1,color='blue',linestyle='dashed')# put on one bound\n",
    "\n",
    "\n",
    "lower_bound_2,upper_bound_2=bootstrap(Nb,Simulated_4,.05) # get the bounds for second set\n",
    "plt.hist(Simulated_4,normed=True,bins=20,histtype='step',color='red'); # plot them  - notice the new histtype\n",
    "plt.axvline(lower_bound_2,color='red',linestyle='dotted', label=\"Mean: 1\")# put on one bound\n",
    "plt.axvline(upper_bound_2,color='red',linestyle='dotted')# put on one bound\n",
    "plt.legend();"
   ]
  },
  {
   "cell_type": "markdown",
   "metadata": {},
   "source": [
    "And the two data sets are statistically distinct at the 95% confidence level.  We can repeat this exercise with two new simulated data sets, drawn from populations with the same mean and see if you get a different answer:  "
   ]
  },
  {
   "cell_type": "code",
   "execution_count": 18,
   "metadata": {},
   "outputs": [
    {
     "data": {
      "image/png": "[encoded data removed]",
      "text/plain": [
       "<matplotlib.figure.Figure at 0x1a1e3ffa58>"
      ]
     },
     "metadata": {},
     "output_type": "display_data"
    }
   ],
   "source": [
    "mu_5,sigma_5,mu_6,sigma_6=0,.5,0,.5\n",
    "Nmc=1000 # number of monte carlo simultions\n",
    "Simulated_5=random.lognormal(mu_5,sigma_5,Nmc) # get Nmc  simulated data points from distribution\n",
    "Simulated_6=random.lognormal(mu_6,sigma_6,Nmc) # get Nmc  simulated data points from distribution\n",
    "\n",
    "Nb=1000 # let's get 1000 bootstrapped means (the more the merrier)\n",
    "lower_bound_1,upper_bound_1=bootstrap(Nb,Simulated_5,.05) # get the bounds for first set\n",
    "plt.hist(Simulated_5,normed=True,bins=20,histtype='step',color='blue') # plot them  - notice the new histtype\n",
    "plt.axvline(lower_bound_1,color='blue',linestyle='dashed', label=\"Mean: 0\")# put on one bound\n",
    "plt.axvline(upper_bound_1,color='blue',linestyle='dashed')# put on one bound\n",
    "\n",
    "\n",
    "lower_bound_2,upper_bound_2=bootstrap(Nb,Simulated_6,.05) # get the bounds for second set\n",
    "plt.hist(Simulated_6,normed=True,bins=20,histtype='step',color='red'); # plot them  - notice the new histtype\n",
    "plt.axvline(lower_bound_2,color='red',linestyle='dotted', label=\"Mean: 0\")# put on one bound\n",
    "plt.axvline(upper_bound_2,color='red',linestyle='dotted')# put on one bound\n",
    "plt.legend();"
   ]
  },
  {
   "cell_type": "markdown",
   "metadata": {},
   "source": [
    "Now the uncertainty bounds overlap.  As they should!  \n",
    "\n",
    "You can do this same type of thing calculating modes, means, standard deviations or pretty much anything you like.  \n",
    "\n",
    "### The jackknife\n",
    "\n",
    "\n",
    "The jacknife is similar to the bootstrap, but instead of resampling the sample with the same number of data points, we delete one of the data points, calculate the statistic of interest, then delete the next, until we have repeated it N times. This is called the _delete one_ jackknife.  You can also do a delete-two jackknife or more, depending on how many data points are in the sample.   \n"
   ]
  }
 ],
 "metadata": {
  "kernelspec": {
   "display_name": "Python 3",
   "language": "python",
   "name": "python3"
  },
  "language_info": {
   "codemirror_mode": {
    "name": "ipython",
    "version": 3
   },
   "file_extension": ".py",
   "mimetype": "text/x-python",
   "name": "python",
   "nbconvert_exporter": "python",
   "pygments_lexer": "ipython3",
   "version": "3.6.3"
  }
 },
 "nbformat": 4,
 "nbformat_minor": 1
}
