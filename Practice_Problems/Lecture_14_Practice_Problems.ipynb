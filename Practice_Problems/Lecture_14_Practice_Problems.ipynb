{
 "cells": [
  {
   "cell_type": "markdown",
   "metadata": {},
   "source": [
    "# Practice Problems\n",
    "### Lecture 14\n",
    "\n",
    "Answer each number in a separate cell\n",
    "\n",
    "Rename this notebook with your last name and the lecture \n",
    "\n",
    "    ex. Asefaw_14\n",
    "    \n",
    "Turn-in this notebook on triton-ed by the end of class"
   ]
  },
  {
   "cell_type": "markdown",
   "metadata": {},
   "source": [
    "# 1. Pandas: filtering\n",
    "- Read the file ElementalAbundances.txt into a pandas data frame\n",
    "- Change all the blank entries (nan) that are in the Series 'solar' to zeros\n",
    "- Plot the data using blue triangles and a blue dashed line.  \n",
    "- Export the element names to a list, the solar elemental abundances to a different list, and the atomic numbers to a third list\n",
    "- Add a legend in the upper right hand corner. \n",
    "\n",
    "\n",
    "# 2. Matplotlib.pyplot\n",
    "- Use **head** to peek at the data in the file:\n",
    "    \"Datasets/Tides/SDtides.csv\"\n",
    "- import the data into a pandas DataFrame\n",
    "    - the data file contains information about High and Low Tides measured at SIO\n",
    "- plot a line chart of high tide (cm) for the first 60 days of the year \n",
    "    - include a title, x-axis label, and y-axis label\n",
    "- add a line chart of low tide (cm) to the same plot\n",
    "- include a legend in your figure\n",
    "\n",
    "\n",
    "# 3. Matplotlib.pyplot.figure.add_subplot( )\n",
    "- Use **add_subplot( )** to plot High tide (cm) for the first 60 days and Low tide (cm) for the first 60 days in two subplots that are side-by-side.\n",
    "- Add a title, y label, and x label to each figure\n",
    "\n",
    "\n",
    "# 4. Bar charts\n",
    "- use **.bar( ) ** to plot the height at low tide for the first 60 days of the year\n",
    "- include a title, x-axis label, y-axis label"
   ]
  }
 ],
 "metadata": {
  "kernelspec": {
   "display_name": "Python 3",
   "language": "python",
   "name": "python3"
  },
  "language_info": {
   "codemirror_mode": {
    "name": "ipython",
    "version": 3
   },
   "file_extension": ".py",
   "mimetype": "text/x-python",
   "name": "python",
   "nbconvert_exporter": "python",
   "pygments_lexer": "ipython3",
   "version": "3.6.3"
  }
 },
 "nbformat": 4,
 "nbformat_minor": 2
}
