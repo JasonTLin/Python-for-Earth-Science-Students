{
 "cells": [
  {
   "cell_type": "markdown",
   "metadata": {},
   "source": [
    "# Practice Problems\n",
    "### Lecture 24\n",
    "Answer each number in a separate cell\n",
    "\n",
    "Rename the notebook with your lastName and the lecture \n",
    "    \n",
    "    ex. CychB_24\n",
    "    \n",
    "Turn this notebook into triton-ed by the end of class"
   ]
  },
  {
   "cell_type": "markdown",
   "metadata": {},
   "source": [
    "# 1. Classification\n",
    "- Import the tab separated dataset 'Datasets/Forams/Forams.txt' into a pandas dataframe.\n",
    "- This dataset has several variables that describe the morphology of 2 different foram species. These are 'Ø [mm]','Perc [%]' and 'Growth [%]'. Plot these against one another in using **sbn.pairplot( )** and color the points by Species.\n",
    "- Randomize the dataset and make the first half into a training dataset. Use the **scikit-learn** algorithm **GaussianNB()** to create a model for your data.\n",
    "- Apply your classification to the second half of your dataset using the model you made and plot the classified datapoints in a pairplot.\n",
    "\n",
    "\n",
    "# 2. PCA\n",
    "- Perform a principal component analysis on the data to get 2 components. Display your data in the coordinate system of these components using sns.scatterplot. Color by Species.\n",
    "- Use **GaussianNB()** to classify these data as before, but this time use your principal components to classify. \n",
    "- Plot your classified data. Does this do a better job than in part 1?\n",
    "\n",
    "# 3.  K mean Clustering\n",
    "- Use the **scikitlearn.KMeans( )** algorithm on your data, using the principal components as your dimensions. \n",
    "- Plot your clustered data. Did the algorithm work?"
   ]
  },
  {
   "cell_type": "code",
   "execution_count": null,
   "metadata": {},
   "outputs": [],
   "source": []
  }
 ],
 "metadata": {
  "kernelspec": {
   "display_name": "Python 3",
   "language": "python",
   "name": "python3"
  },
  "language_info": {
   "codemirror_mode": {
    "name": "ipython",
    "version": 3
   },
   "file_extension": ".py",
   "mimetype": "text/x-python",
   "name": "python",
   "nbconvert_exporter": "python",
   "pygments_lexer": "ipython3",
   "version": "3.6.6"
  }
 },
 "nbformat": 4,
 "nbformat_minor": 2
}
