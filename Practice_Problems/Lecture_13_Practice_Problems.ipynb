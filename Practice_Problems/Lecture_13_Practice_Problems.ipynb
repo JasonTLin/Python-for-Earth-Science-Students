{
 "cells": [
  {
   "cell_type": "markdown",
   "metadata": {},
   "source": [
    "# Practice Problems\n",
    "### Lecture 13\n",
    "Answer each number in a separate cell\n",
    "\n",
    "Rename the notebook with your lastName and the lecture \n",
    "    \n",
    "    ex. Asefaw_13\n",
    "    \n",
    "Turn this notebook into triton-ed by the end of class"
   ]
  },
  {
   "cell_type": "markdown",
   "metadata": {},
   "source": [
    "# 1. Pandas: methods and filters \n",
    "- Import the file 'minutes_velocity.csv' into a pandas dataframe\n",
    "- Find the median velocity from this dataframe (use the function **Series.median( )**). Print the median value\n",
    "- Find the mean velocity (use the function **Series.mean( )**). Print the mean value\n",
    "- Filter your Dataframe- select all the velocities that fall between the median and mean. \n",
    "- Check your work: find the maximum and minimum velocities in the filtered data frame. Print the maximum and minimum values and compare them to the median and mean.\n",
    "\n",
    "# 2. lamda functions\n",
    "\n",
    "- write a regular function that takes latitudes (in degrees) and converts them to colatitudes (in radians)\n",
    "- write a lambda function, **alpha** that takes two longitudes and returns the difference \n",
    "- re-write the function **great_circle( )** as a lambda funtion that takes colat_1, colat_2  and alpha as arguments and returns the latitudinal separation in degrees.  (**Hint:** remember that numpy assumes that the units are in radians)\n",
    "\n",
    "# 3.  Great circles\n",
    "- Use **great_circle( )** to find the angular difference between where you were born and Pinyon Flat (**PF_lat = 33.3,PF_lon = -115.7**).\n",
    "- There are roughly 111 km in one degree, how many kilometers is the distance between your birthplace and Pinyon Flat?  Print the distance\n",
    "\n",
    "# 4.  Formatting strings\n",
    "- set a variable to the value of $\\pi$ (3.14159265358979323846264)\n",
    "- print the value of pi\n",
    "- format the value to have four significant figures.  \n",
    "- print out a sentence with the formatted value of $\\pi$ in it.  \n",
    "- multiply $\\pi$ by 50 and use the exponential form of string formatting to print out 4 significant digits."
   ]
  },
  {
   "cell_type": "code",
   "execution_count": null,
   "metadata": {
    "collapsed": true
   },
   "outputs": [],
   "source": []
  }
 ],
 "metadata": {
  "kernelspec": {
   "display_name": "Python 3",
   "language": "python",
   "name": "python3"
  },
  "language_info": {
   "codemirror_mode": {
    "name": "ipython",
    "version": 3
   },
   "file_extension": ".py",
   "mimetype": "text/x-python",
   "name": "python",
   "nbconvert_exporter": "python",
   "pygments_lexer": "ipython3",
   "version": "3.6.3"
  }
 },
 "nbformat": 4,
 "nbformat_minor": 2
}
