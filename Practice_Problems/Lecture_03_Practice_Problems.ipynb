{
 "cells": [
  {
   "cell_type": "markdown",
   "metadata": {},
   "source": [
    "# Practice Problems\n",
    "### Lecture 3\n",
    "Answer each number in a separate cell\n",
    "\n",
    "Rename this notebook with your last name and the lecture \n",
    "    ex. Asefaw_03\n",
    "    \n",
    "Turn-in this notebook on triton-ed by the end of class"
   ]
  },
  {
   "cell_type": "markdown",
   "metadata": {},
   "source": [
    "### Oceans and Continents\n",
    "1.  Conceptual \n",
    "     - Give an example of when you would  use a set\n",
    "     -  Give an example of when you would use a tuple\n",
    "     -  Give an example of when you would use range() \n",
    "2.  Lists\n",
    "     -  Create an empty list called **oceans**\n",
    "     -  append all the oceans to the list  \n",
    "     -  print the ocean at index 3 in the list  \n",
    "     -  print the last ocean \n",
    "     -  make a shallow copy of **oceans** called **seas** and a deep copy of **oceans** called  **big_water**. Try to modify the copies. Verify that the shallow copy refers to the same underlying object while the deep copy makes an independent object.  \n",
    "     -  Apply the method .sort() to one of your copies and then print the copy\n",
    "3. range()\n",
    "     -  Use the function **range( )** to create a list with a  “range” of numbers from 0 to 100, increment by any number (less than 100) and print the results.\n",
    "4. Tuples\n",
    "     -  Create a tuple called **continents** with the continents as elements.\n",
    "     -  **Try** to change the second element in place\n",
    "     -  print out the third element in the tuple\n",
    "5. Sets\n",
    "     -  create a set from the ocean list you created earlier.\n",
    "     -  print out the set of oceans "
   ]
  }
 ],
 "metadata": {
  "kernelspec": {
   "display_name": "Python 3",
   "language": "python",
   "name": "python3"
  },
  "language_info": {
   "codemirror_mode": {
    "name": "ipython",
    "version": 3
   },
   "file_extension": ".py",
   "mimetype": "text/x-python",
   "name": "python",
   "nbconvert_exporter": "python",
   "pygments_lexer": "ipython3",
   "version": "3.6.3"
  }
 },
 "nbformat": 4,
 "nbformat_minor": 2
}
